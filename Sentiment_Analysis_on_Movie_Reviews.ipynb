{
  "nbformat": 4,
  "nbformat_minor": 0,
  "metadata": {
    "colab": {
      "provenance": [],
      "collapsed_sections": [
        "-vLH5JdgVn7V",
        "5MPkA571Y8a3",
        "ZPIMhAz5bPJe",
        "Hq6ZC9S5KMsr",
        "oMU64rw3TJ1f",
        "MAw7zPrfceK9"
      ],
      "gpuType": "T4",
      "include_colab_link": true
    },
    "kernelspec": {
      "name": "python3",
      "display_name": "Python 3"
    },
    "language_info": {
      "name": "python"
    },
    "accelerator": "GPU"
  },
  "cells": [
    {
      "cell_type": "markdown",
      "metadata": {
        "id": "view-in-github",
        "colab_type": "text"
      },
      "source": [
        "<a href=\"https://colab.research.google.com/github/LysanetsAndriy/Sentiment-Analysis-on-Movie-Reviews/blob/main/Sentiment_Analysis_on_Movie_Reviews.ipynb\" target=\"_parent\"><img src=\"https://colab.research.google.com/assets/colab-badge.svg\" alt=\"Open In Colab\"/></a>"
      ]
    },
    {
      "cell_type": "markdown",
      "metadata": {
        "id": "xFbWBJJFVizC"
      },
      "source": [
        "# Connect to Kaggle"
      ]
    },
    {
      "cell_type": "code",
      "execution_count": null,
      "metadata": {
        "id": "eXIewiNgS5Yw"
      },
      "outputs": [],
      "source": [
        "! pip install -q kaggle"
      ]
    },
    {
      "cell_type": "code",
      "execution_count": null,
      "metadata": {
        "colab": {
          "base_uri": "https://localhost:8080/",
          "height": 90
        },
        "id": "OaT26SwOT7j3",
        "outputId": "b9e74523-65a5-4941-e2d3-678de73383f5"
      },
      "outputs": [
        {
          "output_type": "display_data",
          "data": {
            "text/plain": [
              "<IPython.core.display.HTML object>"
            ],
            "text/html": [
              "\n",
              "     <input type=\"file\" id=\"files-5a979e43-2947-42d3-a89c-3bda4e57586a\" name=\"files[]\" multiple disabled\n",
              "        style=\"border:none\" />\n",
              "     <output id=\"result-5a979e43-2947-42d3-a89c-3bda4e57586a\">\n",
              "      Upload widget is only available when the cell has been executed in the\n",
              "      current browser session. Please rerun this cell to enable.\n",
              "      </output>\n",
              "      <script>// Copyright 2017 Google LLC\n",
              "//\n",
              "// Licensed under the Apache License, Version 2.0 (the \"License\");\n",
              "// you may not use this file except in compliance with the License.\n",
              "// You may obtain a copy of the License at\n",
              "//\n",
              "//      http://www.apache.org/licenses/LICENSE-2.0\n",
              "//\n",
              "// Unless required by applicable law or agreed to in writing, software\n",
              "// distributed under the License is distributed on an \"AS IS\" BASIS,\n",
              "// WITHOUT WARRANTIES OR CONDITIONS OF ANY KIND, either express or implied.\n",
              "// See the License for the specific language governing permissions and\n",
              "// limitations under the License.\n",
              "\n",
              "/**\n",
              " * @fileoverview Helpers for google.colab Python module.\n",
              " */\n",
              "(function(scope) {\n",
              "function span(text, styleAttributes = {}) {\n",
              "  const element = document.createElement('span');\n",
              "  element.textContent = text;\n",
              "  for (const key of Object.keys(styleAttributes)) {\n",
              "    element.style[key] = styleAttributes[key];\n",
              "  }\n",
              "  return element;\n",
              "}\n",
              "\n",
              "// Max number of bytes which will be uploaded at a time.\n",
              "const MAX_PAYLOAD_SIZE = 100 * 1024;\n",
              "\n",
              "function _uploadFiles(inputId, outputId) {\n",
              "  const steps = uploadFilesStep(inputId, outputId);\n",
              "  const outputElement = document.getElementById(outputId);\n",
              "  // Cache steps on the outputElement to make it available for the next call\n",
              "  // to uploadFilesContinue from Python.\n",
              "  outputElement.steps = steps;\n",
              "\n",
              "  return _uploadFilesContinue(outputId);\n",
              "}\n",
              "\n",
              "// This is roughly an async generator (not supported in the browser yet),\n",
              "// where there are multiple asynchronous steps and the Python side is going\n",
              "// to poll for completion of each step.\n",
              "// This uses a Promise to block the python side on completion of each step,\n",
              "// then passes the result of the previous step as the input to the next step.\n",
              "function _uploadFilesContinue(outputId) {\n",
              "  const outputElement = document.getElementById(outputId);\n",
              "  const steps = outputElement.steps;\n",
              "\n",
              "  const next = steps.next(outputElement.lastPromiseValue);\n",
              "  return Promise.resolve(next.value.promise).then((value) => {\n",
              "    // Cache the last promise value to make it available to the next\n",
              "    // step of the generator.\n",
              "    outputElement.lastPromiseValue = value;\n",
              "    return next.value.response;\n",
              "  });\n",
              "}\n",
              "\n",
              "/**\n",
              " * Generator function which is called between each async step of the upload\n",
              " * process.\n",
              " * @param {string} inputId Element ID of the input file picker element.\n",
              " * @param {string} outputId Element ID of the output display.\n",
              " * @return {!Iterable<!Object>} Iterable of next steps.\n",
              " */\n",
              "function* uploadFilesStep(inputId, outputId) {\n",
              "  const inputElement = document.getElementById(inputId);\n",
              "  inputElement.disabled = false;\n",
              "\n",
              "  const outputElement = document.getElementById(outputId);\n",
              "  outputElement.innerHTML = '';\n",
              "\n",
              "  const pickedPromise = new Promise((resolve) => {\n",
              "    inputElement.addEventListener('change', (e) => {\n",
              "      resolve(e.target.files);\n",
              "    });\n",
              "  });\n",
              "\n",
              "  const cancel = document.createElement('button');\n",
              "  inputElement.parentElement.appendChild(cancel);\n",
              "  cancel.textContent = 'Cancel upload';\n",
              "  const cancelPromise = new Promise((resolve) => {\n",
              "    cancel.onclick = () => {\n",
              "      resolve(null);\n",
              "    };\n",
              "  });\n",
              "\n",
              "  // Wait for the user to pick the files.\n",
              "  const files = yield {\n",
              "    promise: Promise.race([pickedPromise, cancelPromise]),\n",
              "    response: {\n",
              "      action: 'starting',\n",
              "    }\n",
              "  };\n",
              "\n",
              "  cancel.remove();\n",
              "\n",
              "  // Disable the input element since further picks are not allowed.\n",
              "  inputElement.disabled = true;\n",
              "\n",
              "  if (!files) {\n",
              "    return {\n",
              "      response: {\n",
              "        action: 'complete',\n",
              "      }\n",
              "    };\n",
              "  }\n",
              "\n",
              "  for (const file of files) {\n",
              "    const li = document.createElement('li');\n",
              "    li.append(span(file.name, {fontWeight: 'bold'}));\n",
              "    li.append(span(\n",
              "        `(${file.type || 'n/a'}) - ${file.size} bytes, ` +\n",
              "        `last modified: ${\n",
              "            file.lastModifiedDate ? file.lastModifiedDate.toLocaleDateString() :\n",
              "                                    'n/a'} - `));\n",
              "    const percent = span('0% done');\n",
              "    li.appendChild(percent);\n",
              "\n",
              "    outputElement.appendChild(li);\n",
              "\n",
              "    const fileDataPromise = new Promise((resolve) => {\n",
              "      const reader = new FileReader();\n",
              "      reader.onload = (e) => {\n",
              "        resolve(e.target.result);\n",
              "      };\n",
              "      reader.readAsArrayBuffer(file);\n",
              "    });\n",
              "    // Wait for the data to be ready.\n",
              "    let fileData = yield {\n",
              "      promise: fileDataPromise,\n",
              "      response: {\n",
              "        action: 'continue',\n",
              "      }\n",
              "    };\n",
              "\n",
              "    // Use a chunked sending to avoid message size limits. See b/62115660.\n",
              "    let position = 0;\n",
              "    do {\n",
              "      const length = Math.min(fileData.byteLength - position, MAX_PAYLOAD_SIZE);\n",
              "      const chunk = new Uint8Array(fileData, position, length);\n",
              "      position += length;\n",
              "\n",
              "      const base64 = btoa(String.fromCharCode.apply(null, chunk));\n",
              "      yield {\n",
              "        response: {\n",
              "          action: 'append',\n",
              "          file: file.name,\n",
              "          data: base64,\n",
              "        },\n",
              "      };\n",
              "\n",
              "      let percentDone = fileData.byteLength === 0 ?\n",
              "          100 :\n",
              "          Math.round((position / fileData.byteLength) * 100);\n",
              "      percent.textContent = `${percentDone}% done`;\n",
              "\n",
              "    } while (position < fileData.byteLength);\n",
              "  }\n",
              "\n",
              "  // All done.\n",
              "  yield {\n",
              "    response: {\n",
              "      action: 'complete',\n",
              "    }\n",
              "  };\n",
              "}\n",
              "\n",
              "scope.google = scope.google || {};\n",
              "scope.google.colab = scope.google.colab || {};\n",
              "scope.google.colab._files = {\n",
              "  _uploadFiles,\n",
              "  _uploadFilesContinue,\n",
              "};\n",
              "})(self);\n",
              "</script> "
            ]
          },
          "metadata": {}
        },
        {
          "output_type": "stream",
          "name": "stdout",
          "text": [
            "Saving kaggle.json to kaggle.json\n"
          ]
        },
        {
          "output_type": "execute_result",
          "data": {
            "text/plain": [
              "{'kaggle.json': b'{\"username\":\"andrewlysanets\",\"key\":\"6e2ede04f9c8489ba9d73e57ed28ea8a\"}'}"
            ]
          },
          "metadata": {},
          "execution_count": 2
        }
      ],
      "source": [
        "from google.colab import files\n",
        "files.upload()"
      ]
    },
    {
      "cell_type": "code",
      "execution_count": null,
      "metadata": {
        "id": "__Ola-IHx9kK"
      },
      "outputs": [],
      "source": [
        "! mkdir ~/.kaggle\n",
        "! cp /content/kaggle.json ~/.kaggle/"
      ]
    },
    {
      "cell_type": "code",
      "execution_count": null,
      "metadata": {
        "id": "w0yNEjtAUJB_"
      },
      "outputs": [],
      "source": [
        "! chmod 600 ~/.kaggle/kaggle.json"
      ]
    },
    {
      "cell_type": "code",
      "execution_count": null,
      "metadata": {
        "colab": {
          "base_uri": "https://localhost:8080/"
        },
        "id": "Bjetv_x8VVBj",
        "outputId": "fc7f9600-c481-40d1-9d21-3d4a0ca2ce92"
      },
      "outputs": [
        {
          "output_type": "stream",
          "name": "stdout",
          "text": [
            "ref                                                               title                                              size  lastUpdated          downloadCount  voteCount  usabilityRating  \n",
            "----------------------------------------------------------------  ------------------------------------------------  -----  -------------------  -------------  ---------  ---------------  \n",
            "abdulmalik1518/mobiles-dataset-2025                               Mobiles Dataset (2025)                             20KB  2025-02-18 06:50:24           9680        175  1.0              \n",
            "atharvasoundankar/chocolate-sales                                 Chocolate Sales Data 📊🍫                            63KB  2025-03-07 05:44:03           2749         36  1.0              \n",
            "ignacioazua/life-expectancy                                       Life Expectancy                                     3KB  2025-03-04 06:16:35           1157         27  1.0              \n",
            "mahmoudelhemaly/students-grading-dataset                          Student Performance & Behavior Dataset            508KB  2025-02-17 17:38:46           7148        116  1.0              \n",
            "asinow/car-price-dataset                                          Car Price Dataset                                 135KB  2025-01-26 19:53:28          26878        417  1.0              \n",
            "asinow/diabetes-dataset                                           Diabetes Dataset                                  224KB  2025-02-20 08:38:56           5260         81  1.0              \n",
            "ankushpanday2/oral-cancer-prediction-dataset                      Oral Cancer Prediction Dataset                      2MB  2025-03-06 14:13:24            628         24  1.0              \n",
            "willianoliveiragibin/odi-cricket-data                             ODI Cricket Data                                   55KB  2025-02-23 22:17:09           1312         24  1.0              \n",
            "smayanj/netflix-users-database                                    Netflix Users Database                            354KB  2025-03-08 12:08:09            404         29  1.0              \n",
            "vinothkannaece/sales-dataset                                      sales dataset                                      27KB  2025-02-18 05:13:42           5870         80  1.0              \n",
            "smayanj/e-commerce-transactions-dataset                           E-Commerce Transactions Dataset                   749KB  2025-03-08 12:20:45            521         36  1.0              \n",
            "logiccraftbyhimanshi/e-commerce-analytics-swiggy-zomato-blinkit   E-Commerce Analytics: Swiggy, Zomato, Blinkit       1MB  2025-02-26 16:50:07           1174         21  0.88235295       \n",
            "samayashar/startup-growth-and-funding-trends                      Startup Growth & Funding Trends                    12KB  2025-02-25 18:00:32            595         23  1.0              \n",
            "amrmaree/student-performance-prediction                           Student Performance Prediction                     11KB  2025-03-03 15:46:10           1320         26  0.9411765        \n",
            "anandshaw2001/video-game-sales                                    Video Game Sales                                  381KB  2025-02-23 05:16:04            987         40  1.0              \n",
            "atharvasoundankar/futuristic-smart-city-citizen-activity-dataset  📊 Futuristic Smart City Citizen Activity Dataset   23KB  2025-03-06 04:58:22            578         29  1.0              \n",
            "adilshamim8/student-performance-and-learning-style                Student Performance & Learning Style              148KB  2025-02-12 06:12:07           3183         51  1.0              \n",
            "sujalsuthar/food-delivery-order-history-data                      Food Delivery Order History Data                    2MB  2025-02-14 02:52:38           1275         26  1.0              \n",
            "samikshadalvi/lungs-diseases-dataset                              Lungs Diseases Dataset                             40KB  2025-02-25 01:51:36           1807         37  1.0              \n",
            "ankushpanday2/colorectal-cancer-global-dataset-and-predictions    Colorectal Cancer Global Dataset & Predictions      4MB  2025-02-27 18:30:45           1253         30  1.0              \n"
          ]
        }
      ],
      "source": [
        "! kaggle datasets list"
      ]
    },
    {
      "cell_type": "markdown",
      "metadata": {
        "id": "-vLH5JdgVn7V"
      },
      "source": [
        "# Donwload Kaggle dataset for Sentiment Analysis on Movie Reviews"
      ]
    },
    {
      "cell_type": "code",
      "execution_count": null,
      "metadata": {
        "colab": {
          "base_uri": "https://localhost:8080/"
        },
        "id": "FP0l8yKSVtuX",
        "outputId": "296c3910-2242-488f-a769-37ad88eea110"
      },
      "outputs": [
        {
          "output_type": "stream",
          "name": "stdout",
          "text": [
            "Downloading sentiment-analysis-on-movie-reviews.zip to /content\n",
            "\r  0% 0.00/1.90M [00:00<?, ?B/s]\n",
            "\r100% 1.90M/1.90M [00:00<00:00, 159MB/s]\n"
          ]
        }
      ],
      "source": [
        "! kaggle competitions download -c 'sentiment-analysis-on-movie-reviews'"
      ]
    },
    {
      "cell_type": "code",
      "execution_count": null,
      "metadata": {
        "id": "SlPYq65fX24L"
      },
      "outputs": [],
      "source": [
        "! mkdir data"
      ]
    },
    {
      "cell_type": "code",
      "execution_count": null,
      "metadata": {
        "colab": {
          "base_uri": "https://localhost:8080/"
        },
        "id": "IRIuHMcrYBwg",
        "outputId": "81e8bee6-6a10-4221-ec56-36e2de2736dc"
      },
      "outputs": [
        {
          "output_type": "stream",
          "name": "stdout",
          "text": [
            "Archive:  sentiment-analysis-on-movie-reviews.zip\n",
            "  inflating: data/sampleSubmission.csv  \n",
            "  inflating: data/test.tsv.zip       \n",
            "  inflating: data/train.tsv.zip      \n"
          ]
        }
      ],
      "source": [
        "! unzip sentiment-analysis-on-movie-reviews.zip -d data"
      ]
    },
    {
      "cell_type": "code",
      "execution_count": null,
      "metadata": {
        "id": "xJIh4uVMYGB7"
      },
      "outputs": [],
      "source": [
        "! mkdir data/train\n",
        "! mkdir data/test"
      ]
    },
    {
      "cell_type": "code",
      "execution_count": null,
      "metadata": {
        "colab": {
          "base_uri": "https://localhost:8080/"
        },
        "id": "6fPgTrBfYQen",
        "outputId": "2184ebd2-0b14-4bf4-b507-70e3ba3ee50b"
      },
      "outputs": [
        {
          "output_type": "stream",
          "name": "stdout",
          "text": [
            "Archive:  data/train.tsv.zip\n",
            "  inflating: data/train/train.tsv    \n",
            "Archive:  data/test.tsv.zip\n",
            "  inflating: data/test/test.tsv      \n"
          ]
        }
      ],
      "source": [
        "! unzip data/train.tsv.zip -d data/train\n",
        "! unzip data/test.tsv.zip -d data/test"
      ]
    },
    {
      "cell_type": "markdown",
      "metadata": {
        "id": "5MPkA571Y8a3"
      },
      "source": [
        "# Import packages"
      ]
    },
    {
      "cell_type": "code",
      "execution_count": null,
      "metadata": {
        "id": "wpDhXrnQZC0F"
      },
      "outputs": [],
      "source": [
        "import numpy as np\n",
        "import pandas as pd\n",
        "from typing import List, Dict, Any\n",
        "import re\n",
        "import zipfile\n",
        "import matplotlib.pyplot as plt\n",
        "import random\n",
        "import math\n",
        "import seaborn as sns\n",
        "from collections import Counter\n",
        "import torch\n",
        "from torch.nn.utils.rnn import pad_sequence, pack_padded_sequence\n",
        "from torch import nn\n",
        "from torch import optim\n",
        "from torchsummary import summary\n",
        "from torch.utils.tensorboard import SummaryWriter\n",
        "from torch.utils.data import Dataset, DataLoader, TensorDataset\n",
        "from torch.utils.tensorboard import SummaryWriter\n",
        "from torch.optim.lr_scheduler import ReduceLROnPlateau\n",
        "import torch.nn.functional as F\n",
        "import torch.optim.lr_scheduler as lr_scheduler\n",
        "\n",
        "from tqdm import tqdm\n",
        "\n",
        "from sklearn.model_selection import train_test_split\n",
        "from sklearn.metrics import confusion_matrix, accuracy_score, f1_score"
      ]
    },
    {
      "cell_type": "markdown",
      "metadata": {
        "id": "ZPIMhAz5bPJe"
      },
      "source": [
        "# Configs"
      ]
    },
    {
      "cell_type": "code",
      "execution_count": null,
      "metadata": {
        "id": "TRgHsIMWZkbg"
      },
      "outputs": [],
      "source": [
        "class Config:\n",
        "  #path\n",
        "  train_path = 'data/train/train.tsv'\n",
        "  test_path = 'data/test/test.tsv'\n",
        "  look_up_id_path = 'data/IdLookupTable.csv'\n",
        "\n",
        "  #data\n",
        "  logdir = 'logdir'\n",
        "  num_labels = 5\n",
        "  validation_fraction = 0.3\n",
        "  batch_size = 4096\n",
        "  clip_value = 3\n",
        "\n",
        "  #model\n",
        "  embedding_dim=300\n",
        "  hidden_size=512\n",
        "  num_layers=3\n",
        "  num_classes=5\n",
        "  drop_prob=0.7\n",
        "  pad_idx=0\n",
        "  bidirectional=True\n",
        "\n",
        "  num_epochs = 75\n",
        "  seed = 42\n",
        "  learning_rate = 2e-4\n",
        "  weight_decay = 1e-2\n",
        "  device = torch.device('cuda') if torch.cuda.is_available() else torch.device('cpu')"
      ]
    },
    {
      "cell_type": "code",
      "execution_count": null,
      "metadata": {
        "id": "NgRBzgRc7EUy"
      },
      "outputs": [],
      "source": [
        "def set_seed(seed):\n",
        "    random.seed(seed)\n",
        "    np.random.seed(seed)\n",
        "    torch.manual_seed(seed)\n",
        "\n",
        "set_seed(Config.seed)"
      ]
    },
    {
      "cell_type": "markdown",
      "source": [
        "# Analyze data"
      ],
      "metadata": {
        "id": "YAImf8QplWIa"
      }
    },
    {
      "cell_type": "code",
      "source": [
        "train = pd.read_csv(Config.train_path, sep='\\t')\n",
        "test = pd.read_csv(Config.test_path, sep='\\t')"
      ],
      "metadata": {
        "id": "_DBLNe_IlaD5"
      },
      "execution_count": null,
      "outputs": []
    },
    {
      "cell_type": "code",
      "source": [
        "test.tail()"
      ],
      "metadata": {
        "colab": {
          "base_uri": "https://localhost:8080/",
          "height": 206
        },
        "id": "79mmoAqYhXbs",
        "outputId": "6caa6a55-899b-44e1-e3be-3f0782d45fdd"
      },
      "execution_count": null,
      "outputs": [
        {
          "output_type": "execute_result",
          "data": {
            "text/plain": [
              "       PhraseId  SentenceId                                  Phrase\n",
              "66287    222348       11855  A long-winded , predictable scenario .\n",
              "66288    222349       11855    A long-winded , predictable scenario\n",
              "66289    222350       11855                         A long-winded ,\n",
              "66290    222351       11855                           A long-winded\n",
              "66291    222352       11855                    predictable scenario"
            ],
            "text/html": [
              "\n",
              "  <div id=\"df-5d22bf38-72f6-4104-8933-a8e29d208d82\" class=\"colab-df-container\">\n",
              "    <div>\n",
              "<style scoped>\n",
              "    .dataframe tbody tr th:only-of-type {\n",
              "        vertical-align: middle;\n",
              "    }\n",
              "\n",
              "    .dataframe tbody tr th {\n",
              "        vertical-align: top;\n",
              "    }\n",
              "\n",
              "    .dataframe thead th {\n",
              "        text-align: right;\n",
              "    }\n",
              "</style>\n",
              "<table border=\"1\" class=\"dataframe\">\n",
              "  <thead>\n",
              "    <tr style=\"text-align: right;\">\n",
              "      <th></th>\n",
              "      <th>PhraseId</th>\n",
              "      <th>SentenceId</th>\n",
              "      <th>Phrase</th>\n",
              "    </tr>\n",
              "  </thead>\n",
              "  <tbody>\n",
              "    <tr>\n",
              "      <th>66287</th>\n",
              "      <td>222348</td>\n",
              "      <td>11855</td>\n",
              "      <td>A long-winded , predictable scenario .</td>\n",
              "    </tr>\n",
              "    <tr>\n",
              "      <th>66288</th>\n",
              "      <td>222349</td>\n",
              "      <td>11855</td>\n",
              "      <td>A long-winded , predictable scenario</td>\n",
              "    </tr>\n",
              "    <tr>\n",
              "      <th>66289</th>\n",
              "      <td>222350</td>\n",
              "      <td>11855</td>\n",
              "      <td>A long-winded ,</td>\n",
              "    </tr>\n",
              "    <tr>\n",
              "      <th>66290</th>\n",
              "      <td>222351</td>\n",
              "      <td>11855</td>\n",
              "      <td>A long-winded</td>\n",
              "    </tr>\n",
              "    <tr>\n",
              "      <th>66291</th>\n",
              "      <td>222352</td>\n",
              "      <td>11855</td>\n",
              "      <td>predictable scenario</td>\n",
              "    </tr>\n",
              "  </tbody>\n",
              "</table>\n",
              "</div>\n",
              "    <div class=\"colab-df-buttons\">\n",
              "\n",
              "  <div class=\"colab-df-container\">\n",
              "    <button class=\"colab-df-convert\" onclick=\"convertToInteractive('df-5d22bf38-72f6-4104-8933-a8e29d208d82')\"\n",
              "            title=\"Convert this dataframe to an interactive table.\"\n",
              "            style=\"display:none;\">\n",
              "\n",
              "  <svg xmlns=\"http://www.w3.org/2000/svg\" height=\"24px\" viewBox=\"0 -960 960 960\">\n",
              "    <path d=\"M120-120v-720h720v720H120Zm60-500h600v-160H180v160Zm220 220h160v-160H400v160Zm0 220h160v-160H400v160ZM180-400h160v-160H180v160Zm440 0h160v-160H620v160ZM180-180h160v-160H180v160Zm440 0h160v-160H620v160Z\"/>\n",
              "  </svg>\n",
              "    </button>\n",
              "\n",
              "  <style>\n",
              "    .colab-df-container {\n",
              "      display:flex;\n",
              "      gap: 12px;\n",
              "    }\n",
              "\n",
              "    .colab-df-convert {\n",
              "      background-color: #E8F0FE;\n",
              "      border: none;\n",
              "      border-radius: 50%;\n",
              "      cursor: pointer;\n",
              "      display: none;\n",
              "      fill: #1967D2;\n",
              "      height: 32px;\n",
              "      padding: 0 0 0 0;\n",
              "      width: 32px;\n",
              "    }\n",
              "\n",
              "    .colab-df-convert:hover {\n",
              "      background-color: #E2EBFA;\n",
              "      box-shadow: 0px 1px 2px rgba(60, 64, 67, 0.3), 0px 1px 3px 1px rgba(60, 64, 67, 0.15);\n",
              "      fill: #174EA6;\n",
              "    }\n",
              "\n",
              "    .colab-df-buttons div {\n",
              "      margin-bottom: 4px;\n",
              "    }\n",
              "\n",
              "    [theme=dark] .colab-df-convert {\n",
              "      background-color: #3B4455;\n",
              "      fill: #D2E3FC;\n",
              "    }\n",
              "\n",
              "    [theme=dark] .colab-df-convert:hover {\n",
              "      background-color: #434B5C;\n",
              "      box-shadow: 0px 1px 3px 1px rgba(0, 0, 0, 0.15);\n",
              "      filter: drop-shadow(0px 1px 2px rgba(0, 0, 0, 0.3));\n",
              "      fill: #FFFFFF;\n",
              "    }\n",
              "  </style>\n",
              "\n",
              "    <script>\n",
              "      const buttonEl =\n",
              "        document.querySelector('#df-5d22bf38-72f6-4104-8933-a8e29d208d82 button.colab-df-convert');\n",
              "      buttonEl.style.display =\n",
              "        google.colab.kernel.accessAllowed ? 'block' : 'none';\n",
              "\n",
              "      async function convertToInteractive(key) {\n",
              "        const element = document.querySelector('#df-5d22bf38-72f6-4104-8933-a8e29d208d82');\n",
              "        const dataTable =\n",
              "          await google.colab.kernel.invokeFunction('convertToInteractive',\n",
              "                                                    [key], {});\n",
              "        if (!dataTable) return;\n",
              "\n",
              "        const docLinkHtml = 'Like what you see? Visit the ' +\n",
              "          '<a target=\"_blank\" href=https://colab.research.google.com/notebooks/data_table.ipynb>data table notebook</a>'\n",
              "          + ' to learn more about interactive tables.';\n",
              "        element.innerHTML = '';\n",
              "        dataTable['output_type'] = 'display_data';\n",
              "        await google.colab.output.renderOutput(dataTable, element);\n",
              "        const docLink = document.createElement('div');\n",
              "        docLink.innerHTML = docLinkHtml;\n",
              "        element.appendChild(docLink);\n",
              "      }\n",
              "    </script>\n",
              "  </div>\n",
              "\n",
              "\n",
              "<div id=\"df-1dd369c6-67fc-4703-a653-6e6c701c63d0\">\n",
              "  <button class=\"colab-df-quickchart\" onclick=\"quickchart('df-1dd369c6-67fc-4703-a653-6e6c701c63d0')\"\n",
              "            title=\"Suggest charts\"\n",
              "            style=\"display:none;\">\n",
              "\n",
              "<svg xmlns=\"http://www.w3.org/2000/svg\" height=\"24px\"viewBox=\"0 0 24 24\"\n",
              "     width=\"24px\">\n",
              "    <g>\n",
              "        <path d=\"M19 3H5c-1.1 0-2 .9-2 2v14c0 1.1.9 2 2 2h14c1.1 0 2-.9 2-2V5c0-1.1-.9-2-2-2zM9 17H7v-7h2v7zm4 0h-2V7h2v10zm4 0h-2v-4h2v4z\"/>\n",
              "    </g>\n",
              "</svg>\n",
              "  </button>\n",
              "\n",
              "<style>\n",
              "  .colab-df-quickchart {\n",
              "      --bg-color: #E8F0FE;\n",
              "      --fill-color: #1967D2;\n",
              "      --hover-bg-color: #E2EBFA;\n",
              "      --hover-fill-color: #174EA6;\n",
              "      --disabled-fill-color: #AAA;\n",
              "      --disabled-bg-color: #DDD;\n",
              "  }\n",
              "\n",
              "  [theme=dark] .colab-df-quickchart {\n",
              "      --bg-color: #3B4455;\n",
              "      --fill-color: #D2E3FC;\n",
              "      --hover-bg-color: #434B5C;\n",
              "      --hover-fill-color: #FFFFFF;\n",
              "      --disabled-bg-color: #3B4455;\n",
              "      --disabled-fill-color: #666;\n",
              "  }\n",
              "\n",
              "  .colab-df-quickchart {\n",
              "    background-color: var(--bg-color);\n",
              "    border: none;\n",
              "    border-radius: 50%;\n",
              "    cursor: pointer;\n",
              "    display: none;\n",
              "    fill: var(--fill-color);\n",
              "    height: 32px;\n",
              "    padding: 0;\n",
              "    width: 32px;\n",
              "  }\n",
              "\n",
              "  .colab-df-quickchart:hover {\n",
              "    background-color: var(--hover-bg-color);\n",
              "    box-shadow: 0 1px 2px rgba(60, 64, 67, 0.3), 0 1px 3px 1px rgba(60, 64, 67, 0.15);\n",
              "    fill: var(--button-hover-fill-color);\n",
              "  }\n",
              "\n",
              "  .colab-df-quickchart-complete:disabled,\n",
              "  .colab-df-quickchart-complete:disabled:hover {\n",
              "    background-color: var(--disabled-bg-color);\n",
              "    fill: var(--disabled-fill-color);\n",
              "    box-shadow: none;\n",
              "  }\n",
              "\n",
              "  .colab-df-spinner {\n",
              "    border: 2px solid var(--fill-color);\n",
              "    border-color: transparent;\n",
              "    border-bottom-color: var(--fill-color);\n",
              "    animation:\n",
              "      spin 1s steps(1) infinite;\n",
              "  }\n",
              "\n",
              "  @keyframes spin {\n",
              "    0% {\n",
              "      border-color: transparent;\n",
              "      border-bottom-color: var(--fill-color);\n",
              "      border-left-color: var(--fill-color);\n",
              "    }\n",
              "    20% {\n",
              "      border-color: transparent;\n",
              "      border-left-color: var(--fill-color);\n",
              "      border-top-color: var(--fill-color);\n",
              "    }\n",
              "    30% {\n",
              "      border-color: transparent;\n",
              "      border-left-color: var(--fill-color);\n",
              "      border-top-color: var(--fill-color);\n",
              "      border-right-color: var(--fill-color);\n",
              "    }\n",
              "    40% {\n",
              "      border-color: transparent;\n",
              "      border-right-color: var(--fill-color);\n",
              "      border-top-color: var(--fill-color);\n",
              "    }\n",
              "    60% {\n",
              "      border-color: transparent;\n",
              "      border-right-color: var(--fill-color);\n",
              "    }\n",
              "    80% {\n",
              "      border-color: transparent;\n",
              "      border-right-color: var(--fill-color);\n",
              "      border-bottom-color: var(--fill-color);\n",
              "    }\n",
              "    90% {\n",
              "      border-color: transparent;\n",
              "      border-bottom-color: var(--fill-color);\n",
              "    }\n",
              "  }\n",
              "</style>\n",
              "\n",
              "  <script>\n",
              "    async function quickchart(key) {\n",
              "      const quickchartButtonEl =\n",
              "        document.querySelector('#' + key + ' button');\n",
              "      quickchartButtonEl.disabled = true;  // To prevent multiple clicks.\n",
              "      quickchartButtonEl.classList.add('colab-df-spinner');\n",
              "      try {\n",
              "        const charts = await google.colab.kernel.invokeFunction(\n",
              "            'suggestCharts', [key], {});\n",
              "      } catch (error) {\n",
              "        console.error('Error during call to suggestCharts:', error);\n",
              "      }\n",
              "      quickchartButtonEl.classList.remove('colab-df-spinner');\n",
              "      quickchartButtonEl.classList.add('colab-df-quickchart-complete');\n",
              "    }\n",
              "    (() => {\n",
              "      let quickchartButtonEl =\n",
              "        document.querySelector('#df-1dd369c6-67fc-4703-a653-6e6c701c63d0 button');\n",
              "      quickchartButtonEl.style.display =\n",
              "        google.colab.kernel.accessAllowed ? 'block' : 'none';\n",
              "    })();\n",
              "  </script>\n",
              "</div>\n",
              "    </div>\n",
              "  </div>\n"
            ],
            "application/vnd.google.colaboratory.intrinsic+json": {
              "type": "dataframe",
              "summary": "{\n  \"name\": \"test\",\n  \"rows\": 5,\n  \"fields\": [\n    {\n      \"column\": \"PhraseId\",\n      \"properties\": {\n        \"dtype\": \"number\",\n        \"std\": 1,\n        \"min\": 222348,\n        \"max\": 222352,\n        \"num_unique_values\": 5,\n        \"samples\": [\n          222349,\n          222352,\n          222350\n        ],\n        \"semantic_type\": \"\",\n        \"description\": \"\"\n      }\n    },\n    {\n      \"column\": \"SentenceId\",\n      \"properties\": {\n        \"dtype\": \"number\",\n        \"std\": 0,\n        \"min\": 11855,\n        \"max\": 11855,\n        \"num_unique_values\": 1,\n        \"samples\": [\n          11855\n        ],\n        \"semantic_type\": \"\",\n        \"description\": \"\"\n      }\n    },\n    {\n      \"column\": \"Phrase\",\n      \"properties\": {\n        \"dtype\": \"string\",\n        \"num_unique_values\": 5,\n        \"samples\": [\n          \"A long-winded , predictable scenario\"\n        ],\n        \"semantic_type\": \"\",\n        \"description\": \"\"\n      }\n    }\n  ]\n}"
            }
          },
          "metadata": {},
          "execution_count": 16
        }
      ]
    },
    {
      "cell_type": "code",
      "source": [
        "train = train.dropna()\n",
        "test = test.fillna('.')"
      ],
      "metadata": {
        "id": "nbnQfJr6NlK5"
      },
      "execution_count": null,
      "outputs": []
    },
    {
      "cell_type": "code",
      "source": [
        "test.tail()"
      ],
      "metadata": {
        "colab": {
          "base_uri": "https://localhost:8080/",
          "height": 206
        },
        "id": "YsrKpfHvL9ml",
        "outputId": "306d0ea2-4e4f-452b-c99f-19ec43fb31c0"
      },
      "execution_count": null,
      "outputs": [
        {
          "output_type": "execute_result",
          "data": {
            "text/plain": [
              "       PhraseId  SentenceId                                  Phrase\n",
              "66287    222348       11855  A long-winded , predictable scenario .\n",
              "66288    222349       11855    A long-winded , predictable scenario\n",
              "66289    222350       11855                         A long-winded ,\n",
              "66290    222351       11855                           A long-winded\n",
              "66291    222352       11855                    predictable scenario"
            ],
            "text/html": [
              "\n",
              "  <div id=\"df-dd6bfbb0-f205-4950-8a08-ab9ad4a0a674\" class=\"colab-df-container\">\n",
              "    <div>\n",
              "<style scoped>\n",
              "    .dataframe tbody tr th:only-of-type {\n",
              "        vertical-align: middle;\n",
              "    }\n",
              "\n",
              "    .dataframe tbody tr th {\n",
              "        vertical-align: top;\n",
              "    }\n",
              "\n",
              "    .dataframe thead th {\n",
              "        text-align: right;\n",
              "    }\n",
              "</style>\n",
              "<table border=\"1\" class=\"dataframe\">\n",
              "  <thead>\n",
              "    <tr style=\"text-align: right;\">\n",
              "      <th></th>\n",
              "      <th>PhraseId</th>\n",
              "      <th>SentenceId</th>\n",
              "      <th>Phrase</th>\n",
              "    </tr>\n",
              "  </thead>\n",
              "  <tbody>\n",
              "    <tr>\n",
              "      <th>66287</th>\n",
              "      <td>222348</td>\n",
              "      <td>11855</td>\n",
              "      <td>A long-winded , predictable scenario .</td>\n",
              "    </tr>\n",
              "    <tr>\n",
              "      <th>66288</th>\n",
              "      <td>222349</td>\n",
              "      <td>11855</td>\n",
              "      <td>A long-winded , predictable scenario</td>\n",
              "    </tr>\n",
              "    <tr>\n",
              "      <th>66289</th>\n",
              "      <td>222350</td>\n",
              "      <td>11855</td>\n",
              "      <td>A long-winded ,</td>\n",
              "    </tr>\n",
              "    <tr>\n",
              "      <th>66290</th>\n",
              "      <td>222351</td>\n",
              "      <td>11855</td>\n",
              "      <td>A long-winded</td>\n",
              "    </tr>\n",
              "    <tr>\n",
              "      <th>66291</th>\n",
              "      <td>222352</td>\n",
              "      <td>11855</td>\n",
              "      <td>predictable scenario</td>\n",
              "    </tr>\n",
              "  </tbody>\n",
              "</table>\n",
              "</div>\n",
              "    <div class=\"colab-df-buttons\">\n",
              "\n",
              "  <div class=\"colab-df-container\">\n",
              "    <button class=\"colab-df-convert\" onclick=\"convertToInteractive('df-dd6bfbb0-f205-4950-8a08-ab9ad4a0a674')\"\n",
              "            title=\"Convert this dataframe to an interactive table.\"\n",
              "            style=\"display:none;\">\n",
              "\n",
              "  <svg xmlns=\"http://www.w3.org/2000/svg\" height=\"24px\" viewBox=\"0 -960 960 960\">\n",
              "    <path d=\"M120-120v-720h720v720H120Zm60-500h600v-160H180v160Zm220 220h160v-160H400v160Zm0 220h160v-160H400v160ZM180-400h160v-160H180v160Zm440 0h160v-160H620v160ZM180-180h160v-160H180v160Zm440 0h160v-160H620v160Z\"/>\n",
              "  </svg>\n",
              "    </button>\n",
              "\n",
              "  <style>\n",
              "    .colab-df-container {\n",
              "      display:flex;\n",
              "      gap: 12px;\n",
              "    }\n",
              "\n",
              "    .colab-df-convert {\n",
              "      background-color: #E8F0FE;\n",
              "      border: none;\n",
              "      border-radius: 50%;\n",
              "      cursor: pointer;\n",
              "      display: none;\n",
              "      fill: #1967D2;\n",
              "      height: 32px;\n",
              "      padding: 0 0 0 0;\n",
              "      width: 32px;\n",
              "    }\n",
              "\n",
              "    .colab-df-convert:hover {\n",
              "      background-color: #E2EBFA;\n",
              "      box-shadow: 0px 1px 2px rgba(60, 64, 67, 0.3), 0px 1px 3px 1px rgba(60, 64, 67, 0.15);\n",
              "      fill: #174EA6;\n",
              "    }\n",
              "\n",
              "    .colab-df-buttons div {\n",
              "      margin-bottom: 4px;\n",
              "    }\n",
              "\n",
              "    [theme=dark] .colab-df-convert {\n",
              "      background-color: #3B4455;\n",
              "      fill: #D2E3FC;\n",
              "    }\n",
              "\n",
              "    [theme=dark] .colab-df-convert:hover {\n",
              "      background-color: #434B5C;\n",
              "      box-shadow: 0px 1px 3px 1px rgba(0, 0, 0, 0.15);\n",
              "      filter: drop-shadow(0px 1px 2px rgba(0, 0, 0, 0.3));\n",
              "      fill: #FFFFFF;\n",
              "    }\n",
              "  </style>\n",
              "\n",
              "    <script>\n",
              "      const buttonEl =\n",
              "        document.querySelector('#df-dd6bfbb0-f205-4950-8a08-ab9ad4a0a674 button.colab-df-convert');\n",
              "      buttonEl.style.display =\n",
              "        google.colab.kernel.accessAllowed ? 'block' : 'none';\n",
              "\n",
              "      async function convertToInteractive(key) {\n",
              "        const element = document.querySelector('#df-dd6bfbb0-f205-4950-8a08-ab9ad4a0a674');\n",
              "        const dataTable =\n",
              "          await google.colab.kernel.invokeFunction('convertToInteractive',\n",
              "                                                    [key], {});\n",
              "        if (!dataTable) return;\n",
              "\n",
              "        const docLinkHtml = 'Like what you see? Visit the ' +\n",
              "          '<a target=\"_blank\" href=https://colab.research.google.com/notebooks/data_table.ipynb>data table notebook</a>'\n",
              "          + ' to learn more about interactive tables.';\n",
              "        element.innerHTML = '';\n",
              "        dataTable['output_type'] = 'display_data';\n",
              "        await google.colab.output.renderOutput(dataTable, element);\n",
              "        const docLink = document.createElement('div');\n",
              "        docLink.innerHTML = docLinkHtml;\n",
              "        element.appendChild(docLink);\n",
              "      }\n",
              "    </script>\n",
              "  </div>\n",
              "\n",
              "\n",
              "<div id=\"df-a438efe2-86bb-4417-a92a-3ab8e8dd5e99\">\n",
              "  <button class=\"colab-df-quickchart\" onclick=\"quickchart('df-a438efe2-86bb-4417-a92a-3ab8e8dd5e99')\"\n",
              "            title=\"Suggest charts\"\n",
              "            style=\"display:none;\">\n",
              "\n",
              "<svg xmlns=\"http://www.w3.org/2000/svg\" height=\"24px\"viewBox=\"0 0 24 24\"\n",
              "     width=\"24px\">\n",
              "    <g>\n",
              "        <path d=\"M19 3H5c-1.1 0-2 .9-2 2v14c0 1.1.9 2 2 2h14c1.1 0 2-.9 2-2V5c0-1.1-.9-2-2-2zM9 17H7v-7h2v7zm4 0h-2V7h2v10zm4 0h-2v-4h2v4z\"/>\n",
              "    </g>\n",
              "</svg>\n",
              "  </button>\n",
              "\n",
              "<style>\n",
              "  .colab-df-quickchart {\n",
              "      --bg-color: #E8F0FE;\n",
              "      --fill-color: #1967D2;\n",
              "      --hover-bg-color: #E2EBFA;\n",
              "      --hover-fill-color: #174EA6;\n",
              "      --disabled-fill-color: #AAA;\n",
              "      --disabled-bg-color: #DDD;\n",
              "  }\n",
              "\n",
              "  [theme=dark] .colab-df-quickchart {\n",
              "      --bg-color: #3B4455;\n",
              "      --fill-color: #D2E3FC;\n",
              "      --hover-bg-color: #434B5C;\n",
              "      --hover-fill-color: #FFFFFF;\n",
              "      --disabled-bg-color: #3B4455;\n",
              "      --disabled-fill-color: #666;\n",
              "  }\n",
              "\n",
              "  .colab-df-quickchart {\n",
              "    background-color: var(--bg-color);\n",
              "    border: none;\n",
              "    border-radius: 50%;\n",
              "    cursor: pointer;\n",
              "    display: none;\n",
              "    fill: var(--fill-color);\n",
              "    height: 32px;\n",
              "    padding: 0;\n",
              "    width: 32px;\n",
              "  }\n",
              "\n",
              "  .colab-df-quickchart:hover {\n",
              "    background-color: var(--hover-bg-color);\n",
              "    box-shadow: 0 1px 2px rgba(60, 64, 67, 0.3), 0 1px 3px 1px rgba(60, 64, 67, 0.15);\n",
              "    fill: var(--button-hover-fill-color);\n",
              "  }\n",
              "\n",
              "  .colab-df-quickchart-complete:disabled,\n",
              "  .colab-df-quickchart-complete:disabled:hover {\n",
              "    background-color: var(--disabled-bg-color);\n",
              "    fill: var(--disabled-fill-color);\n",
              "    box-shadow: none;\n",
              "  }\n",
              "\n",
              "  .colab-df-spinner {\n",
              "    border: 2px solid var(--fill-color);\n",
              "    border-color: transparent;\n",
              "    border-bottom-color: var(--fill-color);\n",
              "    animation:\n",
              "      spin 1s steps(1) infinite;\n",
              "  }\n",
              "\n",
              "  @keyframes spin {\n",
              "    0% {\n",
              "      border-color: transparent;\n",
              "      border-bottom-color: var(--fill-color);\n",
              "      border-left-color: var(--fill-color);\n",
              "    }\n",
              "    20% {\n",
              "      border-color: transparent;\n",
              "      border-left-color: var(--fill-color);\n",
              "      border-top-color: var(--fill-color);\n",
              "    }\n",
              "    30% {\n",
              "      border-color: transparent;\n",
              "      border-left-color: var(--fill-color);\n",
              "      border-top-color: var(--fill-color);\n",
              "      border-right-color: var(--fill-color);\n",
              "    }\n",
              "    40% {\n",
              "      border-color: transparent;\n",
              "      border-right-color: var(--fill-color);\n",
              "      border-top-color: var(--fill-color);\n",
              "    }\n",
              "    60% {\n",
              "      border-color: transparent;\n",
              "      border-right-color: var(--fill-color);\n",
              "    }\n",
              "    80% {\n",
              "      border-color: transparent;\n",
              "      border-right-color: var(--fill-color);\n",
              "      border-bottom-color: var(--fill-color);\n",
              "    }\n",
              "    90% {\n",
              "      border-color: transparent;\n",
              "      border-bottom-color: var(--fill-color);\n",
              "    }\n",
              "  }\n",
              "</style>\n",
              "\n",
              "  <script>\n",
              "    async function quickchart(key) {\n",
              "      const quickchartButtonEl =\n",
              "        document.querySelector('#' + key + ' button');\n",
              "      quickchartButtonEl.disabled = true;  // To prevent multiple clicks.\n",
              "      quickchartButtonEl.classList.add('colab-df-spinner');\n",
              "      try {\n",
              "        const charts = await google.colab.kernel.invokeFunction(\n",
              "            'suggestCharts', [key], {});\n",
              "      } catch (error) {\n",
              "        console.error('Error during call to suggestCharts:', error);\n",
              "      }\n",
              "      quickchartButtonEl.classList.remove('colab-df-spinner');\n",
              "      quickchartButtonEl.classList.add('colab-df-quickchart-complete');\n",
              "    }\n",
              "    (() => {\n",
              "      let quickchartButtonEl =\n",
              "        document.querySelector('#df-a438efe2-86bb-4417-a92a-3ab8e8dd5e99 button');\n",
              "      quickchartButtonEl.style.display =\n",
              "        google.colab.kernel.accessAllowed ? 'block' : 'none';\n",
              "    })();\n",
              "  </script>\n",
              "</div>\n",
              "    </div>\n",
              "  </div>\n"
            ],
            "application/vnd.google.colaboratory.intrinsic+json": {
              "type": "dataframe",
              "summary": "{\n  \"name\": \"test\",\n  \"rows\": 5,\n  \"fields\": [\n    {\n      \"column\": \"PhraseId\",\n      \"properties\": {\n        \"dtype\": \"number\",\n        \"std\": 1,\n        \"min\": 222348,\n        \"max\": 222352,\n        \"num_unique_values\": 5,\n        \"samples\": [\n          222349,\n          222352,\n          222350\n        ],\n        \"semantic_type\": \"\",\n        \"description\": \"\"\n      }\n    },\n    {\n      \"column\": \"SentenceId\",\n      \"properties\": {\n        \"dtype\": \"number\",\n        \"std\": 0,\n        \"min\": 11855,\n        \"max\": 11855,\n        \"num_unique_values\": 1,\n        \"samples\": [\n          11855\n        ],\n        \"semantic_type\": \"\",\n        \"description\": \"\"\n      }\n    },\n    {\n      \"column\": \"Phrase\",\n      \"properties\": {\n        \"dtype\": \"string\",\n        \"num_unique_values\": 5,\n        \"samples\": [\n          \"A long-winded , predictable scenario\"\n        ],\n        \"semantic_type\": \"\",\n        \"description\": \"\"\n      }\n    }\n  ]\n}"
            }
          },
          "metadata": {},
          "execution_count": 18
        }
      ]
    },
    {
      "cell_type": "code",
      "source": [
        "print(train.keys())\n",
        "print(test.keys())"
      ],
      "metadata": {
        "colab": {
          "base_uri": "https://localhost:8080/"
        },
        "id": "4aks2Y4Imw1V",
        "outputId": "51f366a1-c09c-4bdf-e235-2b7009144712"
      },
      "execution_count": null,
      "outputs": [
        {
          "output_type": "stream",
          "name": "stdout",
          "text": [
            "Index(['PhraseId', 'SentenceId', 'Phrase', 'Sentiment'], dtype='object')\n",
            "Index(['PhraseId', 'SentenceId', 'Phrase'], dtype='object')\n"
          ]
        }
      ]
    },
    {
      "cell_type": "code",
      "source": [
        "print(train.shape)"
      ],
      "metadata": {
        "colab": {
          "base_uri": "https://localhost:8080/"
        },
        "id": "jJh16aFxcg7z",
        "outputId": "867537f4-ab46-4a49-cba6-2a9b2c0121e1"
      },
      "execution_count": null,
      "outputs": [
        {
          "output_type": "stream",
          "name": "stdout",
          "text": [
            "(156060, 4)\n"
          ]
        }
      ]
    },
    {
      "cell_type": "code",
      "source": [
        "def clean_text(text: str) -> str:\n",
        "  text = text.lower()\n",
        "  text = re.sub(r\"[^a-z0-9\\s]\", \"\", text)\n",
        "  text = re.sub(r\"\\s+\", \" \", text).strip()\n",
        "  return text"
      ],
      "metadata": {
        "id": "h8kj_Eo9rpcC"
      },
      "execution_count": null,
      "outputs": []
    },
    {
      "cell_type": "code",
      "source": [
        "def tokenize(text):\n",
        "  tokens = text.split()\n",
        "  return tokens if tokens else [\"<UNK>\"]"
      ],
      "metadata": {
        "id": "yV_PkNBhZxRl"
      },
      "execution_count": null,
      "outputs": []
    },
    {
      "cell_type": "code",
      "source": [
        "def build_vocab(tokenized_text: List[List[str]], min_freq: int = 1) -> Dict[str, int]:\n",
        "  \"\"\"\n",
        "  Builds a vocabulary dictionary mapping each unique token to an index.\n",
        "\n",
        "  Special tokens:\n",
        "      <PAD>: Used for padding sequences.\n",
        "      <UNK>: Used for tokens not present in the vocabulary.\n",
        "\n",
        "  Args:\n",
        "      tokenized_texts (List[List[str]]): A list of tokenized texts (each text is a list of tokens).\n",
        "      min_freq (int): Minimum frequency for a token to be included in the vocabulary.\n",
        "\n",
        "  Returns:\n",
        "      Dict[str, int]: A dictionary mapping tokens to unique integer indices.\n",
        "  \"\"\"\n",
        "  vocab = {'<PAD>': 0, '<UNK>': 1}\n",
        "\n",
        "  token_counter = Counter(token for tokens in tokenized_text for token in tokens)\n",
        "\n",
        "  for token, freq in token_counter.items():\n",
        "    if freq >= min_freq:\n",
        "      if token not in vocab:\n",
        "        vocab[token] = len(vocab)\n",
        "\n",
        "  return vocab\n"
      ],
      "metadata": {
        "id": "jSW2mtRy6B2U"
      },
      "execution_count": null,
      "outputs": []
    },
    {
      "cell_type": "code",
      "source": [
        "def text_to_sequence(tokens: List[str], vocab: Dict[str, int]) -> List[int]:\n",
        "  \"\"\"\n",
        "  Converts a list of tokens to a list of integer indices using the provided vocabulary.\n",
        "  Tokens not found in the vocabulary are replaced with the index of the <UNK> token.\n",
        "\n",
        "  Args:\n",
        "      tokens (List[str]): A list of tokens from a phrase.\n",
        "      vocab (Dict[str, int]): A dictionary mapping tokens to their corresponding indices.\n",
        "\n",
        "  Returns:\n",
        "      List[int]: A list of integer indices representing the tokenized phrase.\n",
        "  \"\"\"\n",
        "  unk_index = vocab.get('<UNK>')\n",
        "\n",
        "  sequence = [vocab.get(token, unk_index) for token in tokens]\n",
        "\n",
        "  return sequence"
      ],
      "metadata": {
        "id": "cNihdatv788N"
      },
      "execution_count": null,
      "outputs": []
    },
    {
      "cell_type": "code",
      "source": [
        "def create_collate_fn_train(pad_idx: int):\n",
        "  \"\"\"\n",
        "  Creates a collate function that pads sequences and tracks their original lengths.\n",
        "\n",
        "  Each sample in the batch should be a dictionary with at least the following keys:\n",
        "    - 'sequence': List[int] representing the tokenized phrase as a list of indices.\n",
        "    - 'label': int representing the sentiment label.\n",
        "\n",
        "  The collate function will:\n",
        "    1. Convert the 'sequence' list into a tensor.\n",
        "    2. Compute the original length of each sequence.\n",
        "    3. Sort the batch in descending order by sequence length.\n",
        "    4. Pad all sequences in the batch using the provided <PAD> token index.\n",
        "\n",
        "  Args:\n",
        "      pad_idx (int): The index used for padding (typically vocab['<PAD>']).\n",
        "\n",
        "  Returns:\n",
        "      A collate function that can be passed to DataLoader.\n",
        "  \"\"\"\n",
        "  def collate_fn(batch: List[Dict[str, Any]]):\n",
        "    sequences = [torch.tensor(sample['sequence'], dtype=torch.long) for sample in batch]\n",
        "    labels = [sample['label'] for sample in batch]\n",
        "    lengths = torch.tensor([len(seq) for seq in sequences], dtype=torch.long)\n",
        "\n",
        "    # lengths = torch.clamp(lengths, min=1)\n",
        "\n",
        "    sorted_indices = lengths.argsort(descending=True)\n",
        "    sequences = [sequences[i] for i in sorted_indices]\n",
        "    labels = [labels[i] for i in sorted_indices]\n",
        "    lengths = [lengths[i] for i in sorted_indices]\n",
        "\n",
        "    padded_sequnce = pad_sequence(sequences=sequences, batch_first=True,\n",
        "                                  padding_value=pad_idx)\n",
        "\n",
        "    return padded_sequnce, lengths, torch.tensor(labels, dtype=torch.long)\n",
        "\n",
        "  return collate_fn\n"
      ],
      "metadata": {
        "id": "ml2jjS5wESXT"
      },
      "execution_count": null,
      "outputs": []
    },
    {
      "cell_type": "code",
      "source": [
        "def create_collate_fn_test(pad_idx: int):\n",
        "  \"\"\"\n",
        "  Creates a collate function that pads sequences and tracks their original lengths.\n",
        "\n",
        "  Each sample in the batch should be a dictionary with at least the following keys:\n",
        "    - 'sequence': List[int] representing the tokenized phrase as a list of indices.\n",
        "\n",
        "  The collate function will:\n",
        "    1. Convert the 'sequence' list into a tensor.\n",
        "    2. Compute the original length of each sequence.\n",
        "    3. Sort the batch in descending order by sequence length.\n",
        "    4. Pad all sequences in the batch using the provided <PAD> token index.\n",
        "\n",
        "  Args:\n",
        "      pad_idx (int): The index used for padding (typically vocab['<PAD>']).\n",
        "\n",
        "  Returns:\n",
        "      A collate function that can be passed to DataLoader.\n",
        "  \"\"\"\n",
        "  def collate_fn(batch: List[Dict[str, Any]]):\n",
        "    sequences = [torch.tensor(sample['sequence'], dtype=torch.long) for sample in batch]\n",
        "    lengths = torch.tensor([len(seq) for seq in sequences], dtype=torch.long)\n",
        "    phrase_ids = [torch.tensor(sample['phrase_id'], dtype=torch.long) for sample in batch]\n",
        "\n",
        "    sorted_indices = lengths.argsort(descending=True)\n",
        "    sequences = [sequences[i] for i in sorted_indices]\n",
        "    lengths = [lengths[i] for i in sorted_indices]\n",
        "    phrase_ids = [phrase_ids[i].tolist() for i in sorted_indices]\n",
        "\n",
        "    padded_sequnce = pad_sequence(sequences=sequences, batch_first=True,\n",
        "                                  padding_value=pad_idx)\n",
        "\n",
        "    return padded_sequnce, lengths, phrase_ids\n",
        "\n",
        "  return collate_fn\n"
      ],
      "metadata": {
        "id": "SDOCiU_LO_FF"
      },
      "execution_count": null,
      "outputs": []
    },
    {
      "cell_type": "markdown",
      "source": [
        "# Create padded dataset"
      ],
      "metadata": {
        "id": "Hq6ZC9S5KMsr"
      }
    },
    {
      "cell_type": "code",
      "source": [
        "train_phrases = np.array(train.Phrase)\n",
        "test_phrases = np.array(test.Phrase)\n",
        "\n",
        "print(test_phrases.shape)"
      ],
      "metadata": {
        "colab": {
          "base_uri": "https://localhost:8080/"
        },
        "id": "KyRB3sFZKQjb",
        "outputId": "6eca421b-ee22-4b47-ef51-0329e1fbbf82"
      },
      "execution_count": null,
      "outputs": [
        {
          "output_type": "stream",
          "name": "stdout",
          "text": [
            "(66292,)\n"
          ]
        }
      ]
    },
    {
      "cell_type": "code",
      "source": [
        "cleaned_train_phrases = np.array([clean_text(phrase) for phrase in train_phrases])\n",
        "cleaned_test_phrases = np.array([clean_text(phrase) for phrase in test_phrases])\n",
        "\n",
        "tokenized_train_text = [tokenize(cleaned_phrase) for cleaned_phrase in cleaned_train_phrases]\n",
        "tokenized_test_text = [tokenize(cleaned_phrase) for cleaned_phrase in cleaned_test_phrases]\n",
        "\n",
        "vocab = build_vocab(tokenized_train_text)\n",
        "\n",
        "sequence_train_text = [text_to_sequence(tokens, vocab) for tokens in tokenized_train_text]\n",
        "sequence_test_text = [text_to_sequence(tokens, vocab) for tokens in tokenized_test_text]\n",
        "\n",
        "train_phrases_sequence = [{\"sequence\": sequence_train_text[i], \"label\": train.Sentiment.iloc[i]} for i in range(len(sequence_train_text))]\n",
        "test_phrases_sequence = [{\"sequence\": sequence_test_text[i], \"phrase_id\": test.PhraseId.iloc[i]} for i in range(len(sequence_test_text))]\n",
        "\n",
        "train_phrases_sequence = [item for item in train_phrases_sequence if len(item['sequence']) > 0]\n",
        "test_phrases_sequence = [item for item in test_phrases_sequence if len(item['sequence']) > 0]\n",
        "\n",
        "pad_idx = 0\n",
        "collate_fn_train = create_collate_fn_train(pad_idx)\n",
        "collate_fn_test = create_collate_fn_test(pad_idx)\n",
        "padded_sequences, lengths, labels = collate_fn_train(train_phrases_sequence)\n",
        "padded_sequences, lengths, phrase_ids = collate_fn_test(test_phrases_sequence)"
      ],
      "metadata": {
        "id": "VAJXf5A2KnWS"
      },
      "execution_count": null,
      "outputs": []
    },
    {
      "cell_type": "markdown",
      "source": [
        "# Dataset and Dataloader"
      ],
      "metadata": {
        "id": "vIPUUHojTL4Y"
      }
    },
    {
      "cell_type": "code",
      "source": [
        "class SentimentDataset(Dataset):\n",
        "    def __init__(self, phrases_sequence):\n",
        "        \"\"\"\n",
        "        Args:\n",
        "            phrases_sequence (List[Dict]): List of dictionaries, where each dictionary\n",
        "                                           has at least a 'sequence' key and optionally a 'label' key.\n",
        "        \"\"\"\n",
        "        self.phrases_sequence = phrases_sequence\n",
        "\n",
        "    def __len__(self):\n",
        "        return len(self.phrases_sequence)\n",
        "\n",
        "    def __getitem__(self, index):\n",
        "        return self.phrases_sequence[index]"
      ],
      "metadata": {
        "id": "3wSHT1_4LYkS"
      },
      "execution_count": null,
      "outputs": []
    },
    {
      "cell_type": "code",
      "source": [
        "train_sequences, val_sequences = train_test_split(train_phrases_sequence,\n",
        "                                                 test_size=Config.validation_fraction,\n",
        "                                                 random_state=Config.seed)"
      ],
      "metadata": {
        "id": "htO5ACrYd8aL"
      },
      "execution_count": null,
      "outputs": []
    },
    {
      "cell_type": "code",
      "source": [
        "train_dataset = SentimentDataset(train_sequences)\n",
        "val_dataset = SentimentDataset(val_sequences)\n",
        "\n",
        "test_dataset = SentimentDataset(test_phrases_sequence)"
      ],
      "metadata": {
        "id": "IN52I0W7RpKt"
      },
      "execution_count": null,
      "outputs": []
    },
    {
      "cell_type": "code",
      "source": [
        "train_loader = DataLoader(train_dataset, batch_size=Config.batch_size, shuffle=True, collate_fn=collate_fn_train)\n",
        "val_loader = DataLoader(val_dataset, batch_size=Config.batch_size, shuffle=False, collate_fn=collate_fn_train)\n",
        "test_loader = DataLoader(test_dataset, batch_size=Config.batch_size, shuffle=False, collate_fn=collate_fn_test)"
      ],
      "metadata": {
        "id": "F_m_2hZeRriD"
      },
      "execution_count": null,
      "outputs": []
    },
    {
      "cell_type": "code",
      "source": [
        "print(\"==========================\")\n",
        "for batch in train_loader:\n",
        "    padded_sequences, lengths, labels = batch\n",
        "    print(\"Batch padded sequences shape:\", padded_sequences.shape)\n",
        "    print(\"Batch sequence lengths:\", lengths)\n",
        "    print(\"Batch labels:\", labels)\n",
        "    break\n",
        "print(\"==========================\")\n",
        "for batch in val_loader:\n",
        "    padded_sequences, lengths, labels = batch\n",
        "    print(\"Validation batch padded sequences shape:\", padded_sequences.shape)\n",
        "    print(\"Validation batch sequence lengths:\", lengths)\n",
        "    print(\"Validation batch labels:\", labels)\n",
        "    break\n",
        "print(\"==========================\")\n",
        "for batch in test_loader:\n",
        "    padded_sequences, lengths, phrase_ids = batch\n",
        "    print(\"Test batch padded sequences shape:\", padded_sequences.shape)\n",
        "    print(\"Test batch sequence lengths:\", lengths)\n",
        "    print(\"Test batch phrase id:\", phrase_ids)\n",
        "    break\n",
        "print(\"==========================\")"
      ],
      "metadata": {
        "colab": {
          "base_uri": "https://localhost:8080/"
        },
        "id": "3d8QecHBR1aZ",
        "outputId": "2979dceb-e753-47cc-e1d5-bd647f518397"
      },
      "execution_count": null,
      "outputs": [
        {
          "output_type": "stream",
          "name": "stdout",
          "text": [
            "==========================\n",
            "Batch padded sequences shape: torch.Size([4096, 46])\n",
            "Batch sequence lengths: [tensor(46), tensor(41), tensor(41), tensor(40), tensor(38), tensor(38), tensor(38), tensor(38), tensor(38), tensor(37), tensor(37), tensor(36), tensor(35), tensor(35), tensor(35), tensor(34), tensor(34), tensor(34), tensor(34), tensor(33), tensor(33), tensor(33), tensor(32), tensor(32), tensor(32), tensor(32), tensor(32), tensor(32), tensor(32), tensor(31), tensor(31), tensor(31), tensor(31), tensor(31), tensor(31), tensor(31), tensor(31), tensor(31), tensor(30), tensor(30), tensor(30), tensor(30), tensor(30), tensor(30), tensor(29), tensor(29), tensor(29), tensor(29), tensor(29), tensor(29), tensor(29), tensor(28), tensor(28), tensor(28), tensor(28), tensor(28), tensor(28), tensor(28), tensor(28), tensor(28), tensor(28), tensor(28), tensor(28), tensor(27), tensor(27), tensor(27), tensor(27), tensor(27), tensor(27), tensor(27), tensor(27), tensor(27), tensor(27), tensor(27), tensor(27), tensor(27), tensor(27), tensor(26), tensor(26), tensor(26), tensor(26), tensor(26), tensor(26), tensor(26), tensor(26), tensor(26), tensor(26), tensor(26), tensor(26), tensor(26), tensor(26), tensor(26), tensor(26), tensor(25), tensor(25), tensor(25), tensor(25), tensor(25), tensor(25), tensor(25), tensor(25), tensor(25), tensor(25), tensor(25), tensor(25), tensor(25), tensor(25), tensor(25), tensor(25), tensor(25), tensor(25), tensor(25), tensor(25), tensor(24), tensor(24), tensor(24), tensor(24), tensor(24), tensor(24), tensor(24), tensor(24), tensor(24), tensor(24), tensor(24), tensor(24), tensor(24), tensor(24), tensor(24), tensor(24), tensor(24), tensor(24), tensor(24), tensor(24), tensor(24), tensor(24), tensor(23), tensor(23), tensor(23), tensor(23), tensor(23), tensor(23), tensor(23), tensor(23), tensor(23), tensor(23), tensor(23), tensor(23), tensor(23), tensor(23), tensor(23), tensor(23), tensor(23), tensor(23), tensor(23), tensor(23), tensor(23), tensor(23), tensor(23), tensor(23), tensor(22), tensor(22), tensor(22), tensor(22), tensor(22), tensor(22), tensor(22), tensor(22), tensor(22), tensor(22), tensor(22), tensor(22), tensor(22), tensor(22), tensor(22), tensor(22), tensor(22), tensor(22), tensor(22), tensor(22), tensor(22), tensor(22), tensor(22), tensor(22), tensor(21), tensor(21), tensor(21), tensor(21), tensor(21), tensor(21), tensor(21), tensor(21), tensor(21), tensor(21), tensor(21), tensor(21), tensor(21), tensor(21), tensor(21), tensor(21), tensor(21), tensor(21), tensor(21), tensor(21), tensor(21), tensor(21), tensor(21), tensor(21), tensor(21), tensor(21), tensor(21), tensor(21), tensor(21), tensor(21), tensor(21), tensor(21), tensor(21), tensor(21), tensor(21), tensor(21), tensor(21), tensor(21), tensor(21), tensor(21), tensor(21), tensor(20), tensor(20), tensor(20), tensor(20), tensor(20), tensor(20), tensor(20), tensor(20), tensor(20), tensor(20), tensor(20), tensor(20), tensor(20), tensor(20), tensor(20), tensor(20), tensor(20), tensor(20), tensor(20), tensor(20), tensor(20), tensor(20), tensor(20), tensor(20), tensor(20), tensor(20), tensor(20), tensor(20), tensor(20), tensor(20), tensor(20), tensor(20), tensor(20), tensor(20), tensor(20), tensor(20), tensor(20), tensor(20), tensor(19), tensor(19), tensor(19), tensor(19), tensor(19), tensor(19), tensor(19), tensor(19), tensor(19), tensor(19), tensor(19), tensor(19), tensor(19), tensor(19), tensor(19), tensor(19), tensor(19), tensor(19), tensor(19), tensor(19), tensor(19), tensor(19), tensor(19), tensor(19), tensor(19), tensor(19), tensor(19), tensor(19), tensor(19), tensor(18), tensor(18), tensor(18), tensor(18), tensor(18), tensor(18), tensor(18), tensor(18), tensor(18), tensor(18), tensor(18), tensor(18), tensor(18), tensor(18), tensor(18), tensor(18), tensor(18), tensor(18), tensor(18), tensor(18), tensor(18), tensor(18), tensor(18), tensor(18), tensor(18), tensor(18), tensor(18), tensor(18), tensor(18), tensor(18), tensor(18), tensor(18), tensor(18), tensor(18), tensor(18), tensor(18), tensor(18), tensor(18), tensor(18), tensor(18), tensor(17), tensor(17), tensor(17), tensor(17), tensor(17), tensor(17), tensor(17), tensor(17), tensor(17), tensor(17), tensor(17), tensor(17), tensor(17), tensor(17), tensor(17), tensor(17), tensor(17), tensor(17), tensor(17), tensor(17), tensor(17), tensor(17), tensor(17), tensor(17), tensor(17), tensor(17), tensor(17), tensor(17), tensor(17), tensor(17), tensor(17), tensor(17), tensor(17), tensor(17), tensor(17), tensor(17), tensor(17), tensor(17), tensor(17), tensor(17), tensor(17), tensor(17), tensor(17), tensor(17), tensor(17), tensor(17), tensor(17), tensor(17), tensor(17), tensor(17), tensor(17), tensor(16), tensor(16), tensor(16), tensor(16), tensor(16), tensor(16), tensor(16), tensor(16), tensor(16), tensor(16), tensor(16), tensor(16), tensor(16), tensor(16), tensor(16), tensor(16), tensor(16), tensor(16), tensor(16), tensor(16), tensor(16), tensor(16), tensor(16), tensor(16), tensor(16), tensor(16), tensor(16), tensor(16), tensor(16), tensor(16), tensor(16), tensor(16), tensor(16), tensor(16), tensor(16), tensor(16), tensor(16), tensor(16), tensor(16), tensor(16), tensor(16), tensor(16), tensor(16), tensor(16), tensor(16), tensor(16), tensor(16), tensor(16), tensor(16), tensor(16), tensor(16), tensor(16), tensor(16), tensor(16), tensor(16), tensor(16), tensor(16), tensor(16), tensor(15), tensor(15), tensor(15), tensor(15), tensor(15), tensor(15), tensor(15), tensor(15), tensor(15), tensor(15), tensor(15), tensor(15), tensor(15), tensor(15), tensor(15), tensor(15), tensor(15), tensor(15), tensor(15), tensor(15), tensor(15), tensor(15), tensor(15), tensor(15), tensor(15), tensor(15), tensor(15), tensor(15), tensor(15), tensor(15), tensor(15), tensor(15), tensor(15), tensor(15), tensor(15), tensor(15), tensor(15), tensor(15), tensor(15), tensor(15), tensor(15), tensor(15), tensor(15), tensor(15), tensor(15), tensor(15), tensor(15), tensor(15), tensor(15), tensor(15), tensor(15), tensor(15), tensor(15), tensor(15), tensor(15), tensor(15), tensor(15), tensor(15), tensor(15), tensor(15), tensor(15), tensor(15), tensor(15), tensor(15), tensor(15), tensor(15), tensor(15), tensor(15), tensor(15), tensor(15), tensor(15), tensor(14), tensor(14), tensor(14), tensor(14), tensor(14), tensor(14), tensor(14), tensor(14), tensor(14), tensor(14), tensor(14), tensor(14), tensor(14), tensor(14), tensor(14), tensor(14), tensor(14), tensor(14), tensor(14), tensor(14), tensor(14), tensor(14), tensor(14), tensor(14), tensor(14), tensor(14), tensor(14), tensor(14), tensor(14), tensor(14), tensor(14), tensor(14), tensor(14), tensor(14), tensor(14), tensor(14), tensor(14), tensor(14), tensor(14), tensor(14), tensor(14), tensor(14), tensor(14), tensor(14), tensor(14), tensor(14), tensor(14), tensor(14), tensor(14), tensor(14), tensor(14), tensor(14), tensor(14), tensor(14), tensor(14), tensor(14), tensor(14), tensor(14), tensor(14), tensor(14), tensor(14), tensor(14), tensor(14), tensor(14), tensor(14), tensor(14), tensor(14), tensor(14), tensor(14), tensor(14), tensor(14), tensor(14), tensor(14), tensor(14), tensor(14), tensor(13), tensor(13), tensor(13), tensor(13), tensor(13), tensor(13), tensor(13), tensor(13), tensor(13), tensor(13), tensor(13), tensor(13), tensor(13), tensor(13), tensor(13), tensor(13), tensor(13), tensor(13), tensor(13), tensor(13), tensor(13), tensor(13), tensor(13), tensor(13), tensor(13), tensor(13), tensor(13), tensor(13), tensor(13), tensor(13), tensor(13), tensor(13), tensor(13), tensor(13), tensor(13), tensor(13), tensor(13), tensor(13), tensor(13), tensor(13), tensor(13), tensor(13), tensor(13), tensor(13), tensor(13), tensor(13), tensor(13), tensor(13), tensor(13), tensor(13), tensor(13), tensor(13), tensor(13), tensor(13), tensor(13), tensor(13), tensor(13), tensor(13), tensor(13), tensor(13), tensor(13), tensor(13), tensor(13), tensor(13), tensor(13), tensor(13), tensor(13), tensor(13), tensor(13), tensor(13), tensor(13), tensor(13), tensor(13), tensor(13), tensor(13), tensor(13), tensor(13), tensor(13), tensor(13), tensor(12), tensor(12), tensor(12), tensor(12), tensor(12), tensor(12), tensor(12), tensor(12), tensor(12), tensor(12), tensor(12), tensor(12), tensor(12), tensor(12), tensor(12), tensor(12), tensor(12), tensor(12), tensor(12), tensor(12), tensor(12), tensor(12), tensor(12), tensor(12), tensor(12), tensor(12), tensor(12), tensor(12), tensor(12), tensor(12), tensor(12), tensor(12), tensor(12), tensor(12), tensor(12), tensor(12), tensor(12), tensor(12), tensor(12), tensor(12), tensor(12), tensor(12), tensor(12), tensor(12), tensor(12), tensor(12), tensor(12), tensor(12), tensor(12), tensor(12), tensor(12), tensor(12), tensor(12), tensor(12), tensor(12), tensor(12), tensor(12), tensor(12), tensor(12), tensor(12), tensor(12), tensor(12), tensor(12), tensor(12), tensor(12), tensor(12), tensor(12), tensor(12), tensor(12), tensor(12), tensor(12), tensor(12), tensor(12), tensor(12), tensor(12), tensor(12), tensor(12), tensor(12), tensor(12), tensor(12), tensor(12), tensor(12), tensor(12), tensor(12), tensor(12), tensor(12), tensor(12), tensor(12), tensor(12), tensor(12), tensor(12), tensor(12), tensor(12), tensor(12), tensor(12), tensor(12), tensor(11), tensor(11), tensor(11), tensor(11), tensor(11), tensor(11), tensor(11), tensor(11), tensor(11), tensor(11), tensor(11), tensor(11), tensor(11), tensor(11), tensor(11), tensor(11), tensor(11), tensor(11), tensor(11), tensor(11), tensor(11), tensor(11), tensor(11), tensor(11), tensor(11), tensor(11), tensor(11), tensor(11), tensor(11), tensor(11), tensor(11), tensor(11), tensor(11), tensor(11), tensor(11), tensor(11), tensor(11), tensor(11), tensor(11), tensor(11), tensor(11), tensor(11), tensor(11), tensor(11), tensor(11), tensor(11), tensor(11), tensor(11), tensor(11), tensor(11), tensor(11), tensor(11), tensor(11), tensor(11), tensor(11), tensor(11), tensor(11), tensor(11), tensor(11), tensor(11), tensor(11), tensor(11), tensor(11), tensor(11), tensor(11), tensor(11), tensor(11), tensor(11), tensor(11), tensor(11), tensor(11), tensor(11), tensor(11), tensor(11), tensor(11), tensor(11), tensor(11), tensor(11), tensor(11), tensor(11), tensor(11), tensor(11), tensor(11), tensor(11), tensor(11), tensor(11), tensor(11), tensor(11), tensor(11), tensor(11), tensor(11), tensor(11), tensor(11), tensor(11), tensor(11), tensor(10), tensor(10), tensor(10), tensor(10), tensor(10), tensor(10), tensor(10), tensor(10), tensor(10), tensor(10), tensor(10), tensor(10), tensor(10), tensor(10), tensor(10), tensor(10), tensor(10), tensor(10), tensor(10), tensor(10), tensor(10), tensor(10), tensor(10), tensor(10), tensor(10), tensor(10), tensor(10), tensor(10), tensor(10), tensor(10), tensor(10), tensor(10), tensor(10), tensor(10), tensor(10), tensor(10), tensor(10), tensor(10), tensor(10), tensor(10), tensor(10), tensor(10), tensor(10), tensor(10), tensor(10), tensor(10), tensor(10), tensor(10), tensor(10), tensor(10), tensor(10), tensor(10), tensor(10), tensor(10), tensor(10), tensor(10), tensor(10), tensor(10), tensor(10), tensor(10), tensor(10), tensor(10), tensor(10), tensor(10), tensor(10), tensor(10), tensor(10), tensor(10), tensor(10), tensor(10), tensor(10), tensor(10), tensor(10), tensor(10), tensor(10), tensor(10), tensor(10), tensor(10), tensor(10), tensor(10), tensor(10), tensor(10), tensor(10), tensor(10), tensor(10), tensor(10), tensor(10), tensor(10), tensor(10), tensor(10), tensor(10), tensor(10), tensor(10), tensor(10), tensor(10), tensor(10), tensor(10), tensor(10), tensor(10), tensor(10), tensor(10), tensor(10), tensor(10), tensor(10), tensor(10), tensor(10), tensor(10), tensor(10), tensor(9), tensor(9), tensor(9), tensor(9), tensor(9), tensor(9), tensor(9), tensor(9), tensor(9), tensor(9), tensor(9), tensor(9), tensor(9), tensor(9), tensor(9), tensor(9), tensor(9), tensor(9), tensor(9), tensor(9), tensor(9), tensor(9), tensor(9), tensor(9), tensor(9), tensor(9), tensor(9), tensor(9), tensor(9), tensor(9), tensor(9), tensor(9), tensor(9), tensor(9), tensor(9), tensor(9), tensor(9), tensor(9), tensor(9), tensor(9), tensor(9), tensor(9), tensor(9), tensor(9), tensor(9), tensor(9), tensor(9), tensor(9), tensor(9), tensor(9), tensor(9), tensor(9), tensor(9), tensor(9), tensor(9), tensor(9), tensor(9), tensor(9), tensor(9), tensor(9), tensor(9), tensor(9), tensor(9), tensor(9), tensor(9), tensor(9), tensor(9), tensor(9), tensor(9), tensor(9), tensor(9), tensor(9), tensor(9), tensor(9), tensor(9), tensor(9), tensor(9), tensor(9), tensor(9), tensor(9), tensor(9), tensor(9), tensor(9), tensor(9), tensor(9), tensor(9), tensor(9), tensor(9), tensor(9), tensor(9), tensor(9), tensor(9), tensor(9), tensor(9), tensor(9), tensor(9), tensor(9), tensor(9), tensor(9), tensor(9), tensor(9), tensor(9), tensor(9), tensor(9), tensor(9), tensor(9), tensor(9), tensor(9), tensor(9), tensor(9), tensor(9), tensor(9), tensor(9), tensor(9), tensor(9), tensor(9), tensor(9), tensor(9), tensor(9), tensor(9), tensor(9), tensor(9), tensor(9), tensor(9), tensor(9), tensor(9), tensor(9), tensor(9), tensor(9), tensor(9), tensor(8), tensor(8), tensor(8), tensor(8), tensor(8), tensor(8), tensor(8), tensor(8), tensor(8), tensor(8), tensor(8), tensor(8), tensor(8), tensor(8), tensor(8), tensor(8), tensor(8), tensor(8), tensor(8), tensor(8), tensor(8), tensor(8), tensor(8), tensor(8), tensor(8), tensor(8), tensor(8), tensor(8), tensor(8), tensor(8), tensor(8), tensor(8), tensor(8), tensor(8), tensor(8), tensor(8), tensor(8), tensor(8), tensor(8), tensor(8), tensor(8), tensor(8), tensor(8), tensor(8), tensor(8), tensor(8), tensor(8), tensor(8), tensor(8), tensor(8), tensor(8), tensor(8), tensor(8), tensor(8), tensor(8), tensor(8), tensor(8), tensor(8), tensor(8), tensor(8), tensor(8), tensor(8), tensor(8), tensor(8), tensor(8), tensor(8), tensor(8), tensor(8), tensor(8), tensor(8), tensor(8), tensor(8), tensor(8), tensor(8), tensor(8), tensor(8), tensor(8), tensor(8), tensor(8), tensor(8), tensor(8), tensor(8), tensor(8), tensor(8), tensor(8), tensor(8), tensor(8), tensor(8), tensor(8), tensor(8), tensor(8), tensor(8), tensor(8), tensor(8), tensor(8), tensor(8), tensor(8), tensor(8), tensor(8), tensor(8), tensor(8), tensor(8), tensor(8), tensor(8), tensor(8), tensor(8), tensor(8), tensor(8), tensor(8), tensor(8), tensor(8), tensor(8), tensor(8), tensor(8), tensor(8), tensor(8), tensor(8), tensor(8), tensor(8), tensor(8), tensor(8), tensor(8), tensor(8), tensor(8), tensor(8), tensor(8), tensor(8), tensor(8), tensor(8), tensor(8), tensor(8), tensor(8), tensor(8), tensor(8), tensor(8), tensor(8), tensor(8), tensor(8), tensor(8), tensor(8), tensor(8), tensor(8), tensor(8), tensor(8), tensor(8), tensor(8), tensor(8), tensor(8), tensor(8), tensor(8), tensor(8), tensor(8), tensor(8), tensor(8), tensor(8), tensor(8), tensor(8), tensor(8), tensor(8), tensor(8), tensor(8), tensor(8), tensor(8), tensor(8), tensor(8), tensor(8), tensor(8), tensor(8), tensor(8), tensor(8), tensor(8), tensor(8), tensor(8), tensor(8), tensor(8), tensor(7), tensor(7), tensor(7), tensor(7), tensor(7), tensor(7), tensor(7), tensor(7), tensor(7), tensor(7), tensor(7), tensor(7), tensor(7), tensor(7), tensor(7), tensor(7), tensor(7), tensor(7), tensor(7), tensor(7), tensor(7), tensor(7), tensor(7), tensor(7), tensor(7), tensor(7), tensor(7), tensor(7), tensor(7), tensor(7), tensor(7), tensor(7), tensor(7), tensor(7), tensor(7), tensor(7), tensor(7), tensor(7), tensor(7), tensor(7), tensor(7), tensor(7), tensor(7), tensor(7), tensor(7), tensor(7), tensor(7), tensor(7), tensor(7), tensor(7), tensor(7), tensor(7), tensor(7), tensor(7), tensor(7), tensor(7), tensor(7), tensor(7), tensor(7), tensor(7), tensor(7), tensor(7), tensor(7), tensor(7), tensor(7), tensor(7), tensor(7), tensor(7), tensor(7), tensor(7), tensor(7), tensor(7), tensor(7), tensor(7), tensor(7), tensor(7), tensor(7), tensor(7), tensor(7), tensor(7), tensor(7), tensor(7), tensor(7), tensor(7), tensor(7), tensor(7), tensor(7), tensor(7), tensor(7), tensor(7), tensor(7), tensor(7), tensor(7), tensor(7), tensor(7), tensor(7), tensor(7), tensor(7), tensor(7), tensor(7), tensor(7), tensor(7), tensor(7), tensor(7), tensor(7), tensor(7), tensor(7), tensor(7), tensor(7), tensor(7), tensor(7), tensor(7), tensor(7), tensor(7), tensor(7), tensor(7), tensor(7), tensor(7), tensor(7), tensor(7), tensor(7), tensor(7), tensor(7), tensor(7), tensor(7), tensor(7), tensor(7), tensor(7), tensor(7), tensor(7), tensor(7), tensor(7), tensor(7), tensor(7), tensor(7), tensor(7), tensor(7), tensor(7), tensor(7), tensor(7), tensor(7), tensor(7), tensor(7), tensor(7), tensor(7), tensor(7), tensor(7), tensor(7), tensor(7), tensor(7), tensor(7), tensor(7), tensor(7), tensor(7), tensor(7), tensor(7), tensor(7), tensor(7), tensor(7), tensor(7), tensor(7), tensor(7), tensor(7), tensor(7), tensor(7), tensor(7), tensor(7), tensor(7), tensor(7), tensor(7), tensor(7), tensor(7), tensor(7), tensor(7), tensor(7), tensor(7), tensor(7), tensor(7), tensor(7), tensor(7), tensor(7), tensor(7), tensor(7), tensor(7), tensor(6), tensor(6), tensor(6), tensor(6), tensor(6), tensor(6), tensor(6), tensor(6), tensor(6), tensor(6), tensor(6), tensor(6), tensor(6), tensor(6), tensor(6), tensor(6), tensor(6), tensor(6), tensor(6), tensor(6), tensor(6), tensor(6), tensor(6), tensor(6), tensor(6), tensor(6), tensor(6), tensor(6), tensor(6), tensor(6), tensor(6), tensor(6), tensor(6), tensor(6), tensor(6), tensor(6), tensor(6), tensor(6), tensor(6), tensor(6), tensor(6), tensor(6), tensor(6), tensor(6), tensor(6), tensor(6), tensor(6), tensor(6), tensor(6), tensor(6), tensor(6), tensor(6), tensor(6), tensor(6), tensor(6), tensor(6), tensor(6), tensor(6), tensor(6), tensor(6), tensor(6), tensor(6), tensor(6), tensor(6), tensor(6), tensor(6), tensor(6), tensor(6), tensor(6), tensor(6), tensor(6), tensor(6), tensor(6), tensor(6), tensor(6), tensor(6), tensor(6), tensor(6), tensor(6), tensor(6), tensor(6), tensor(6), tensor(6), tensor(6), tensor(6), tensor(6), tensor(6), tensor(6), tensor(6), tensor(6), tensor(6), tensor(6), tensor(6), tensor(6), tensor(6), tensor(6), tensor(6), tensor(6), tensor(6), tensor(6), tensor(6), tensor(6), tensor(6), tensor(6), tensor(6), tensor(6), tensor(6), tensor(6), tensor(6), tensor(6), tensor(6), tensor(6), tensor(6), tensor(6), tensor(6), tensor(6), tensor(6), tensor(6), tensor(6), tensor(6), tensor(6), tensor(6), tensor(6), tensor(6), tensor(6), tensor(6), tensor(6), tensor(6), tensor(6), tensor(6), tensor(6), tensor(6), tensor(6), tensor(6), tensor(6), tensor(6), tensor(6), tensor(6), tensor(6), tensor(6), tensor(6), tensor(6), tensor(6), tensor(6), tensor(6), tensor(6), tensor(6), tensor(6), tensor(6), tensor(6), tensor(6), tensor(6), tensor(6), tensor(6), tensor(6), tensor(6), tensor(6), tensor(6), tensor(6), tensor(6), tensor(6), tensor(6), tensor(6), tensor(6), tensor(6), tensor(6), tensor(6), tensor(6), tensor(6), tensor(6), tensor(6), tensor(6), tensor(6), tensor(6), tensor(6), tensor(6), tensor(6), tensor(6), tensor(6), tensor(6), tensor(6), tensor(6), tensor(6), tensor(6), tensor(6), tensor(6), tensor(6), tensor(6), tensor(6), tensor(6), tensor(6), tensor(6), tensor(6), tensor(6), tensor(6), tensor(6), tensor(6), tensor(6), tensor(6), tensor(6), tensor(6), tensor(6), tensor(6), tensor(6), tensor(6), tensor(6), tensor(6), tensor(6), tensor(6), tensor(6), tensor(6), tensor(6), tensor(6), tensor(6), tensor(6), tensor(6), tensor(6), tensor(6), tensor(6), tensor(6), tensor(6), tensor(5), tensor(5), tensor(5), tensor(5), tensor(5), tensor(5), tensor(5), tensor(5), tensor(5), tensor(5), tensor(5), tensor(5), tensor(5), tensor(5), tensor(5), tensor(5), tensor(5), tensor(5), tensor(5), tensor(5), tensor(5), tensor(5), tensor(5), tensor(5), tensor(5), tensor(5), tensor(5), tensor(5), tensor(5), tensor(5), tensor(5), tensor(5), tensor(5), tensor(5), tensor(5), tensor(5), tensor(5), tensor(5), tensor(5), tensor(5), tensor(5), tensor(5), tensor(5), tensor(5), tensor(5), tensor(5), tensor(5), tensor(5), tensor(5), tensor(5), tensor(5), tensor(5), tensor(5), tensor(5), tensor(5), tensor(5), tensor(5), tensor(5), tensor(5), tensor(5), tensor(5), tensor(5), tensor(5), tensor(5), tensor(5), tensor(5), tensor(5), tensor(5), tensor(5), tensor(5), tensor(5), tensor(5), tensor(5), tensor(5), tensor(5), tensor(5), tensor(5), tensor(5), tensor(5), tensor(5), tensor(5), tensor(5), tensor(5), tensor(5), tensor(5), tensor(5), tensor(5), tensor(5), tensor(5), tensor(5), tensor(5), tensor(5), tensor(5), tensor(5), tensor(5), tensor(5), tensor(5), tensor(5), tensor(5), tensor(5), tensor(5), tensor(5), tensor(5), tensor(5), tensor(5), tensor(5), tensor(5), tensor(5), tensor(5), tensor(5), tensor(5), tensor(5), tensor(5), tensor(5), tensor(5), tensor(5), tensor(5), tensor(5), tensor(5), tensor(5), tensor(5), tensor(5), tensor(5), tensor(5), tensor(5), tensor(5), tensor(5), tensor(5), tensor(5), tensor(5), tensor(5), tensor(5), tensor(5), tensor(5), tensor(5), tensor(5), tensor(5), tensor(5), tensor(5), tensor(5), tensor(5), tensor(5), tensor(5), tensor(5), tensor(5), tensor(5), tensor(5), tensor(5), tensor(5), tensor(5), tensor(5), tensor(5), tensor(5), tensor(5), tensor(5), tensor(5), tensor(5), tensor(5), tensor(5), tensor(5), tensor(5), tensor(5), tensor(5), tensor(5), tensor(5), tensor(5), tensor(5), tensor(5), tensor(5), tensor(5), tensor(5), tensor(5), tensor(5), tensor(5), tensor(5), tensor(5), tensor(5), tensor(5), tensor(5), tensor(5), tensor(5), tensor(5), tensor(5), tensor(5), tensor(5), tensor(5), tensor(5), tensor(5), tensor(5), tensor(5), tensor(5), tensor(5), tensor(5), tensor(5), tensor(5), tensor(5), tensor(5), tensor(5), tensor(5), tensor(5), tensor(5), tensor(5), tensor(5), tensor(5), tensor(5), tensor(5), tensor(5), tensor(5), tensor(5), tensor(5), tensor(5), tensor(5), tensor(5), tensor(5), tensor(5), tensor(5), tensor(5), tensor(5), tensor(5), tensor(5), tensor(5), tensor(5), tensor(5), tensor(5), tensor(5), tensor(5), tensor(5), tensor(5), tensor(5), tensor(5), tensor(5), tensor(5), tensor(5), tensor(5), tensor(5), tensor(5), tensor(5), tensor(5), tensor(5), tensor(5), tensor(5), tensor(5), tensor(5), tensor(5), tensor(5), tensor(5), tensor(5), tensor(5), tensor(5), tensor(5), tensor(5), tensor(5), tensor(5), tensor(5), tensor(5), tensor(5), tensor(5), tensor(5), tensor(5), tensor(5), tensor(5), tensor(5), tensor(5), tensor(5), tensor(5), tensor(5), tensor(5), tensor(5), tensor(5), tensor(5), tensor(5), tensor(5), tensor(5), tensor(5), tensor(5), tensor(5), tensor(5), tensor(5), tensor(5), tensor(5), tensor(5), tensor(5), tensor(5), tensor(5), tensor(5), tensor(5), tensor(5), tensor(5), tensor(5), tensor(5), tensor(5), tensor(5), tensor(5), tensor(5), tensor(5), tensor(5), tensor(5), tensor(5), tensor(5), tensor(5), tensor(5), tensor(4), tensor(4), tensor(4), tensor(4), tensor(4), tensor(4), tensor(4), tensor(4), tensor(4), tensor(4), tensor(4), tensor(4), tensor(4), tensor(4), tensor(4), tensor(4), tensor(4), tensor(4), tensor(4), tensor(4), tensor(4), tensor(4), tensor(4), tensor(4), tensor(4), tensor(4), tensor(4), tensor(4), tensor(4), tensor(4), tensor(4), tensor(4), tensor(4), tensor(4), tensor(4), tensor(4), tensor(4), tensor(4), tensor(4), tensor(4), tensor(4), tensor(4), tensor(4), tensor(4), tensor(4), tensor(4), tensor(4), tensor(4), tensor(4), tensor(4), tensor(4), tensor(4), tensor(4), tensor(4), tensor(4), tensor(4), tensor(4), tensor(4), tensor(4), tensor(4), tensor(4), tensor(4), tensor(4), tensor(4), tensor(4), tensor(4), tensor(4), tensor(4), tensor(4), tensor(4), tensor(4), tensor(4), tensor(4), tensor(4), tensor(4), tensor(4), tensor(4), tensor(4), tensor(4), tensor(4), tensor(4), tensor(4), tensor(4), tensor(4), tensor(4), tensor(4), tensor(4), tensor(4), tensor(4), tensor(4), tensor(4), tensor(4), tensor(4), tensor(4), tensor(4), tensor(4), tensor(4), tensor(4), tensor(4), tensor(4), tensor(4), tensor(4), tensor(4), tensor(4), tensor(4), tensor(4), tensor(4), tensor(4), tensor(4), tensor(4), tensor(4), tensor(4), tensor(4), tensor(4), tensor(4), tensor(4), tensor(4), tensor(4), tensor(4), tensor(4), tensor(4), tensor(4), tensor(4), tensor(4), tensor(4), tensor(4), tensor(4), tensor(4), tensor(4), tensor(4), tensor(4), tensor(4), tensor(4), tensor(4), tensor(4), tensor(4), tensor(4), tensor(4), tensor(4), tensor(4), tensor(4), tensor(4), tensor(4), tensor(4), tensor(4), tensor(4), tensor(4), tensor(4), tensor(4), tensor(4), tensor(4), tensor(4), tensor(4), tensor(4), tensor(4), tensor(4), tensor(4), tensor(4), tensor(4), tensor(4), tensor(4), tensor(4), tensor(4), tensor(4), tensor(4), tensor(4), tensor(4), tensor(4), tensor(4), tensor(4), tensor(4), tensor(4), tensor(4), tensor(4), tensor(4), tensor(4), tensor(4), tensor(4), tensor(4), tensor(4), tensor(4), tensor(4), tensor(4), tensor(4), tensor(4), tensor(4), tensor(4), tensor(4), tensor(4), tensor(4), tensor(4), tensor(4), tensor(4), tensor(4), tensor(4), tensor(4), tensor(4), tensor(4), tensor(4), tensor(4), tensor(4), tensor(4), tensor(4), tensor(4), tensor(4), tensor(4), tensor(4), tensor(4), tensor(4), tensor(4), tensor(4), tensor(4), tensor(4), tensor(4), tensor(4), tensor(4), tensor(4), tensor(4), tensor(4), tensor(4), tensor(4), tensor(4), tensor(4), tensor(4), tensor(4), tensor(4), tensor(4), tensor(4), tensor(4), tensor(4), tensor(4), tensor(4), tensor(4), tensor(4), tensor(4), tensor(4), tensor(4), tensor(4), tensor(4), tensor(4), tensor(4), tensor(4), tensor(4), tensor(4), tensor(4), tensor(4), tensor(4), tensor(4), tensor(4), tensor(4), tensor(4), tensor(4), tensor(4), tensor(4), tensor(4), tensor(4), tensor(4), tensor(4), tensor(4), tensor(4), tensor(4), tensor(4), tensor(4), tensor(4), tensor(4), tensor(4), tensor(4), tensor(4), tensor(4), tensor(4), tensor(4), tensor(4), tensor(4), tensor(4), tensor(4), tensor(4), tensor(4), tensor(4), tensor(4), tensor(4), tensor(4), tensor(4), tensor(4), tensor(4), tensor(4), tensor(4), tensor(4), tensor(4), tensor(4), tensor(4), tensor(4), tensor(4), tensor(4), tensor(4), tensor(4), tensor(4), tensor(4), tensor(4), tensor(4), tensor(4), tensor(4), tensor(4), tensor(4), tensor(4), tensor(4), tensor(4), tensor(4), tensor(4), tensor(4), tensor(4), tensor(4), tensor(4), tensor(4), tensor(4), tensor(4), tensor(4), tensor(4), tensor(4), tensor(4), tensor(4), tensor(4), tensor(4), tensor(4), tensor(4), tensor(4), tensor(4), tensor(4), tensor(4), tensor(4), tensor(4), tensor(4), tensor(4), tensor(4), tensor(4), tensor(4), tensor(4), tensor(4), tensor(4), tensor(4), tensor(4), tensor(4), tensor(4), tensor(4), tensor(4), tensor(4), tensor(4), tensor(4), tensor(4), tensor(4), tensor(4), tensor(4), tensor(4), tensor(4), tensor(4), tensor(4), tensor(4), tensor(4), tensor(4), tensor(4), tensor(4), tensor(4), tensor(4), tensor(4), tensor(4), tensor(4), tensor(3), tensor(3), tensor(3), tensor(3), tensor(3), tensor(3), tensor(3), tensor(3), tensor(3), tensor(3), tensor(3), tensor(3), tensor(3), tensor(3), tensor(3), tensor(3), tensor(3), tensor(3), tensor(3), tensor(3), tensor(3), tensor(3), tensor(3), tensor(3), tensor(3), tensor(3), tensor(3), tensor(3), tensor(3), tensor(3), tensor(3), tensor(3), tensor(3), tensor(3), tensor(3), tensor(3), tensor(3), tensor(3), tensor(3), tensor(3), tensor(3), tensor(3), tensor(3), tensor(3), tensor(3), tensor(3), tensor(3), tensor(3), tensor(3), tensor(3), tensor(3), tensor(3), tensor(3), tensor(3), tensor(3), tensor(3), tensor(3), tensor(3), tensor(3), tensor(3), tensor(3), tensor(3), tensor(3), tensor(3), tensor(3), tensor(3), tensor(3), tensor(3), tensor(3), tensor(3), tensor(3), tensor(3), tensor(3), tensor(3), tensor(3), tensor(3), tensor(3), tensor(3), tensor(3), tensor(3), tensor(3), tensor(3), tensor(3), tensor(3), tensor(3), tensor(3), tensor(3), tensor(3), tensor(3), tensor(3), tensor(3), tensor(3), tensor(3), tensor(3), tensor(3), tensor(3), tensor(3), tensor(3), tensor(3), tensor(3), tensor(3), tensor(3), tensor(3), tensor(3), tensor(3), tensor(3), tensor(3), tensor(3), tensor(3), tensor(3), tensor(3), tensor(3), tensor(3), tensor(3), tensor(3), tensor(3), tensor(3), tensor(3), tensor(3), tensor(3), tensor(3), tensor(3), tensor(3), tensor(3), tensor(3), tensor(3), tensor(3), tensor(3), tensor(3), tensor(3), tensor(3), tensor(3), tensor(3), tensor(3), tensor(3), tensor(3), tensor(3), tensor(3), tensor(3), tensor(3), tensor(3), tensor(3), tensor(3), tensor(3), tensor(3), tensor(3), tensor(3), tensor(3), tensor(3), tensor(3), tensor(3), tensor(3), tensor(3), tensor(3), tensor(3), tensor(3), tensor(3), tensor(3), tensor(3), tensor(3), tensor(3), tensor(3), tensor(3), tensor(3), tensor(3), tensor(3), tensor(3), tensor(3), tensor(3), tensor(3), tensor(3), tensor(3), tensor(3), tensor(3), tensor(3), tensor(3), tensor(3), tensor(3), tensor(3), tensor(3), tensor(3), tensor(3), tensor(3), tensor(3), tensor(3), tensor(3), tensor(3), tensor(3), tensor(3), tensor(3), tensor(3), tensor(3), tensor(3), tensor(3), tensor(3), tensor(3), tensor(3), tensor(3), tensor(3), tensor(3), tensor(3), tensor(3), tensor(3), tensor(3), tensor(3), tensor(3), tensor(3), tensor(3), tensor(3), tensor(3), tensor(3), tensor(3), tensor(3), tensor(3), tensor(3), tensor(3), tensor(3), tensor(3), tensor(3), tensor(3), tensor(3), tensor(3), tensor(3), tensor(3), tensor(3), tensor(3), tensor(3), tensor(3), tensor(3), tensor(3), tensor(3), tensor(3), tensor(3), tensor(3), tensor(3), tensor(3), tensor(3), tensor(3), tensor(3), tensor(3), tensor(3), tensor(3), tensor(3), tensor(3), tensor(3), tensor(3), tensor(3), tensor(3), tensor(3), tensor(3), tensor(3), tensor(3), tensor(3), tensor(3), tensor(3), tensor(3), tensor(3), tensor(3), tensor(3), tensor(3), tensor(3), tensor(3), tensor(3), tensor(3), tensor(3), tensor(3), tensor(3), tensor(3), tensor(3), tensor(3), tensor(3), tensor(3), tensor(3), tensor(3), tensor(3), tensor(3), tensor(3), tensor(3), tensor(3), tensor(3), tensor(3), tensor(3), tensor(3), tensor(3), tensor(3), tensor(3), tensor(3), tensor(3), tensor(3), tensor(3), tensor(3), tensor(3), tensor(3), tensor(3), tensor(3), tensor(3), tensor(3), tensor(3), tensor(3), tensor(3), tensor(3), tensor(3), tensor(3), tensor(3), tensor(3), tensor(3), tensor(3), tensor(3), tensor(3), tensor(3), tensor(3), tensor(3), tensor(3), tensor(3), tensor(3), tensor(3), tensor(3), tensor(3), tensor(3), tensor(3), tensor(3), tensor(3), tensor(3), tensor(3), tensor(3), tensor(3), tensor(3), tensor(3), tensor(3), tensor(3), tensor(3), tensor(3), tensor(3), tensor(3), tensor(3), tensor(3), tensor(3), tensor(3), tensor(3), tensor(3), tensor(3), tensor(3), tensor(3), tensor(3), tensor(3), tensor(3), tensor(3), tensor(3), tensor(3), tensor(3), tensor(3), tensor(3), tensor(3), tensor(3), tensor(3), tensor(3), tensor(3), tensor(3), tensor(3), tensor(3), tensor(3), tensor(3), tensor(3), tensor(3), tensor(3), tensor(3), tensor(3), tensor(3), tensor(3), tensor(3), tensor(3), tensor(3), tensor(3), tensor(3), tensor(3), tensor(3), tensor(3), tensor(3), tensor(3), tensor(3), tensor(3), tensor(3), tensor(3), tensor(3), tensor(3), tensor(3), tensor(3), tensor(3), tensor(3), tensor(3), tensor(3), tensor(3), tensor(3), tensor(3), tensor(3), tensor(3), tensor(3), tensor(3), tensor(3), tensor(3), tensor(3), tensor(3), tensor(3), tensor(3), tensor(3), tensor(3), tensor(3), tensor(3), tensor(3), tensor(3), tensor(3), tensor(3), tensor(3), tensor(3), tensor(3), tensor(3), tensor(3), tensor(3), tensor(3), tensor(3), tensor(3), tensor(3), tensor(3), tensor(3), tensor(3), tensor(3), tensor(3), tensor(3), tensor(3), tensor(3), tensor(3), tensor(3), tensor(3), tensor(3), tensor(3), tensor(3), tensor(3), tensor(3), tensor(3), tensor(3), tensor(3), tensor(3), tensor(3), tensor(3), tensor(3), tensor(3), tensor(3), tensor(3), tensor(3), tensor(3), tensor(3), tensor(3), tensor(3), tensor(3), tensor(3), tensor(3), tensor(3), tensor(3), tensor(3), tensor(3), tensor(3), tensor(3), tensor(3), tensor(3), tensor(3), tensor(3), tensor(3), tensor(3), tensor(3), tensor(3), tensor(3), tensor(3), tensor(3), tensor(3), tensor(3), tensor(3), tensor(3), tensor(3), tensor(3), tensor(3), tensor(3), tensor(3), tensor(3), tensor(3), tensor(3), tensor(3), tensor(3), tensor(3), tensor(3), tensor(3), tensor(3), tensor(3), tensor(3), tensor(3), tensor(3), tensor(3), tensor(3), tensor(3), tensor(3), tensor(3), tensor(3), tensor(3), tensor(3), tensor(3), tensor(3), tensor(3), tensor(3), tensor(3), tensor(3), tensor(3), tensor(3), tensor(3), tensor(3), tensor(3), tensor(3), tensor(3), tensor(3), tensor(3), tensor(3), tensor(3), tensor(3), tensor(3), tensor(3), tensor(3), tensor(3), tensor(3), tensor(3), tensor(3), tensor(3), tensor(3), tensor(3), tensor(3), tensor(3), tensor(3), tensor(3), tensor(3), tensor(3), tensor(3), tensor(3), tensor(3), tensor(3), tensor(3), tensor(3), tensor(3), tensor(3), tensor(3), tensor(3), tensor(3), tensor(3), tensor(3), tensor(3), tensor(3), tensor(3), tensor(3), tensor(3), tensor(3), tensor(3), tensor(3), tensor(3), tensor(3), tensor(3), tensor(3), tensor(3), tensor(3), tensor(2), tensor(2), tensor(2), tensor(2), tensor(2), tensor(2), tensor(2), tensor(2), tensor(2), tensor(2), tensor(2), tensor(2), tensor(2), tensor(2), tensor(2), tensor(2), tensor(2), tensor(2), tensor(2), tensor(2), tensor(2), tensor(2), tensor(2), tensor(2), tensor(2), tensor(2), tensor(2), tensor(2), tensor(2), tensor(2), tensor(2), tensor(2), tensor(2), tensor(2), tensor(2), tensor(2), tensor(2), tensor(2), tensor(2), tensor(2), tensor(2), tensor(2), tensor(2), tensor(2), tensor(2), tensor(2), tensor(2), tensor(2), tensor(2), tensor(2), tensor(2), tensor(2), tensor(2), tensor(2), tensor(2), tensor(2), tensor(2), tensor(2), tensor(2), tensor(2), tensor(2), tensor(2), tensor(2), tensor(2), tensor(2), tensor(2), tensor(2), tensor(2), tensor(2), tensor(2), tensor(2), tensor(2), tensor(2), tensor(2), tensor(2), tensor(2), tensor(2), tensor(2), tensor(2), tensor(2), tensor(2), tensor(2), tensor(2), tensor(2), tensor(2), tensor(2), tensor(2), tensor(2), tensor(2), tensor(2), tensor(2), tensor(2), tensor(2), tensor(2), tensor(2), tensor(2), tensor(2), tensor(2), tensor(2), tensor(2), tensor(2), tensor(2), tensor(2), tensor(2), tensor(2), tensor(2), tensor(2), tensor(2), tensor(2), tensor(2), tensor(2), tensor(2), tensor(2), tensor(2), tensor(2), tensor(2), tensor(2), tensor(2), tensor(2), tensor(2), tensor(2), tensor(2), tensor(2), tensor(2), tensor(2), tensor(2), tensor(2), tensor(2), tensor(2), tensor(2), tensor(2), tensor(2), tensor(2), tensor(2), tensor(2), tensor(2), tensor(2), tensor(2), tensor(2), tensor(2), tensor(2), tensor(2), tensor(2), tensor(2), tensor(2), tensor(2), tensor(2), tensor(2), tensor(2), tensor(2), tensor(2), tensor(2), tensor(2), tensor(2), tensor(2), tensor(2), tensor(2), tensor(2), tensor(2), tensor(2), tensor(2), tensor(2), tensor(2), tensor(2), tensor(2), tensor(2), tensor(2), tensor(2), tensor(2), tensor(2), tensor(2), tensor(2), tensor(2), tensor(2), tensor(2), tensor(2), tensor(2), tensor(2), tensor(2), tensor(2), tensor(2), tensor(2), tensor(2), tensor(2), tensor(2), tensor(2), tensor(2), tensor(2), tensor(2), tensor(2), tensor(2), tensor(2), tensor(2), tensor(2), tensor(2), tensor(2), tensor(2), tensor(2), tensor(2), tensor(2), tensor(2), tensor(2), tensor(2), tensor(2), tensor(2), tensor(2), tensor(2), tensor(2), tensor(2), tensor(2), tensor(2), tensor(2), tensor(2), tensor(2), tensor(2), tensor(2), tensor(2), tensor(2), tensor(2), tensor(2), tensor(2), tensor(2), tensor(2), tensor(2), tensor(2), tensor(2), tensor(2), tensor(2), tensor(2), tensor(2), tensor(2), tensor(2), tensor(2), tensor(2), tensor(2), tensor(2), tensor(2), tensor(2), tensor(2), tensor(2), tensor(2), tensor(2), tensor(2), tensor(2), tensor(2), tensor(2), tensor(2), tensor(2), tensor(2), tensor(2), tensor(2), tensor(2), tensor(2), tensor(2), tensor(2), tensor(2), tensor(2), tensor(2), tensor(2), tensor(2), tensor(2), tensor(2), tensor(2), tensor(2), tensor(2), tensor(2), tensor(2), tensor(2), tensor(2), tensor(2), tensor(2), tensor(2), tensor(2), tensor(2), tensor(2), tensor(2), tensor(2), tensor(2), tensor(2), tensor(2), tensor(2), tensor(2), tensor(2), tensor(2), tensor(2), tensor(2), tensor(2), tensor(2), tensor(2), tensor(2), tensor(2), tensor(2), tensor(2), tensor(2), tensor(2), tensor(2), tensor(2), tensor(2), tensor(2), tensor(2), tensor(2), tensor(2), tensor(2), tensor(2), tensor(2), tensor(2), tensor(2), tensor(2), tensor(2), tensor(2), tensor(2), tensor(2), tensor(2), tensor(2), tensor(2), tensor(2), tensor(2), tensor(2), tensor(2), tensor(2), tensor(2), tensor(2), tensor(2), tensor(2), tensor(2), tensor(2), tensor(2), tensor(2), tensor(2), tensor(2), tensor(2), tensor(2), tensor(2), tensor(2), tensor(2), tensor(2), tensor(2), tensor(2), tensor(2), tensor(2), tensor(2), tensor(2), tensor(2), tensor(2), tensor(2), tensor(2), tensor(2), tensor(2), tensor(2), tensor(2), tensor(2), tensor(2), tensor(2), tensor(2), tensor(2), tensor(2), tensor(2), tensor(2), tensor(2), tensor(2), tensor(2), tensor(2), tensor(2), tensor(2), tensor(2), tensor(2), tensor(2), tensor(2), tensor(2), tensor(2), tensor(2), tensor(2), tensor(2), tensor(2), tensor(2), tensor(2), tensor(2), tensor(2), tensor(2), tensor(2), tensor(2), tensor(2), tensor(2), tensor(2), tensor(2), tensor(2), tensor(2), tensor(2), tensor(2), tensor(2), tensor(2), tensor(2), tensor(2), tensor(2), tensor(2), tensor(2), tensor(2), tensor(2), tensor(2), tensor(2), tensor(2), tensor(2), tensor(2), tensor(2), tensor(2), tensor(2), tensor(2), tensor(2), tensor(2), tensor(2), tensor(2), tensor(2), tensor(2), tensor(2), tensor(2), tensor(2), tensor(2), tensor(2), tensor(2), tensor(2), tensor(2), tensor(2), tensor(2), tensor(2), tensor(2), tensor(2), tensor(2), tensor(2), tensor(2), tensor(2), tensor(2), tensor(2), tensor(2), tensor(2), tensor(2), tensor(2), tensor(2), tensor(2), tensor(2), tensor(2), tensor(2), tensor(2), tensor(2), tensor(2), tensor(2), tensor(2), tensor(2), tensor(2), tensor(2), tensor(2), tensor(2), tensor(2), tensor(2), tensor(2), tensor(2), tensor(2), tensor(2), tensor(2), tensor(2), tensor(2), tensor(2), tensor(2), tensor(2), tensor(2), tensor(2), tensor(2), tensor(2), tensor(2), tensor(2), tensor(2), tensor(2), tensor(2), tensor(2), tensor(2), tensor(2), tensor(2), tensor(2), tensor(2), tensor(2), tensor(2), tensor(2), tensor(2), tensor(2), tensor(2), tensor(2), tensor(2), tensor(2), tensor(2), tensor(2), tensor(2), tensor(2), tensor(2), tensor(2), tensor(2), tensor(2), tensor(2), tensor(2), tensor(2), tensor(2), tensor(2), tensor(2), tensor(2), tensor(2), tensor(2), tensor(2), tensor(2), tensor(2), tensor(2), tensor(2), tensor(2), tensor(2), tensor(2), tensor(2), tensor(2), tensor(2), tensor(2), tensor(2), tensor(2), tensor(2), tensor(2), tensor(2), tensor(2), tensor(2), tensor(2), tensor(2), tensor(2), tensor(2), tensor(2), tensor(2), tensor(2), tensor(2), tensor(2), tensor(2), tensor(2), tensor(2), tensor(2), tensor(2), tensor(2), tensor(2), tensor(2), tensor(2), tensor(2), tensor(2), tensor(2), tensor(2), tensor(2), tensor(2), tensor(2), tensor(2), tensor(2), tensor(2), tensor(2), tensor(2), tensor(2), tensor(2), tensor(2), tensor(2), tensor(2), tensor(2), tensor(2), tensor(2), tensor(2), tensor(2), tensor(2), tensor(2), tensor(2), tensor(2), tensor(2), tensor(2), tensor(2), tensor(2), tensor(2), tensor(2), tensor(2), tensor(2), tensor(2), tensor(2), tensor(2), tensor(2), tensor(2), tensor(2), tensor(2), tensor(2), tensor(2), tensor(2), tensor(2), tensor(2), tensor(2), tensor(2), tensor(2), tensor(2), tensor(2), tensor(2), tensor(2), tensor(2), tensor(2), tensor(2), tensor(2), tensor(2), tensor(2), tensor(2), tensor(2), tensor(2), tensor(2), tensor(2), tensor(2), tensor(2), tensor(2), tensor(2), tensor(2), tensor(2), tensor(2), tensor(2), tensor(2), tensor(2), tensor(2), tensor(2), tensor(2), tensor(2), tensor(2), tensor(2), tensor(2), tensor(2), tensor(2), tensor(2), tensor(2), tensor(2), tensor(2), tensor(2), tensor(2), tensor(2), tensor(2), tensor(2), tensor(2), tensor(2), tensor(2), tensor(2), tensor(2), tensor(2), tensor(2), tensor(2), tensor(2), tensor(2), tensor(2), tensor(2), tensor(2), tensor(2), tensor(2), tensor(2), tensor(2), tensor(2), tensor(2), tensor(2), tensor(2), tensor(2), tensor(2), tensor(2), tensor(2), tensor(2), tensor(2), tensor(2), tensor(2), tensor(2), tensor(2), tensor(2), tensor(2), tensor(2), tensor(2), tensor(2), tensor(2), tensor(2), tensor(2), tensor(2), tensor(2), tensor(2), tensor(2), tensor(2), tensor(2), tensor(2), tensor(2), tensor(2), tensor(2), tensor(2), tensor(2), tensor(2), tensor(2), tensor(2), tensor(2), tensor(2), tensor(2), tensor(2), tensor(2), tensor(2), tensor(2), tensor(2), tensor(2), tensor(2), tensor(2), tensor(2), tensor(2), tensor(2), tensor(2), tensor(2), tensor(2), tensor(2), tensor(2), tensor(2), tensor(2), tensor(2), tensor(2), tensor(2), tensor(2), tensor(2), tensor(1), tensor(1), tensor(1), tensor(1), tensor(1), tensor(1), tensor(1), tensor(1), tensor(1), tensor(1), tensor(1), tensor(1), tensor(1), tensor(1), tensor(1), tensor(1), tensor(1), tensor(1), tensor(1), tensor(1), tensor(1), tensor(1), tensor(1), tensor(1), tensor(1), tensor(1), tensor(1), tensor(1), tensor(1), tensor(1), tensor(1), tensor(1), tensor(1), tensor(1), tensor(1), tensor(1), tensor(1), tensor(1), tensor(1), tensor(1), tensor(1), tensor(1), tensor(1), tensor(1), tensor(1), tensor(1), tensor(1), tensor(1), tensor(1), tensor(1), tensor(1), tensor(1), tensor(1), tensor(1), tensor(1), tensor(1), tensor(1), tensor(1), tensor(1), tensor(1), tensor(1), tensor(1), tensor(1), tensor(1), tensor(1), tensor(1), tensor(1), tensor(1), tensor(1), tensor(1), tensor(1), tensor(1), tensor(1), tensor(1), tensor(1), tensor(1), tensor(1), tensor(1), tensor(1), tensor(1), tensor(1), tensor(1), tensor(1), tensor(1), tensor(1), tensor(1), tensor(1), tensor(1), tensor(1), tensor(1), tensor(1), tensor(1), tensor(1), tensor(1), tensor(1), tensor(1), tensor(1), tensor(1), tensor(1), tensor(1), tensor(1), tensor(1), tensor(1), tensor(1), tensor(1), tensor(1), tensor(1), tensor(1), tensor(1), tensor(1), tensor(1), tensor(1), tensor(1), tensor(1), tensor(1), tensor(1), tensor(1), tensor(1), tensor(1), tensor(1), tensor(1), tensor(1), tensor(1), tensor(1), tensor(1), tensor(1), tensor(1), tensor(1), tensor(1), tensor(1), tensor(1), tensor(1), tensor(1), tensor(1), tensor(1), tensor(1), tensor(1), tensor(1), tensor(1), tensor(1), tensor(1), tensor(1), tensor(1), tensor(1), tensor(1), tensor(1), tensor(1), tensor(1), tensor(1), tensor(1), tensor(1), tensor(1), tensor(1), tensor(1), tensor(1), tensor(1), tensor(1), tensor(1), tensor(1), tensor(1), tensor(1), tensor(1), tensor(1), tensor(1), tensor(1), tensor(1), tensor(1), tensor(1), tensor(1), tensor(1), tensor(1), tensor(1), tensor(1), tensor(1), tensor(1), tensor(1), tensor(1), tensor(1), tensor(1), tensor(1), tensor(1), tensor(1), tensor(1), tensor(1), tensor(1), tensor(1), tensor(1), tensor(1), tensor(1), tensor(1), tensor(1), tensor(1), tensor(1), tensor(1), tensor(1), tensor(1), tensor(1), tensor(1), tensor(1), tensor(1), tensor(1), tensor(1), tensor(1), tensor(1), tensor(1), tensor(1), tensor(1), tensor(1), tensor(1), tensor(1), tensor(1), tensor(1), tensor(1), tensor(1), tensor(1), tensor(1), tensor(1), tensor(1), tensor(1), tensor(1), tensor(1), tensor(1), tensor(1), tensor(1), tensor(1), tensor(1), tensor(1), tensor(1), tensor(1), tensor(1), tensor(1), tensor(1), tensor(1), tensor(1), tensor(1), tensor(1), tensor(1), tensor(1), tensor(1), tensor(1), tensor(1), tensor(1), tensor(1), tensor(1), tensor(1), tensor(1), tensor(1), tensor(1), tensor(1), tensor(1), tensor(1), tensor(1), tensor(1), tensor(1), tensor(1), tensor(1), tensor(1), tensor(1), tensor(1), tensor(1), tensor(1), tensor(1), tensor(1), tensor(1), tensor(1), tensor(1), tensor(1), tensor(1), tensor(1), tensor(1), tensor(1), tensor(1), tensor(1), tensor(1), tensor(1), tensor(1), tensor(1), tensor(1), tensor(1), tensor(1), tensor(1), tensor(1), tensor(1), tensor(1), tensor(1), tensor(1), tensor(1), tensor(1), tensor(1), tensor(1), tensor(1), tensor(1), tensor(1), tensor(1), tensor(1), tensor(1), tensor(1), tensor(1), tensor(1), tensor(1), tensor(1), tensor(1), tensor(1), tensor(1), tensor(1), tensor(1), tensor(1), tensor(1), tensor(1), tensor(1), tensor(1), tensor(1), tensor(1), tensor(1), tensor(1), tensor(1), tensor(1), tensor(1), tensor(1), tensor(1), tensor(1), tensor(1), tensor(1), tensor(1), tensor(1), tensor(1), tensor(1), tensor(1), tensor(1), tensor(1), tensor(1), tensor(1), tensor(1), tensor(1), tensor(1), tensor(1), tensor(1), tensor(1), tensor(1), tensor(1), tensor(1), tensor(1), tensor(1), tensor(1), tensor(1), tensor(1), tensor(1), tensor(1), tensor(1), tensor(1), tensor(1), tensor(1), tensor(1), tensor(1), tensor(1), tensor(1), tensor(1), tensor(1), tensor(1), tensor(1), tensor(1), tensor(1), tensor(1), tensor(1), tensor(1), tensor(1), tensor(1), tensor(1), tensor(1), tensor(1), tensor(1), tensor(1), tensor(1), tensor(1), tensor(1), tensor(1), tensor(1), tensor(1), tensor(1), tensor(1), tensor(1), tensor(1), tensor(1), tensor(1), tensor(1), tensor(1), tensor(1), tensor(1), tensor(1), tensor(1), tensor(1), tensor(1), tensor(1), tensor(1), tensor(1), tensor(1), tensor(1), tensor(1), tensor(1), tensor(1), tensor(1), tensor(1), tensor(1), tensor(1), tensor(1), tensor(1), tensor(1), tensor(1), tensor(1), tensor(1), tensor(1), tensor(1), tensor(1), tensor(1), tensor(1), tensor(1), tensor(1), tensor(1), tensor(1), tensor(1), tensor(1), tensor(1), tensor(1), tensor(1), tensor(1), tensor(1), tensor(1), tensor(1), tensor(1), tensor(1), tensor(1), tensor(1), tensor(1), tensor(1), tensor(1), tensor(1), tensor(1), tensor(1), tensor(1), tensor(1), tensor(1), tensor(1), tensor(1), tensor(1), tensor(1), tensor(1), tensor(1), tensor(1), tensor(1), tensor(1), tensor(1), tensor(1), tensor(1), tensor(1), tensor(1), tensor(1), tensor(1), tensor(1), tensor(1), tensor(1), tensor(1), tensor(1), tensor(1), tensor(1), tensor(1), tensor(1), tensor(1), tensor(1), tensor(1), tensor(1), tensor(1), tensor(1), tensor(1), tensor(1), tensor(1), tensor(1), tensor(1), tensor(1), tensor(1)]\n",
            "Batch labels: tensor([1, 1, 3,  ..., 1, 2, 2])\n",
            "==========================\n",
            "Validation batch padded sequences shape: torch.Size([4096, 47])\n",
            "Validation batch sequence lengths: [tensor(47), tensor(43), tensor(43), tensor(43), tensor(40), tensor(37), tensor(37), tensor(37), tensor(35), tensor(35), tensor(34), tensor(34), tensor(34), tensor(33), tensor(33), tensor(33), tensor(32), tensor(32), tensor(32), tensor(32), tensor(32), tensor(32), tensor(32), tensor(32), tensor(32), tensor(32), tensor(31), tensor(31), tensor(31), tensor(31), tensor(31), tensor(30), tensor(30), tensor(30), tensor(30), tensor(30), tensor(30), tensor(30), tensor(30), tensor(29), tensor(29), tensor(29), tensor(29), tensor(29), tensor(29), tensor(28), tensor(28), tensor(28), tensor(28), tensor(28), tensor(28), tensor(28), tensor(28), tensor(28), tensor(28), tensor(28), tensor(28), tensor(28), tensor(28), tensor(28), tensor(28), tensor(28), tensor(28), tensor(28), tensor(28), tensor(27), tensor(27), tensor(27), tensor(27), tensor(27), tensor(27), tensor(27), tensor(27), tensor(27), tensor(27), tensor(27), tensor(27), tensor(27), tensor(27), tensor(27), tensor(26), tensor(26), tensor(26), tensor(26), tensor(26), tensor(26), tensor(26), tensor(26), tensor(26), tensor(25), tensor(25), tensor(25), tensor(25), tensor(25), tensor(25), tensor(25), tensor(25), tensor(25), tensor(25), tensor(25), tensor(25), tensor(25), tensor(25), tensor(25), tensor(25), tensor(25), tensor(25), tensor(25), tensor(25), tensor(25), tensor(25), tensor(24), tensor(24), tensor(24), tensor(24), tensor(24), tensor(24), tensor(24), tensor(24), tensor(24), tensor(24), tensor(24), tensor(24), tensor(24), tensor(24), tensor(24), tensor(24), tensor(24), tensor(24), tensor(24), tensor(24), tensor(24), tensor(23), tensor(23), tensor(23), tensor(23), tensor(23), tensor(23), tensor(23), tensor(23), tensor(23), tensor(23), tensor(23), tensor(23), tensor(23), tensor(23), tensor(23), tensor(23), tensor(23), tensor(23), tensor(23), tensor(23), tensor(23), tensor(23), tensor(23), tensor(22), tensor(22), tensor(22), tensor(22), tensor(22), tensor(22), tensor(22), tensor(22), tensor(22), tensor(22), tensor(22), tensor(22), tensor(22), tensor(22), tensor(22), tensor(22), tensor(22), tensor(22), tensor(22), tensor(22), tensor(22), tensor(22), tensor(22), tensor(22), tensor(22), tensor(21), tensor(21), tensor(21), tensor(21), tensor(21), tensor(21), tensor(21), tensor(21), tensor(21), tensor(21), tensor(21), tensor(21), tensor(21), tensor(21), tensor(21), tensor(21), tensor(21), tensor(21), tensor(21), tensor(21), tensor(21), tensor(21), tensor(21), tensor(21), tensor(21), tensor(21), tensor(21), tensor(21), tensor(21), tensor(21), tensor(21), tensor(21), tensor(21), tensor(21), tensor(20), tensor(20), tensor(20), tensor(20), tensor(20), tensor(20), tensor(20), tensor(20), tensor(20), tensor(20), tensor(20), tensor(20), tensor(20), tensor(20), tensor(20), tensor(20), tensor(20), tensor(20), tensor(20), tensor(20), tensor(20), tensor(20), tensor(19), tensor(19), tensor(19), tensor(19), tensor(19), tensor(19), tensor(19), tensor(19), tensor(19), tensor(19), tensor(19), tensor(19), tensor(19), tensor(19), tensor(19), tensor(19), tensor(19), tensor(19), tensor(19), tensor(19), tensor(19), tensor(19), tensor(19), tensor(19), tensor(19), tensor(19), tensor(19), tensor(19), tensor(19), tensor(19), tensor(19), tensor(19), tensor(19), tensor(19), tensor(19), tensor(19), tensor(19), tensor(18), tensor(18), tensor(18), tensor(18), tensor(18), tensor(18), tensor(18), tensor(18), tensor(18), tensor(18), tensor(18), tensor(18), tensor(18), tensor(18), tensor(18), tensor(18), tensor(18), tensor(18), tensor(18), tensor(18), tensor(18), tensor(18), tensor(18), tensor(18), tensor(18), tensor(18), tensor(18), tensor(18), tensor(18), tensor(18), tensor(18), tensor(18), tensor(18), tensor(18), tensor(18), tensor(18), tensor(18), tensor(18), tensor(18), tensor(18), tensor(18), tensor(18), tensor(18), tensor(18), tensor(18), tensor(18), tensor(18), tensor(17), tensor(17), tensor(17), tensor(17), tensor(17), tensor(17), tensor(17), tensor(17), tensor(17), tensor(17), tensor(17), tensor(17), tensor(17), tensor(17), tensor(17), tensor(17), tensor(17), tensor(17), tensor(17), tensor(17), tensor(17), tensor(17), tensor(17), tensor(17), tensor(17), tensor(17), tensor(17), tensor(17), tensor(17), tensor(17), tensor(17), tensor(17), tensor(17), tensor(17), tensor(17), tensor(17), tensor(17), tensor(17), tensor(17), tensor(17), tensor(17), tensor(17), tensor(17), tensor(17), tensor(17), tensor(17), tensor(17), tensor(17), tensor(17), tensor(17), tensor(17), tensor(17), tensor(16), tensor(16), tensor(16), tensor(16), tensor(16), tensor(16), tensor(16), tensor(16), tensor(16), tensor(16), tensor(16), tensor(16), tensor(16), tensor(16), tensor(16), tensor(16), tensor(16), tensor(16), tensor(16), tensor(16), tensor(16), tensor(16), tensor(16), tensor(16), tensor(16), tensor(16), tensor(16), tensor(16), tensor(16), tensor(16), tensor(16), tensor(16), tensor(16), tensor(16), tensor(16), tensor(16), tensor(16), tensor(16), tensor(16), tensor(16), tensor(16), tensor(16), tensor(16), tensor(16), tensor(16), tensor(16), tensor(16), tensor(16), tensor(16), tensor(16), tensor(16), tensor(16), tensor(16), tensor(16), tensor(16), tensor(16), tensor(15), tensor(15), tensor(15), tensor(15), tensor(15), tensor(15), tensor(15), tensor(15), tensor(15), tensor(15), tensor(15), tensor(15), tensor(15), tensor(15), tensor(15), tensor(15), tensor(15), tensor(15), tensor(15), tensor(15), tensor(15), tensor(15), tensor(15), tensor(15), tensor(15), tensor(15), tensor(15), tensor(15), tensor(15), tensor(15), tensor(15), tensor(15), tensor(15), tensor(15), tensor(15), tensor(15), tensor(15), tensor(15), tensor(15), tensor(15), tensor(15), tensor(15), tensor(15), tensor(15), tensor(15), tensor(15), tensor(15), tensor(15), tensor(15), tensor(15), tensor(15), tensor(14), tensor(14), tensor(14), tensor(14), tensor(14), tensor(14), tensor(14), tensor(14), tensor(14), tensor(14), tensor(14), tensor(14), tensor(14), tensor(14), tensor(14), tensor(14), tensor(14), tensor(14), tensor(14), tensor(14), tensor(14), tensor(14), tensor(14), tensor(14), tensor(14), tensor(14), tensor(14), tensor(14), tensor(14), tensor(14), tensor(14), tensor(14), tensor(14), tensor(14), tensor(14), tensor(14), tensor(14), tensor(14), tensor(14), tensor(14), tensor(14), tensor(14), tensor(14), tensor(14), tensor(14), tensor(14), tensor(14), tensor(14), tensor(14), tensor(14), tensor(14), tensor(14), tensor(14), tensor(14), tensor(14), tensor(14), tensor(14), tensor(14), tensor(14), tensor(14), tensor(14), tensor(14), tensor(14), tensor(14), tensor(14), tensor(14), tensor(14), tensor(14), tensor(14), tensor(14), tensor(14), tensor(14), tensor(14), tensor(14), tensor(13), tensor(13), tensor(13), tensor(13), tensor(13), tensor(13), tensor(13), tensor(13), tensor(13), tensor(13), tensor(13), tensor(13), tensor(13), tensor(13), tensor(13), tensor(13), tensor(13), tensor(13), tensor(13), tensor(13), tensor(13), tensor(13), tensor(13), tensor(13), tensor(13), tensor(13), tensor(13), tensor(13), tensor(13), tensor(13), tensor(13), tensor(13), tensor(13), tensor(13), tensor(13), tensor(13), tensor(13), tensor(13), tensor(13), tensor(13), tensor(13), tensor(13), tensor(13), tensor(13), tensor(13), tensor(13), tensor(13), tensor(13), tensor(13), tensor(13), tensor(13), tensor(13), tensor(13), tensor(13), tensor(13), tensor(13), tensor(13), tensor(13), tensor(13), tensor(13), tensor(13), tensor(13), tensor(13), tensor(13), tensor(13), tensor(13), tensor(13), tensor(13), tensor(13), tensor(13), tensor(13), tensor(13), tensor(13), tensor(13), tensor(13), tensor(13), tensor(12), tensor(12), tensor(12), tensor(12), tensor(12), tensor(12), tensor(12), tensor(12), tensor(12), tensor(12), tensor(12), tensor(12), tensor(12), tensor(12), tensor(12), tensor(12), tensor(12), tensor(12), tensor(12), tensor(12), tensor(12), tensor(12), tensor(12), tensor(12), tensor(12), tensor(12), tensor(12), tensor(12), tensor(12), tensor(12), tensor(12), tensor(12), tensor(12), tensor(12), tensor(12), tensor(12), tensor(12), tensor(12), tensor(12), tensor(12), tensor(12), tensor(12), tensor(12), tensor(12), tensor(12), tensor(12), tensor(12), tensor(12), tensor(12), tensor(12), tensor(12), tensor(12), tensor(12), tensor(12), tensor(12), tensor(12), tensor(12), tensor(12), tensor(12), tensor(12), tensor(12), tensor(12), tensor(12), tensor(12), tensor(12), tensor(12), tensor(12), tensor(12), tensor(12), tensor(12), tensor(12), tensor(12), tensor(12), tensor(12), tensor(12), tensor(12), tensor(11), tensor(11), tensor(11), tensor(11), tensor(11), tensor(11), tensor(11), tensor(11), tensor(11), tensor(11), tensor(11), tensor(11), tensor(11), tensor(11), tensor(11), tensor(11), tensor(11), tensor(11), tensor(11), tensor(11), tensor(11), tensor(11), tensor(11), tensor(11), tensor(11), tensor(11), tensor(11), tensor(11), tensor(11), tensor(11), tensor(11), tensor(11), tensor(11), tensor(11), tensor(11), tensor(11), tensor(11), tensor(11), tensor(11), tensor(11), tensor(11), tensor(11), tensor(11), tensor(11), tensor(11), tensor(11), tensor(11), tensor(11), tensor(11), tensor(11), tensor(11), tensor(11), tensor(11), tensor(11), tensor(11), tensor(11), tensor(11), tensor(11), tensor(11), tensor(11), tensor(11), tensor(11), tensor(11), tensor(11), tensor(11), tensor(11), tensor(11), tensor(11), tensor(11), tensor(11), tensor(11), tensor(11), tensor(11), tensor(11), tensor(11), tensor(11), tensor(11), tensor(11), tensor(11), tensor(11), tensor(11), tensor(11), tensor(11), tensor(11), tensor(11), tensor(11), tensor(11), tensor(11), tensor(11), tensor(11), tensor(11), tensor(11), tensor(11), tensor(11), tensor(11), tensor(11), tensor(11), tensor(11), tensor(11), tensor(11), tensor(11), tensor(11), tensor(11), tensor(11), tensor(11), tensor(11), tensor(11), tensor(11), tensor(11), tensor(11), tensor(10), tensor(10), tensor(10), tensor(10), tensor(10), tensor(10), tensor(10), tensor(10), tensor(10), tensor(10), tensor(10), tensor(10), tensor(10), tensor(10), tensor(10), tensor(10), tensor(10), tensor(10), tensor(10), tensor(10), tensor(10), tensor(10), tensor(10), tensor(10), tensor(10), tensor(10), tensor(10), tensor(10), tensor(10), tensor(10), tensor(10), tensor(10), tensor(10), tensor(10), tensor(10), tensor(10), tensor(10), tensor(10), tensor(10), tensor(10), tensor(10), tensor(10), tensor(10), tensor(10), tensor(10), tensor(10), tensor(10), tensor(10), tensor(10), tensor(10), tensor(10), tensor(10), tensor(10), tensor(10), tensor(10), tensor(10), tensor(10), tensor(10), tensor(10), tensor(10), tensor(10), tensor(10), tensor(10), tensor(10), tensor(10), tensor(10), tensor(10), tensor(10), tensor(10), tensor(10), tensor(10), tensor(10), tensor(10), tensor(10), tensor(10), tensor(10), tensor(10), tensor(10), tensor(10), tensor(10), tensor(10), tensor(10), tensor(10), tensor(10), tensor(10), tensor(10), tensor(10), tensor(10), tensor(10), tensor(10), tensor(10), tensor(10), tensor(10), tensor(10), tensor(10), tensor(10), tensor(10), tensor(10), tensor(10), tensor(10), tensor(10), tensor(10), tensor(10), tensor(10), tensor(10), tensor(10), tensor(10), tensor(10), tensor(10), tensor(10), tensor(10), tensor(10), tensor(10), tensor(10), tensor(10), tensor(9), tensor(9), tensor(9), tensor(9), tensor(9), tensor(9), tensor(9), tensor(9), tensor(9), tensor(9), tensor(9), tensor(9), tensor(9), tensor(9), tensor(9), tensor(9), tensor(9), tensor(9), tensor(9), tensor(9), tensor(9), tensor(9), tensor(9), tensor(9), tensor(9), tensor(9), tensor(9), tensor(9), tensor(9), tensor(9), tensor(9), tensor(9), tensor(9), tensor(9), tensor(9), tensor(9), tensor(9), tensor(9), tensor(9), tensor(9), tensor(9), tensor(9), tensor(9), tensor(9), tensor(9), tensor(9), tensor(9), tensor(9), tensor(9), tensor(9), tensor(9), tensor(9), tensor(9), tensor(9), tensor(9), tensor(9), tensor(9), tensor(9), tensor(9), tensor(9), tensor(9), tensor(9), tensor(9), tensor(9), tensor(9), tensor(9), tensor(9), tensor(9), tensor(9), tensor(9), tensor(9), tensor(9), tensor(9), tensor(9), tensor(9), tensor(9), tensor(9), tensor(9), tensor(9), tensor(9), tensor(9), tensor(9), tensor(9), tensor(9), tensor(9), tensor(9), tensor(9), tensor(9), tensor(9), tensor(9), tensor(9), tensor(9), tensor(9), tensor(9), tensor(9), tensor(9), tensor(9), tensor(9), tensor(9), tensor(9), tensor(9), tensor(9), tensor(9), tensor(9), tensor(9), tensor(9), tensor(9), tensor(9), tensor(9), tensor(9), tensor(9), tensor(9), tensor(9), tensor(9), tensor(9), tensor(9), tensor(9), tensor(9), tensor(9), tensor(9), tensor(9), tensor(9), tensor(9), tensor(9), tensor(9), tensor(9), tensor(9), tensor(9), tensor(9), tensor(9), tensor(9), tensor(9), tensor(9), tensor(9), tensor(9), tensor(9), tensor(9), tensor(9), tensor(9), tensor(9), tensor(9), tensor(9), tensor(9), tensor(9), tensor(9), tensor(9), tensor(9), tensor(9), tensor(9), tensor(9), tensor(8), tensor(8), tensor(8), tensor(8), tensor(8), tensor(8), tensor(8), tensor(8), tensor(8), tensor(8), tensor(8), tensor(8), tensor(8), tensor(8), tensor(8), tensor(8), tensor(8), tensor(8), tensor(8), tensor(8), tensor(8), tensor(8), tensor(8), tensor(8), tensor(8), tensor(8), tensor(8), tensor(8), tensor(8), tensor(8), tensor(8), tensor(8), tensor(8), tensor(8), tensor(8), tensor(8), tensor(8), tensor(8), tensor(8), tensor(8), tensor(8), tensor(8), tensor(8), tensor(8), tensor(8), tensor(8), tensor(8), tensor(8), tensor(8), tensor(8), tensor(8), tensor(8), tensor(8), tensor(8), tensor(8), tensor(8), tensor(8), tensor(8), tensor(8), tensor(8), tensor(8), tensor(8), tensor(8), tensor(8), tensor(8), tensor(8), tensor(8), tensor(8), tensor(8), tensor(8), tensor(8), tensor(8), tensor(8), tensor(8), tensor(8), tensor(8), tensor(8), tensor(8), tensor(8), tensor(8), tensor(8), tensor(8), tensor(8), tensor(8), tensor(8), tensor(8), tensor(8), tensor(8), tensor(8), tensor(8), tensor(8), tensor(8), tensor(8), tensor(8), tensor(8), tensor(8), tensor(8), tensor(8), tensor(8), tensor(8), tensor(8), tensor(8), tensor(8), tensor(8), tensor(8), tensor(8), tensor(8), tensor(8), tensor(8), tensor(8), tensor(8), tensor(8), tensor(8), tensor(8), tensor(8), tensor(8), tensor(8), tensor(8), tensor(8), tensor(8), tensor(8), tensor(8), tensor(8), tensor(8), tensor(8), tensor(8), tensor(8), tensor(8), tensor(8), tensor(8), tensor(8), tensor(8), tensor(8), tensor(8), tensor(8), tensor(8), tensor(8), tensor(8), tensor(8), tensor(8), tensor(8), tensor(8), tensor(8), tensor(8), tensor(8), tensor(8), tensor(8), tensor(7), tensor(7), tensor(7), tensor(7), tensor(7), tensor(7), tensor(7), tensor(7), tensor(7), tensor(7), tensor(7), tensor(7), tensor(7), tensor(7), tensor(7), tensor(7), tensor(7), tensor(7), tensor(7), tensor(7), tensor(7), tensor(7), tensor(7), tensor(7), tensor(7), tensor(7), tensor(7), tensor(7), tensor(7), tensor(7), tensor(7), tensor(7), tensor(7), tensor(7), tensor(7), tensor(7), tensor(7), tensor(7), tensor(7), tensor(7), tensor(7), tensor(7), tensor(7), tensor(7), tensor(7), tensor(7), tensor(7), tensor(7), tensor(7), tensor(7), tensor(7), tensor(7), tensor(7), tensor(7), tensor(7), tensor(7), tensor(7), tensor(7), tensor(7), tensor(7), tensor(7), tensor(7), tensor(7), tensor(7), tensor(7), tensor(7), tensor(7), tensor(7), tensor(7), tensor(7), tensor(7), tensor(7), tensor(7), tensor(7), tensor(7), tensor(7), tensor(7), tensor(7), tensor(7), tensor(7), tensor(7), tensor(7), tensor(7), tensor(7), tensor(7), tensor(7), tensor(7), tensor(7), tensor(7), tensor(7), tensor(7), tensor(7), tensor(7), tensor(7), tensor(7), tensor(7), tensor(7), tensor(7), tensor(7), tensor(7), tensor(7), tensor(7), tensor(7), tensor(7), tensor(7), tensor(7), tensor(7), tensor(7), tensor(7), tensor(7), tensor(7), tensor(7), tensor(7), tensor(7), tensor(7), tensor(7), tensor(7), tensor(7), tensor(7), tensor(7), tensor(7), tensor(7), tensor(7), tensor(7), tensor(7), tensor(7), tensor(7), tensor(7), tensor(7), tensor(7), tensor(7), tensor(7), tensor(7), tensor(7), tensor(7), tensor(7), tensor(7), tensor(7), tensor(7), tensor(7), tensor(7), tensor(7), tensor(7), tensor(7), tensor(7), tensor(7), tensor(7), tensor(7), tensor(7), tensor(7), tensor(7), tensor(7), tensor(7), tensor(7), tensor(7), tensor(7), tensor(7), tensor(7), tensor(7), tensor(7), tensor(7), tensor(7), tensor(7), tensor(7), tensor(7), tensor(7), tensor(7), tensor(7), tensor(7), tensor(7), tensor(7), tensor(7), tensor(7), tensor(7), tensor(7), tensor(7), tensor(7), tensor(7), tensor(7), tensor(7), tensor(6), tensor(6), tensor(6), tensor(6), tensor(6), tensor(6), tensor(6), tensor(6), tensor(6), tensor(6), tensor(6), tensor(6), tensor(6), tensor(6), tensor(6), tensor(6), tensor(6), tensor(6), tensor(6), tensor(6), tensor(6), tensor(6), tensor(6), tensor(6), tensor(6), tensor(6), tensor(6), tensor(6), tensor(6), tensor(6), tensor(6), tensor(6), tensor(6), tensor(6), tensor(6), tensor(6), tensor(6), tensor(6), tensor(6), tensor(6), tensor(6), tensor(6), tensor(6), tensor(6), tensor(6), tensor(6), tensor(6), tensor(6), tensor(6), tensor(6), tensor(6), tensor(6), tensor(6), tensor(6), tensor(6), tensor(6), tensor(6), tensor(6), tensor(6), tensor(6), tensor(6), tensor(6), tensor(6), tensor(6), tensor(6), tensor(6), tensor(6), tensor(6), tensor(6), tensor(6), tensor(6), tensor(6), tensor(6), tensor(6), tensor(6), tensor(6), tensor(6), tensor(6), tensor(6), tensor(6), tensor(6), tensor(6), tensor(6), tensor(6), tensor(6), tensor(6), tensor(6), tensor(6), tensor(6), tensor(6), tensor(6), tensor(6), tensor(6), tensor(6), tensor(6), tensor(6), tensor(6), tensor(6), tensor(6), tensor(6), tensor(6), tensor(6), tensor(6), tensor(6), tensor(6), tensor(6), tensor(6), tensor(6), tensor(6), tensor(6), tensor(6), tensor(6), tensor(6), tensor(6), tensor(6), tensor(6), tensor(6), tensor(6), tensor(6), tensor(6), tensor(6), tensor(6), tensor(6), tensor(6), tensor(6), tensor(6), tensor(6), tensor(6), tensor(6), tensor(6), tensor(6), tensor(6), tensor(6), tensor(6), tensor(6), tensor(6), tensor(6), tensor(6), tensor(6), tensor(6), tensor(6), tensor(6), tensor(6), tensor(6), tensor(6), tensor(6), tensor(6), tensor(6), tensor(6), tensor(6), tensor(6), tensor(6), tensor(6), tensor(6), tensor(6), tensor(6), tensor(6), tensor(6), tensor(6), tensor(6), tensor(6), tensor(6), tensor(6), tensor(6), tensor(6), tensor(6), tensor(6), tensor(6), tensor(6), tensor(6), tensor(6), tensor(6), tensor(6), tensor(6), tensor(6), tensor(6), tensor(6), tensor(6), tensor(6), tensor(6), tensor(6), tensor(6), tensor(6), tensor(6), tensor(6), tensor(6), tensor(6), tensor(6), tensor(6), tensor(6), tensor(6), tensor(6), tensor(6), tensor(6), tensor(6), tensor(6), tensor(6), tensor(6), tensor(6), tensor(6), tensor(6), tensor(6), tensor(6), tensor(6), tensor(6), tensor(6), tensor(6), tensor(6), tensor(6), tensor(6), tensor(6), tensor(6), tensor(6), tensor(6), tensor(6), tensor(6), tensor(6), tensor(6), tensor(6), tensor(6), tensor(6), tensor(6), tensor(6), tensor(6), tensor(6), tensor(6), tensor(6), tensor(6), tensor(6), tensor(6), tensor(6), tensor(6), tensor(6), tensor(5), tensor(5), tensor(5), tensor(5), tensor(5), tensor(5), tensor(5), tensor(5), tensor(5), tensor(5), tensor(5), tensor(5), tensor(5), tensor(5), tensor(5), tensor(5), tensor(5), tensor(5), tensor(5), tensor(5), tensor(5), tensor(5), tensor(5), tensor(5), tensor(5), tensor(5), tensor(5), tensor(5), tensor(5), tensor(5), tensor(5), tensor(5), tensor(5), tensor(5), tensor(5), tensor(5), tensor(5), tensor(5), tensor(5), tensor(5), tensor(5), tensor(5), tensor(5), tensor(5), tensor(5), tensor(5), tensor(5), tensor(5), tensor(5), tensor(5), tensor(5), tensor(5), tensor(5), tensor(5), tensor(5), tensor(5), tensor(5), tensor(5), tensor(5), tensor(5), tensor(5), tensor(5), tensor(5), tensor(5), tensor(5), tensor(5), tensor(5), tensor(5), tensor(5), tensor(5), tensor(5), tensor(5), tensor(5), tensor(5), tensor(5), tensor(5), tensor(5), tensor(5), tensor(5), tensor(5), tensor(5), tensor(5), tensor(5), tensor(5), tensor(5), tensor(5), tensor(5), tensor(5), tensor(5), tensor(5), tensor(5), tensor(5), tensor(5), tensor(5), tensor(5), tensor(5), tensor(5), tensor(5), tensor(5), tensor(5), tensor(5), tensor(5), tensor(5), tensor(5), tensor(5), tensor(5), tensor(5), tensor(5), tensor(5), tensor(5), tensor(5), tensor(5), tensor(5), tensor(5), tensor(5), tensor(5), tensor(5), tensor(5), tensor(5), tensor(5), tensor(5), tensor(5), tensor(5), tensor(5), tensor(5), tensor(5), tensor(5), tensor(5), tensor(5), tensor(5), tensor(5), tensor(5), tensor(5), tensor(5), tensor(5), tensor(5), tensor(5), tensor(5), tensor(5), tensor(5), tensor(5), tensor(5), tensor(5), tensor(5), tensor(5), tensor(5), tensor(5), tensor(5), tensor(5), tensor(5), tensor(5), tensor(5), tensor(5), tensor(5), tensor(5), tensor(5), tensor(5), tensor(5), tensor(5), tensor(5), tensor(5), tensor(5), tensor(5), tensor(5), tensor(5), tensor(5), tensor(5), tensor(5), tensor(5), tensor(5), tensor(5), tensor(5), tensor(5), tensor(5), tensor(5), tensor(5), tensor(5), tensor(5), tensor(5), tensor(5), tensor(5), tensor(5), tensor(5), tensor(5), tensor(5), tensor(5), tensor(5), tensor(5), tensor(5), tensor(5), tensor(5), tensor(5), tensor(5), tensor(5), tensor(5), tensor(5), tensor(5), tensor(5), tensor(5), tensor(5), tensor(5), tensor(5), tensor(5), tensor(5), tensor(5), tensor(5), tensor(5), tensor(5), tensor(5), tensor(5), tensor(5), tensor(5), tensor(5), tensor(5), tensor(5), tensor(5), tensor(5), tensor(5), tensor(5), tensor(5), tensor(5), tensor(5), tensor(5), tensor(5), tensor(5), tensor(5), tensor(5), tensor(5), tensor(5), tensor(5), tensor(5), tensor(5), tensor(5), tensor(5), tensor(5), tensor(5), tensor(5), tensor(5), tensor(5), tensor(5), tensor(5), tensor(5), tensor(5), tensor(5), tensor(5), tensor(5), tensor(5), tensor(5), tensor(5), tensor(5), tensor(5), tensor(5), tensor(5), tensor(5), tensor(5), tensor(5), tensor(5), tensor(5), tensor(5), tensor(5), tensor(5), tensor(5), tensor(5), tensor(5), tensor(5), tensor(5), tensor(5), tensor(5), tensor(5), tensor(5), tensor(5), tensor(5), tensor(5), tensor(5), tensor(5), tensor(5), tensor(5), tensor(5), tensor(5), tensor(5), tensor(5), tensor(5), tensor(5), tensor(5), tensor(5), tensor(5), tensor(5), tensor(5), tensor(4), tensor(4), tensor(4), tensor(4), tensor(4), tensor(4), tensor(4), tensor(4), tensor(4), tensor(4), tensor(4), tensor(4), tensor(4), tensor(4), tensor(4), tensor(4), tensor(4), tensor(4), tensor(4), tensor(4), tensor(4), tensor(4), tensor(4), tensor(4), tensor(4), tensor(4), tensor(4), tensor(4), tensor(4), tensor(4), tensor(4), tensor(4), tensor(4), tensor(4), tensor(4), tensor(4), tensor(4), tensor(4), tensor(4), tensor(4), tensor(4), tensor(4), tensor(4), tensor(4), tensor(4), tensor(4), tensor(4), tensor(4), tensor(4), tensor(4), tensor(4), tensor(4), tensor(4), tensor(4), tensor(4), tensor(4), tensor(4), tensor(4), tensor(4), tensor(4), tensor(4), tensor(4), tensor(4), tensor(4), tensor(4), tensor(4), tensor(4), tensor(4), tensor(4), tensor(4), tensor(4), tensor(4), tensor(4), tensor(4), tensor(4), tensor(4), tensor(4), tensor(4), tensor(4), tensor(4), tensor(4), tensor(4), tensor(4), tensor(4), tensor(4), tensor(4), tensor(4), tensor(4), tensor(4), tensor(4), tensor(4), tensor(4), tensor(4), tensor(4), tensor(4), tensor(4), tensor(4), tensor(4), tensor(4), tensor(4), tensor(4), tensor(4), tensor(4), tensor(4), tensor(4), tensor(4), tensor(4), tensor(4), tensor(4), tensor(4), tensor(4), tensor(4), tensor(4), tensor(4), tensor(4), tensor(4), tensor(4), tensor(4), tensor(4), tensor(4), tensor(4), tensor(4), tensor(4), tensor(4), tensor(4), tensor(4), tensor(4), tensor(4), tensor(4), tensor(4), tensor(4), tensor(4), tensor(4), tensor(4), tensor(4), tensor(4), tensor(4), tensor(4), tensor(4), tensor(4), tensor(4), tensor(4), tensor(4), tensor(4), tensor(4), tensor(4), tensor(4), tensor(4), tensor(4), tensor(4), tensor(4), tensor(4), tensor(4), tensor(4), tensor(4), tensor(4), tensor(4), tensor(4), tensor(4), tensor(4), tensor(4), tensor(4), tensor(4), tensor(4), tensor(4), tensor(4), tensor(4), tensor(4), tensor(4), tensor(4), tensor(4), tensor(4), tensor(4), tensor(4), tensor(4), tensor(4), tensor(4), tensor(4), tensor(4), tensor(4), tensor(4), tensor(4), tensor(4), tensor(4), tensor(4), tensor(4), tensor(4), tensor(4), tensor(4), tensor(4), tensor(4), tensor(4), tensor(4), tensor(4), tensor(4), tensor(4), tensor(4), tensor(4), tensor(4), tensor(4), tensor(4), tensor(4), tensor(4), tensor(4), tensor(4), tensor(4), tensor(4), tensor(4), tensor(4), tensor(4), tensor(4), tensor(4), tensor(4), tensor(4), tensor(4), tensor(4), tensor(4), tensor(4), tensor(4), tensor(4), tensor(4), tensor(4), tensor(4), tensor(4), tensor(4), tensor(4), tensor(4), tensor(4), tensor(4), tensor(4), tensor(4), tensor(4), tensor(4), tensor(4), tensor(4), tensor(4), tensor(4), tensor(4), tensor(4), tensor(4), tensor(4), tensor(4), tensor(4), tensor(4), tensor(4), tensor(4), tensor(4), tensor(4), tensor(4), tensor(4), tensor(4), tensor(4), tensor(4), tensor(4), tensor(4), tensor(4), tensor(4), tensor(4), tensor(4), tensor(4), tensor(4), tensor(4), tensor(4), tensor(4), tensor(4), tensor(4), tensor(4), tensor(4), tensor(4), tensor(4), tensor(4), tensor(4), tensor(4), tensor(4), tensor(4), tensor(4), tensor(4), tensor(4), tensor(4), tensor(4), tensor(4), tensor(4), tensor(4), tensor(4), tensor(4), tensor(4), tensor(4), tensor(4), tensor(4), tensor(4), tensor(4), tensor(4), tensor(4), tensor(4), tensor(4), tensor(4), tensor(4), tensor(4), tensor(4), tensor(4), tensor(4), tensor(4), tensor(4), tensor(4), tensor(4), tensor(4), tensor(4), tensor(4), tensor(4), tensor(4), tensor(4), tensor(4), tensor(4), tensor(4), tensor(4), tensor(4), tensor(4), tensor(4), tensor(4), tensor(4), tensor(4), tensor(4), tensor(4), tensor(4), tensor(4), tensor(4), tensor(4), tensor(4), tensor(4), tensor(4), tensor(4), tensor(4), tensor(4), tensor(4), tensor(4), tensor(4), tensor(4), tensor(4), tensor(4), tensor(4), tensor(4), tensor(4), tensor(4), tensor(4), tensor(4), tensor(4), tensor(4), tensor(4), tensor(4), tensor(4), tensor(4), tensor(4), tensor(4), tensor(4), tensor(4), tensor(4), tensor(4), tensor(4), tensor(4), tensor(4), tensor(4), tensor(4), tensor(4), tensor(4), tensor(4), tensor(4), tensor(4), tensor(4), tensor(4), tensor(4), tensor(4), tensor(4), tensor(4), tensor(4), tensor(4), tensor(4), tensor(4), tensor(4), tensor(4), tensor(4), tensor(4), tensor(4), tensor(4), tensor(4), tensor(4), tensor(4), tensor(4), tensor(4), tensor(4), tensor(4), tensor(4), tensor(4), tensor(4), tensor(4), tensor(4), tensor(4), tensor(4), tensor(4), tensor(4), tensor(4), tensor(4), tensor(4), tensor(4), tensor(4), tensor(4), tensor(4), tensor(4), tensor(4), tensor(4), tensor(4), tensor(4), tensor(4), tensor(4), tensor(4), tensor(4), tensor(4), tensor(4), tensor(4), tensor(4), tensor(4), tensor(4), tensor(4), tensor(3), tensor(3), tensor(3), tensor(3), tensor(3), tensor(3), tensor(3), tensor(3), tensor(3), tensor(3), tensor(3), tensor(3), tensor(3), tensor(3), tensor(3), tensor(3), tensor(3), tensor(3), tensor(3), tensor(3), tensor(3), tensor(3), tensor(3), tensor(3), tensor(3), tensor(3), tensor(3), tensor(3), tensor(3), tensor(3), tensor(3), tensor(3), tensor(3), tensor(3), tensor(3), tensor(3), tensor(3), tensor(3), tensor(3), tensor(3), tensor(3), tensor(3), tensor(3), tensor(3), tensor(3), tensor(3), tensor(3), tensor(3), tensor(3), tensor(3), tensor(3), tensor(3), tensor(3), tensor(3), tensor(3), tensor(3), tensor(3), tensor(3), tensor(3), tensor(3), tensor(3), tensor(3), tensor(3), tensor(3), tensor(3), tensor(3), tensor(3), tensor(3), tensor(3), tensor(3), tensor(3), tensor(3), tensor(3), tensor(3), tensor(3), tensor(3), tensor(3), tensor(3), tensor(3), tensor(3), tensor(3), tensor(3), tensor(3), tensor(3), tensor(3), tensor(3), tensor(3), tensor(3), tensor(3), tensor(3), tensor(3), tensor(3), tensor(3), tensor(3), tensor(3), tensor(3), tensor(3), tensor(3), tensor(3), tensor(3), tensor(3), tensor(3), tensor(3), tensor(3), tensor(3), tensor(3), tensor(3), tensor(3), tensor(3), tensor(3), tensor(3), tensor(3), tensor(3), tensor(3), tensor(3), tensor(3), tensor(3), tensor(3), tensor(3), tensor(3), tensor(3), tensor(3), tensor(3), tensor(3), tensor(3), tensor(3), tensor(3), tensor(3), tensor(3), tensor(3), tensor(3), tensor(3), tensor(3), tensor(3), tensor(3), tensor(3), tensor(3), tensor(3), tensor(3), tensor(3), tensor(3), tensor(3), tensor(3), tensor(3), tensor(3), tensor(3), tensor(3), tensor(3), tensor(3), tensor(3), tensor(3), tensor(3), tensor(3), tensor(3), tensor(3), tensor(3), tensor(3), tensor(3), tensor(3), tensor(3), tensor(3), tensor(3), tensor(3), tensor(3), tensor(3), tensor(3), tensor(3), tensor(3), tensor(3), tensor(3), tensor(3), tensor(3), tensor(3), tensor(3), tensor(3), tensor(3), tensor(3), tensor(3), tensor(3), tensor(3), tensor(3), tensor(3), tensor(3), tensor(3), tensor(3), tensor(3), tensor(3), tensor(3), tensor(3), tensor(3), tensor(3), tensor(3), tensor(3), tensor(3), tensor(3), tensor(3), tensor(3), tensor(3), tensor(3), tensor(3), tensor(3), tensor(3), tensor(3), tensor(3), tensor(3), tensor(3), tensor(3), tensor(3), tensor(3), tensor(3), tensor(3), tensor(3), tensor(3), tensor(3), tensor(3), tensor(3), tensor(3), tensor(3), tensor(3), tensor(3), tensor(3), tensor(3), tensor(3), tensor(3), tensor(3), tensor(3), tensor(3), tensor(3), tensor(3), tensor(3), tensor(3), tensor(3), tensor(3), tensor(3), tensor(3), tensor(3), tensor(3), tensor(3), tensor(3), tensor(3), tensor(3), tensor(3), tensor(3), tensor(3), tensor(3), tensor(3), tensor(3), tensor(3), tensor(3), tensor(3), tensor(3), tensor(3), tensor(3), tensor(3), tensor(3), tensor(3), tensor(3), tensor(3), tensor(3), tensor(3), tensor(3), tensor(3), tensor(3), tensor(3), tensor(3), tensor(3), tensor(3), tensor(3), tensor(3), tensor(3), tensor(3), tensor(3), tensor(3), tensor(3), tensor(3), tensor(3), tensor(3), tensor(3), tensor(3), tensor(3), tensor(3), tensor(3), tensor(3), tensor(3), tensor(3), tensor(3), tensor(3), tensor(3), tensor(3), tensor(3), tensor(3), tensor(3), tensor(3), tensor(3), tensor(3), tensor(3), tensor(3), tensor(3), tensor(3), tensor(3), tensor(3), tensor(3), tensor(3), tensor(3), tensor(3), tensor(3), tensor(3), tensor(3), tensor(3), tensor(3), tensor(3), tensor(3), tensor(3), tensor(3), tensor(3), tensor(3), tensor(3), tensor(3), tensor(3), tensor(3), tensor(3), tensor(3), tensor(3), tensor(3), tensor(3), tensor(3), tensor(3), tensor(3), tensor(3), tensor(3), tensor(3), tensor(3), tensor(3), tensor(3), tensor(3), tensor(3), tensor(3), tensor(3), tensor(3), tensor(3), tensor(3), tensor(3), tensor(3), tensor(3), tensor(3), tensor(3), tensor(3), tensor(3), tensor(3), tensor(3), tensor(3), tensor(3), tensor(3), tensor(3), tensor(3), tensor(3), tensor(3), tensor(3), tensor(3), tensor(3), tensor(3), tensor(3), tensor(3), tensor(3), tensor(3), tensor(3), tensor(3), tensor(3), tensor(3), tensor(3), tensor(3), tensor(3), tensor(3), tensor(3), tensor(3), tensor(3), tensor(3), tensor(3), tensor(3), tensor(3), tensor(3), tensor(3), tensor(3), tensor(3), tensor(3), tensor(3), tensor(3), tensor(3), tensor(3), tensor(3), tensor(3), tensor(3), tensor(3), tensor(3), tensor(3), tensor(3), tensor(3), tensor(3), tensor(3), tensor(3), tensor(3), tensor(3), tensor(3), tensor(3), tensor(3), tensor(3), tensor(3), tensor(3), tensor(3), tensor(3), tensor(3), tensor(3), tensor(3), tensor(3), tensor(3), tensor(3), tensor(3), tensor(3), tensor(3), tensor(3), tensor(3), tensor(3), tensor(3), tensor(3), tensor(3), tensor(3), tensor(3), tensor(3), tensor(3), tensor(3), tensor(3), tensor(3), tensor(3), tensor(3), tensor(3), tensor(3), tensor(3), tensor(3), tensor(3), tensor(3), tensor(3), tensor(3), tensor(3), tensor(3), tensor(3), tensor(3), tensor(3), tensor(3), tensor(3), tensor(3), tensor(3), tensor(3), tensor(3), tensor(3), tensor(3), tensor(3), tensor(3), tensor(3), tensor(3), tensor(3), tensor(3), tensor(3), tensor(3), tensor(3), tensor(3), tensor(3), tensor(3), tensor(3), tensor(3), tensor(3), tensor(3), tensor(3), tensor(3), tensor(3), tensor(3), tensor(3), tensor(3), tensor(3), tensor(3), tensor(3), tensor(3), tensor(3), tensor(3), tensor(3), tensor(3), tensor(3), tensor(3), tensor(3), tensor(3), tensor(3), tensor(3), tensor(3), tensor(3), tensor(3), tensor(3), tensor(3), tensor(3), tensor(3), tensor(3), tensor(3), tensor(3), tensor(3), tensor(3), tensor(3), tensor(3), tensor(3), tensor(3), tensor(3), tensor(3), tensor(3), tensor(3), tensor(3), tensor(3), tensor(3), tensor(3), tensor(3), tensor(3), tensor(3), tensor(3), tensor(3), tensor(3), tensor(3), tensor(3), tensor(3), tensor(3), tensor(3), tensor(3), tensor(3), tensor(3), tensor(3), tensor(3), tensor(3), tensor(3), tensor(3), tensor(3), tensor(3), tensor(3), tensor(3), tensor(3), tensor(3), tensor(3), tensor(3), tensor(3), tensor(3), tensor(3), tensor(3), tensor(3), tensor(3), tensor(3), tensor(3), tensor(3), tensor(3), tensor(3), tensor(2), tensor(2), tensor(2), tensor(2), tensor(2), tensor(2), tensor(2), tensor(2), tensor(2), tensor(2), tensor(2), tensor(2), tensor(2), tensor(2), tensor(2), tensor(2), tensor(2), tensor(2), tensor(2), tensor(2), tensor(2), tensor(2), tensor(2), tensor(2), tensor(2), tensor(2), tensor(2), tensor(2), tensor(2), tensor(2), tensor(2), tensor(2), tensor(2), tensor(2), tensor(2), tensor(2), tensor(2), tensor(2), tensor(2), tensor(2), tensor(2), tensor(2), tensor(2), tensor(2), tensor(2), tensor(2), tensor(2), tensor(2), tensor(2), tensor(2), tensor(2), tensor(2), tensor(2), tensor(2), tensor(2), tensor(2), tensor(2), tensor(2), tensor(2), tensor(2), tensor(2), tensor(2), tensor(2), tensor(2), tensor(2), tensor(2), tensor(2), tensor(2), tensor(2), tensor(2), tensor(2), tensor(2), tensor(2), tensor(2), tensor(2), tensor(2), tensor(2), tensor(2), tensor(2), tensor(2), tensor(2), tensor(2), tensor(2), tensor(2), tensor(2), tensor(2), tensor(2), tensor(2), tensor(2), tensor(2), tensor(2), tensor(2), tensor(2), tensor(2), tensor(2), tensor(2), tensor(2), tensor(2), tensor(2), tensor(2), tensor(2), tensor(2), tensor(2), tensor(2), tensor(2), tensor(2), tensor(2), tensor(2), tensor(2), tensor(2), tensor(2), tensor(2), tensor(2), tensor(2), tensor(2), tensor(2), tensor(2), tensor(2), tensor(2), tensor(2), tensor(2), tensor(2), tensor(2), tensor(2), tensor(2), tensor(2), tensor(2), tensor(2), tensor(2), tensor(2), tensor(2), tensor(2), tensor(2), tensor(2), tensor(2), tensor(2), tensor(2), tensor(2), tensor(2), tensor(2), tensor(2), tensor(2), tensor(2), tensor(2), tensor(2), tensor(2), tensor(2), tensor(2), tensor(2), tensor(2), tensor(2), tensor(2), tensor(2), tensor(2), tensor(2), tensor(2), tensor(2), tensor(2), tensor(2), tensor(2), tensor(2), tensor(2), tensor(2), tensor(2), tensor(2), tensor(2), tensor(2), tensor(2), tensor(2), tensor(2), tensor(2), tensor(2), tensor(2), tensor(2), tensor(2), tensor(2), tensor(2), tensor(2), tensor(2), tensor(2), tensor(2), tensor(2), tensor(2), tensor(2), tensor(2), tensor(2), tensor(2), tensor(2), tensor(2), tensor(2), tensor(2), tensor(2), tensor(2), tensor(2), tensor(2), tensor(2), tensor(2), tensor(2), tensor(2), tensor(2), tensor(2), tensor(2), tensor(2), tensor(2), tensor(2), tensor(2), tensor(2), tensor(2), tensor(2), tensor(2), tensor(2), tensor(2), tensor(2), tensor(2), tensor(2), tensor(2), tensor(2), tensor(2), tensor(2), tensor(2), tensor(2), tensor(2), tensor(2), tensor(2), tensor(2), tensor(2), tensor(2), tensor(2), tensor(2), tensor(2), tensor(2), tensor(2), tensor(2), tensor(2), tensor(2), tensor(2), tensor(2), tensor(2), tensor(2), tensor(2), tensor(2), tensor(2), tensor(2), tensor(2), tensor(2), tensor(2), tensor(2), tensor(2), tensor(2), tensor(2), tensor(2), tensor(2), tensor(2), tensor(2), tensor(2), tensor(2), tensor(2), tensor(2), tensor(2), tensor(2), tensor(2), tensor(2), tensor(2), tensor(2), tensor(2), tensor(2), tensor(2), tensor(2), tensor(2), tensor(2), tensor(2), tensor(2), tensor(2), tensor(2), tensor(2), tensor(2), tensor(2), tensor(2), tensor(2), tensor(2), tensor(2), tensor(2), tensor(2), tensor(2), tensor(2), tensor(2), tensor(2), tensor(2), tensor(2), tensor(2), tensor(2), tensor(2), tensor(2), tensor(2), tensor(2), tensor(2), tensor(2), tensor(2), tensor(2), tensor(2), tensor(2), tensor(2), tensor(2), tensor(2), tensor(2), tensor(2), tensor(2), tensor(2), tensor(2), tensor(2), tensor(2), tensor(2), tensor(2), tensor(2), tensor(2), tensor(2), tensor(2), tensor(2), tensor(2), tensor(2), tensor(2), tensor(2), tensor(2), tensor(2), tensor(2), tensor(2), tensor(2), tensor(2), tensor(2), tensor(2), tensor(2), tensor(2), tensor(2), tensor(2), tensor(2), tensor(2), tensor(2), tensor(2), tensor(2), tensor(2), tensor(2), tensor(2), tensor(2), tensor(2), tensor(2), tensor(2), tensor(2), tensor(2), tensor(2), tensor(2), tensor(2), tensor(2), tensor(2), tensor(2), tensor(2), tensor(2), tensor(2), tensor(2), tensor(2), tensor(2), tensor(2), tensor(2), tensor(2), tensor(2), tensor(2), tensor(2), tensor(2), tensor(2), tensor(2), tensor(2), tensor(2), tensor(2), tensor(2), tensor(2), tensor(2), tensor(2), tensor(2), tensor(2), tensor(2), tensor(2), tensor(2), tensor(2), tensor(2), tensor(2), tensor(2), tensor(2), tensor(2), tensor(2), tensor(2), tensor(2), tensor(2), tensor(2), tensor(2), tensor(2), tensor(2), tensor(2), tensor(2), tensor(2), tensor(2), tensor(2), tensor(2), tensor(2), tensor(2), tensor(2), tensor(2), tensor(2), tensor(2), tensor(2), tensor(2), tensor(2), tensor(2), tensor(2), tensor(2), tensor(2), tensor(2), tensor(2), tensor(2), tensor(2), tensor(2), tensor(2), tensor(2), tensor(2), tensor(2), tensor(2), tensor(2), tensor(2), tensor(2), tensor(2), tensor(2), tensor(2), tensor(2), tensor(2), tensor(2), tensor(2), tensor(2), tensor(2), tensor(2), tensor(2), tensor(2), tensor(2), tensor(2), tensor(2), tensor(2), tensor(2), tensor(2), tensor(2), tensor(2), tensor(2), tensor(2), tensor(2), tensor(2), tensor(2), tensor(2), tensor(2), tensor(2), tensor(2), tensor(2), tensor(2), tensor(2), tensor(2), tensor(2), tensor(2), tensor(2), tensor(2), tensor(2), tensor(2), tensor(2), tensor(2), tensor(2), tensor(2), tensor(2), tensor(2), tensor(2), tensor(2), tensor(2), tensor(2), tensor(2), tensor(2), tensor(2), tensor(2), tensor(2), tensor(2), tensor(2), tensor(2), tensor(2), tensor(2), tensor(2), tensor(2), tensor(2), tensor(2), tensor(2), tensor(2), tensor(2), tensor(2), tensor(2), tensor(2), tensor(2), tensor(2), tensor(2), tensor(2), tensor(2), tensor(2), tensor(2), tensor(2), tensor(2), tensor(2), tensor(2), tensor(2), tensor(2), tensor(2), tensor(2), tensor(2), tensor(2), tensor(2), tensor(2), tensor(2), tensor(2), tensor(2), tensor(2), tensor(2), tensor(2), tensor(2), tensor(2), tensor(2), tensor(2), tensor(2), tensor(2), tensor(2), tensor(2), tensor(2), tensor(2), tensor(2), tensor(2), tensor(2), tensor(2), tensor(2), tensor(2), tensor(2), tensor(2), tensor(2), tensor(2), tensor(2), tensor(2), tensor(2), tensor(2), tensor(2), tensor(2), tensor(2), tensor(2), tensor(2), tensor(2), tensor(2), tensor(2), tensor(2), tensor(2), tensor(2), tensor(2), tensor(2), tensor(2), tensor(2), tensor(2), tensor(2), tensor(2), tensor(2), tensor(2), tensor(2), tensor(2), tensor(2), tensor(2), tensor(2), tensor(2), tensor(2), tensor(2), tensor(2), tensor(2), tensor(2), tensor(2), tensor(2), tensor(2), tensor(2), tensor(2), tensor(2), tensor(2), tensor(2), tensor(2), tensor(2), tensor(2), tensor(2), tensor(2), tensor(2), tensor(2), tensor(2), tensor(2), tensor(2), tensor(2), tensor(2), tensor(2), tensor(2), tensor(2), tensor(2), tensor(2), tensor(2), tensor(2), tensor(2), tensor(2), tensor(2), tensor(2), tensor(2), tensor(2), tensor(2), tensor(2), tensor(2), tensor(2), tensor(2), tensor(2), tensor(2), tensor(2), tensor(2), tensor(2), tensor(2), tensor(2), tensor(2), tensor(2), tensor(2), tensor(2), tensor(2), tensor(2), tensor(2), tensor(2), tensor(2), tensor(2), tensor(2), tensor(2), tensor(2), tensor(2), tensor(2), tensor(2), tensor(2), tensor(2), tensor(2), tensor(2), tensor(2), tensor(2), tensor(2), tensor(2), tensor(2), tensor(2), tensor(2), tensor(2), tensor(2), tensor(2), tensor(2), tensor(2), tensor(2), tensor(2), tensor(2), tensor(2), tensor(2), tensor(2), tensor(2), tensor(2), tensor(2), tensor(2), tensor(2), tensor(2), tensor(2), tensor(2), tensor(2), tensor(2), tensor(2), tensor(2), tensor(2), tensor(2), tensor(2), tensor(2), tensor(2), tensor(2), tensor(2), tensor(2), tensor(2), tensor(2), tensor(2), tensor(2), tensor(2), tensor(2), tensor(2), tensor(2), tensor(2), tensor(2), tensor(2), tensor(2), tensor(2), tensor(2), tensor(2), tensor(2), tensor(2), tensor(2), tensor(2), tensor(2), tensor(2), tensor(2), tensor(2), tensor(1), tensor(1), tensor(1), tensor(1), tensor(1), tensor(1), tensor(1), tensor(1), tensor(1), tensor(1), tensor(1), tensor(1), tensor(1), tensor(1), tensor(1), tensor(1), tensor(1), tensor(1), tensor(1), tensor(1), tensor(1), tensor(1), tensor(1), tensor(1), tensor(1), tensor(1), tensor(1), tensor(1), tensor(1), tensor(1), tensor(1), tensor(1), tensor(1), tensor(1), tensor(1), tensor(1), tensor(1), tensor(1), tensor(1), tensor(1), tensor(1), tensor(1), tensor(1), tensor(1), tensor(1), tensor(1), tensor(1), tensor(1), tensor(1), tensor(1), tensor(1), tensor(1), tensor(1), tensor(1), tensor(1), tensor(1), tensor(1), tensor(1), tensor(1), tensor(1), tensor(1), tensor(1), tensor(1), tensor(1), tensor(1), tensor(1), tensor(1), tensor(1), tensor(1), tensor(1), tensor(1), tensor(1), tensor(1), tensor(1), tensor(1), tensor(1), tensor(1), tensor(1), tensor(1), tensor(1), tensor(1), tensor(1), tensor(1), tensor(1), tensor(1), tensor(1), tensor(1), tensor(1), tensor(1), tensor(1), tensor(1), tensor(1), tensor(1), tensor(1), tensor(1), tensor(1), tensor(1), tensor(1), tensor(1), tensor(1), tensor(1), tensor(1), tensor(1), tensor(1), tensor(1), tensor(1), tensor(1), tensor(1), tensor(1), tensor(1), tensor(1), tensor(1), tensor(1), tensor(1), tensor(1), tensor(1), tensor(1), tensor(1), tensor(1), tensor(1), tensor(1), tensor(1), tensor(1), tensor(1), tensor(1), tensor(1), tensor(1), tensor(1), tensor(1), tensor(1), tensor(1), tensor(1), tensor(1), tensor(1), tensor(1), tensor(1), tensor(1), tensor(1), tensor(1), tensor(1), tensor(1), tensor(1), tensor(1), tensor(1), tensor(1), tensor(1), tensor(1), tensor(1), tensor(1), tensor(1), tensor(1), tensor(1), tensor(1), tensor(1), tensor(1), tensor(1), tensor(1), tensor(1), tensor(1), tensor(1), tensor(1), tensor(1), tensor(1), tensor(1), tensor(1), tensor(1), tensor(1), tensor(1), tensor(1), tensor(1), tensor(1), tensor(1), tensor(1), tensor(1), tensor(1), tensor(1), tensor(1), tensor(1), tensor(1), tensor(1), tensor(1), tensor(1), tensor(1), tensor(1), tensor(1), tensor(1), tensor(1), tensor(1), tensor(1), tensor(1), tensor(1), tensor(1), tensor(1), tensor(1), tensor(1), tensor(1), tensor(1), tensor(1), tensor(1), tensor(1), tensor(1), tensor(1), tensor(1), tensor(1), tensor(1), tensor(1), tensor(1), tensor(1), tensor(1), tensor(1), tensor(1), tensor(1), tensor(1), tensor(1), tensor(1), tensor(1), tensor(1), tensor(1), tensor(1), tensor(1), tensor(1), tensor(1), tensor(1), tensor(1), tensor(1), tensor(1), tensor(1), tensor(1), tensor(1), tensor(1), tensor(1), tensor(1), tensor(1), tensor(1), tensor(1), tensor(1), tensor(1), tensor(1), tensor(1), tensor(1), tensor(1), tensor(1), tensor(1), tensor(1), tensor(1), tensor(1), tensor(1), tensor(1), tensor(1), tensor(1), tensor(1), tensor(1), tensor(1), tensor(1), tensor(1), tensor(1), tensor(1), tensor(1), tensor(1), tensor(1), tensor(1), tensor(1), tensor(1), tensor(1), tensor(1), tensor(1), tensor(1), tensor(1), tensor(1), tensor(1), tensor(1), tensor(1), tensor(1), tensor(1), tensor(1), tensor(1), tensor(1), tensor(1), tensor(1), tensor(1), tensor(1), tensor(1), tensor(1), tensor(1), tensor(1), tensor(1), tensor(1), tensor(1), tensor(1), tensor(1), tensor(1), tensor(1), tensor(1), tensor(1), tensor(1), tensor(1), tensor(1), tensor(1), tensor(1), tensor(1), tensor(1), tensor(1), tensor(1), tensor(1), tensor(1), tensor(1), tensor(1), tensor(1), tensor(1), tensor(1), tensor(1), tensor(1), tensor(1), tensor(1), tensor(1), tensor(1), tensor(1), tensor(1), tensor(1), tensor(1), tensor(1), tensor(1), tensor(1), tensor(1), tensor(1), tensor(1), tensor(1), tensor(1), tensor(1), tensor(1), tensor(1), tensor(1), tensor(1), tensor(1), tensor(1), tensor(1), tensor(1), tensor(1), tensor(1), tensor(1), tensor(1), tensor(1), tensor(1), tensor(1), tensor(1), tensor(1), tensor(1), tensor(1), tensor(1), tensor(1), tensor(1), tensor(1), tensor(1), tensor(1), tensor(1), tensor(1), tensor(1), tensor(1), tensor(1), tensor(1), tensor(1), tensor(1), tensor(1), tensor(1), tensor(1), tensor(1), tensor(1), tensor(1), tensor(1), tensor(1), tensor(1), tensor(1), tensor(1), tensor(1), tensor(1), tensor(1), tensor(1), tensor(1), tensor(1), tensor(1), tensor(1), tensor(1), tensor(1), tensor(1), tensor(1), tensor(1), tensor(1), tensor(1), tensor(1), tensor(1), tensor(1), tensor(1), tensor(1), tensor(1), tensor(1), tensor(1), tensor(1), tensor(1), tensor(1), tensor(1), tensor(1), tensor(1), tensor(1), tensor(1), tensor(1), tensor(1), tensor(1), tensor(1), tensor(1), tensor(1), tensor(1), tensor(1), tensor(1), tensor(1), tensor(1), tensor(1), tensor(1), tensor(1), tensor(1), tensor(1), tensor(1), tensor(1), tensor(1), tensor(1), tensor(1), tensor(1), tensor(1), tensor(1), tensor(1), tensor(1), tensor(1), tensor(1), tensor(1), tensor(1), tensor(1), tensor(1), tensor(1), tensor(1), tensor(1), tensor(1), tensor(1), tensor(1), tensor(1), tensor(1), tensor(1), tensor(1), tensor(1), tensor(1), tensor(1), tensor(1), tensor(1), tensor(1), tensor(1), tensor(1), tensor(1), tensor(1), tensor(1), tensor(1), tensor(1), tensor(1), tensor(1), tensor(1), tensor(1), tensor(1), tensor(1), tensor(1), tensor(1), tensor(1), tensor(1), tensor(1), tensor(1), tensor(1), tensor(1), tensor(1), tensor(1), tensor(1), tensor(1), tensor(1), tensor(1), tensor(1), tensor(1), tensor(1), tensor(1), tensor(1), tensor(1), tensor(1), tensor(1), tensor(1), tensor(1), tensor(1), tensor(1)]\n",
            "Validation batch labels: tensor([0, 3, 3,  ..., 2, 4, 2])\n",
            "==========================\n",
            "Test batch padded sequences shape: torch.Size([4096, 52])\n",
            "Test batch sequence lengths: [tensor(52), tensor(52), tensor(45), tensor(45), tensor(44), tensor(43), tensor(42), tensor(41), tensor(40), tensor(40), tensor(39), tensor(38), tensor(38), tensor(37), tensor(37), tensor(37), tensor(36), tensor(35), tensor(35), tensor(35), tensor(35), tensor(35), tensor(35), tensor(35), tensor(35), tensor(34), tensor(34), tensor(34), tensor(34), tensor(33), tensor(33), tensor(32), tensor(32), tensor(32), tensor(31), tensor(31), tensor(31), tensor(30), tensor(30), tensor(30), tensor(30), tensor(30), tensor(29), tensor(29), tensor(29), tensor(29), tensor(29), tensor(29), tensor(29), tensor(29), tensor(28), tensor(28), tensor(28), tensor(28), tensor(28), tensor(28), tensor(28), tensor(27), tensor(27), tensor(27), tensor(27), tensor(27), tensor(27), tensor(27), tensor(27), tensor(27), tensor(27), tensor(27), tensor(27), tensor(27), tensor(27), tensor(27), tensor(27), tensor(26), tensor(26), tensor(26), tensor(26), tensor(26), tensor(26), tensor(26), tensor(26), tensor(26), tensor(25), tensor(25), tensor(25), tensor(25), tensor(25), tensor(25), tensor(25), tensor(25), tensor(25), tensor(25), tensor(25), tensor(25), tensor(24), tensor(24), tensor(24), tensor(24), tensor(24), tensor(24), tensor(24), tensor(24), tensor(24), tensor(24), tensor(24), tensor(24), tensor(24), tensor(24), tensor(24), tensor(24), tensor(23), tensor(23), tensor(23), tensor(23), tensor(23), tensor(23), tensor(23), tensor(23), tensor(23), tensor(23), tensor(23), tensor(23), tensor(23), tensor(23), tensor(23), tensor(23), tensor(23), tensor(23), tensor(22), tensor(22), tensor(22), tensor(22), tensor(22), tensor(22), tensor(22), tensor(22), tensor(22), tensor(22), tensor(22), tensor(22), tensor(22), tensor(22), tensor(22), tensor(22), tensor(22), tensor(21), tensor(21), tensor(21), tensor(21), tensor(21), tensor(21), tensor(21), tensor(21), tensor(21), tensor(21), tensor(21), tensor(21), tensor(21), tensor(21), tensor(21), tensor(21), tensor(21), tensor(21), tensor(21), tensor(21), tensor(21), tensor(21), tensor(21), tensor(21), tensor(21), tensor(21), tensor(21), tensor(21), tensor(20), tensor(20), tensor(20), tensor(20), tensor(20), tensor(20), tensor(20), tensor(20), tensor(20), tensor(20), tensor(20), tensor(20), tensor(20), tensor(20), tensor(20), tensor(20), tensor(20), tensor(20), tensor(20), tensor(20), tensor(20), tensor(20), tensor(20), tensor(20), tensor(20), tensor(20), tensor(20), tensor(20), tensor(20), tensor(20), tensor(20), tensor(20), tensor(20), tensor(20), tensor(19), tensor(19), tensor(19), tensor(19), tensor(19), tensor(19), tensor(19), tensor(19), tensor(19), tensor(19), tensor(19), tensor(19), tensor(19), tensor(19), tensor(19), tensor(19), tensor(19), tensor(19), tensor(19), tensor(19), tensor(19), tensor(19), tensor(19), tensor(19), tensor(19), tensor(19), tensor(19), tensor(18), tensor(18), tensor(18), tensor(18), tensor(18), tensor(18), tensor(18), tensor(18), tensor(18), tensor(18), tensor(18), tensor(18), tensor(18), tensor(18), tensor(18), tensor(18), tensor(18), tensor(18), tensor(18), tensor(18), tensor(18), tensor(18), tensor(18), tensor(18), tensor(18), tensor(18), tensor(18), tensor(18), tensor(18), tensor(18), tensor(18), tensor(18), tensor(17), tensor(17), tensor(17), tensor(17), tensor(17), tensor(17), tensor(17), tensor(17), tensor(17), tensor(17), tensor(17), tensor(17), tensor(17), tensor(17), tensor(17), tensor(17), tensor(17), tensor(17), tensor(17), tensor(17), tensor(17), tensor(17), tensor(17), tensor(17), tensor(17), tensor(17), tensor(17), tensor(17), tensor(17), tensor(16), tensor(16), tensor(16), tensor(16), tensor(16), tensor(16), tensor(16), tensor(16), tensor(16), tensor(16), tensor(16), tensor(16), tensor(16), tensor(16), tensor(16), tensor(16), tensor(16), tensor(16), tensor(16), tensor(16), tensor(16), tensor(16), tensor(16), tensor(16), tensor(16), tensor(16), tensor(16), tensor(16), tensor(16), tensor(16), tensor(16), tensor(16), tensor(16), tensor(16), tensor(16), tensor(16), tensor(16), tensor(16), tensor(16), tensor(16), tensor(16), tensor(16), tensor(15), tensor(15), tensor(15), tensor(15), tensor(15), tensor(15), tensor(15), tensor(15), tensor(15), tensor(15), tensor(15), tensor(15), tensor(15), tensor(15), tensor(15), tensor(15), tensor(15), tensor(15), tensor(15), tensor(15), tensor(15), tensor(15), tensor(15), tensor(15), tensor(15), tensor(15), tensor(15), tensor(15), tensor(15), tensor(15), tensor(15), tensor(15), tensor(15), tensor(15), tensor(15), tensor(15), tensor(15), tensor(15), tensor(15), tensor(15), tensor(15), tensor(15), tensor(15), tensor(15), tensor(15), tensor(14), tensor(14), tensor(14), tensor(14), tensor(14), tensor(14), tensor(14), tensor(14), tensor(14), tensor(14), tensor(14), tensor(14), tensor(14), tensor(14), tensor(14), tensor(14), tensor(14), tensor(14), tensor(14), tensor(14), tensor(14), tensor(14), tensor(14), tensor(14), tensor(14), tensor(14), tensor(14), tensor(14), tensor(14), tensor(14), tensor(14), tensor(14), tensor(14), tensor(14), tensor(14), tensor(14), tensor(14), tensor(14), tensor(14), tensor(14), tensor(14), tensor(13), tensor(13), tensor(13), tensor(13), tensor(13), tensor(13), tensor(13), tensor(13), tensor(13), tensor(13), tensor(13), tensor(13), tensor(13), tensor(13), tensor(13), tensor(13), tensor(13), tensor(13), tensor(13), tensor(13), tensor(13), tensor(13), tensor(13), tensor(13), tensor(13), tensor(13), tensor(13), tensor(13), tensor(13), tensor(13), tensor(13), tensor(13), tensor(13), tensor(13), tensor(13), tensor(13), tensor(13), tensor(13), tensor(13), tensor(13), tensor(13), tensor(13), tensor(13), tensor(13), tensor(13), tensor(13), tensor(13), tensor(13), tensor(13), tensor(13), tensor(13), tensor(13), tensor(13), tensor(13), tensor(13), tensor(13), tensor(13), tensor(12), tensor(12), tensor(12), tensor(12), tensor(12), tensor(12), tensor(12), tensor(12), tensor(12), tensor(12), tensor(12), tensor(12), tensor(12), tensor(12), tensor(12), tensor(12), tensor(12), tensor(12), tensor(12), tensor(12), tensor(12), tensor(12), tensor(12), tensor(12), tensor(12), tensor(12), tensor(12), tensor(12), tensor(12), tensor(12), tensor(12), tensor(12), tensor(12), tensor(12), tensor(12), tensor(12), tensor(12), tensor(12), tensor(12), tensor(12), tensor(12), tensor(12), tensor(12), tensor(12), tensor(12), tensor(12), tensor(12), tensor(12), tensor(12), tensor(12), tensor(12), tensor(12), tensor(12), tensor(12), tensor(12), tensor(12), tensor(12), tensor(12), tensor(12), tensor(12), tensor(12), tensor(12), tensor(12), tensor(12), tensor(11), tensor(11), tensor(11), tensor(11), tensor(11), tensor(11), tensor(11), tensor(11), tensor(11), tensor(11), tensor(11), tensor(11), tensor(11), tensor(11), tensor(11), tensor(11), tensor(11), tensor(11), tensor(11), tensor(11), tensor(11), tensor(11), tensor(11), tensor(11), tensor(11), tensor(11), tensor(11), tensor(11), tensor(11), tensor(11), tensor(11), tensor(11), tensor(11), tensor(11), tensor(11), tensor(11), tensor(11), tensor(11), tensor(11), tensor(11), tensor(11), tensor(11), tensor(11), tensor(11), tensor(11), tensor(11), tensor(11), tensor(11), tensor(11), tensor(11), tensor(11), tensor(11), tensor(11), tensor(11), tensor(11), tensor(11), tensor(11), tensor(11), tensor(11), tensor(11), tensor(11), tensor(11), tensor(11), tensor(11), tensor(11), tensor(11), tensor(10), tensor(10), tensor(10), tensor(10), tensor(10), tensor(10), tensor(10), tensor(10), tensor(10), tensor(10), tensor(10), tensor(10), tensor(10), tensor(10), tensor(10), tensor(10), tensor(10), tensor(10), tensor(10), tensor(10), tensor(10), tensor(10), tensor(10), tensor(10), tensor(10), tensor(10), tensor(10), tensor(10), tensor(10), tensor(10), tensor(10), tensor(10), tensor(10), tensor(10), tensor(10), tensor(10), tensor(10), tensor(10), tensor(10), tensor(10), tensor(10), tensor(10), tensor(10), tensor(10), tensor(10), tensor(10), tensor(10), tensor(10), tensor(10), tensor(10), tensor(10), tensor(10), tensor(10), tensor(10), tensor(10), tensor(10), tensor(10), tensor(10), tensor(10), tensor(10), tensor(10), tensor(10), tensor(10), tensor(10), tensor(10), tensor(10), tensor(10), tensor(10), tensor(10), tensor(10), tensor(10), tensor(10), tensor(10), tensor(10), tensor(10), tensor(10), tensor(10), tensor(10), tensor(10), tensor(10), tensor(9), tensor(9), tensor(9), tensor(9), tensor(9), tensor(9), tensor(9), tensor(9), tensor(9), tensor(9), tensor(9), tensor(9), tensor(9), tensor(9), tensor(9), tensor(9), tensor(9), tensor(9), tensor(9), tensor(9), tensor(9), tensor(9), tensor(9), tensor(9), tensor(9), tensor(9), tensor(9), tensor(9), tensor(9), tensor(9), tensor(9), tensor(9), tensor(9), tensor(9), tensor(9), tensor(9), tensor(9), tensor(9), tensor(9), tensor(9), tensor(9), tensor(9), tensor(9), tensor(9), tensor(9), tensor(9), tensor(9), tensor(9), tensor(9), tensor(9), tensor(9), tensor(9), tensor(9), tensor(9), tensor(9), tensor(9), tensor(9), tensor(9), tensor(9), tensor(9), tensor(9), tensor(9), tensor(9), tensor(9), tensor(9), tensor(9), tensor(9), tensor(9), tensor(9), tensor(9), tensor(9), tensor(9), tensor(9), tensor(9), tensor(9), tensor(9), tensor(9), tensor(9), tensor(9), tensor(9), tensor(9), tensor(9), tensor(9), tensor(9), tensor(9), tensor(9), tensor(9), tensor(9), tensor(9), tensor(9), tensor(9), tensor(9), tensor(8), tensor(8), tensor(8), tensor(8), tensor(8), tensor(8), tensor(8), tensor(8), tensor(8), tensor(8), tensor(8), tensor(8), tensor(8), tensor(8), tensor(8), tensor(8), tensor(8), tensor(8), tensor(8), tensor(8), tensor(8), tensor(8), tensor(8), tensor(8), tensor(8), tensor(8), tensor(8), tensor(8), tensor(8), tensor(8), tensor(8), tensor(8), tensor(8), tensor(8), tensor(8), tensor(8), tensor(8), tensor(8), tensor(8), tensor(8), tensor(8), tensor(8), tensor(8), tensor(8), tensor(8), tensor(8), tensor(8), tensor(8), tensor(8), tensor(8), tensor(8), tensor(8), tensor(8), tensor(8), tensor(8), tensor(8), tensor(8), tensor(8), tensor(8), tensor(8), tensor(8), tensor(8), tensor(8), tensor(8), tensor(8), tensor(8), tensor(8), tensor(8), tensor(8), tensor(8), tensor(8), tensor(8), tensor(8), tensor(8), tensor(8), tensor(8), tensor(8), tensor(8), tensor(8), tensor(8), tensor(8), tensor(8), tensor(8), tensor(8), tensor(8), tensor(8), tensor(8), tensor(8), tensor(8), tensor(8), tensor(8), tensor(8), tensor(8), tensor(8), tensor(8), tensor(8), tensor(8), tensor(8), tensor(8), tensor(8), tensor(8), tensor(8), tensor(8), tensor(8), tensor(8), tensor(8), tensor(8), tensor(8), tensor(8), tensor(8), tensor(8), tensor(8), tensor(8), tensor(8), tensor(8), tensor(8), tensor(8), tensor(8), tensor(7), tensor(7), tensor(7), tensor(7), tensor(7), tensor(7), tensor(7), tensor(7), tensor(7), tensor(7), tensor(7), tensor(7), tensor(7), tensor(7), tensor(7), tensor(7), tensor(7), tensor(7), tensor(7), tensor(7), tensor(7), tensor(7), tensor(7), tensor(7), tensor(7), tensor(7), tensor(7), tensor(7), tensor(7), tensor(7), tensor(7), tensor(7), tensor(7), tensor(7), tensor(7), tensor(7), tensor(7), tensor(7), tensor(7), tensor(7), tensor(7), tensor(7), tensor(7), tensor(7), tensor(7), tensor(7), tensor(7), tensor(7), tensor(7), tensor(7), tensor(7), tensor(7), tensor(7), tensor(7), tensor(7), tensor(7), tensor(7), tensor(7), tensor(7), tensor(7), tensor(7), tensor(7), tensor(7), tensor(7), tensor(7), tensor(7), tensor(7), tensor(7), tensor(7), tensor(7), tensor(7), tensor(7), tensor(7), tensor(7), tensor(7), tensor(7), tensor(7), tensor(7), tensor(7), tensor(7), tensor(7), tensor(7), tensor(7), tensor(7), tensor(7), tensor(7), tensor(7), tensor(7), tensor(7), tensor(7), tensor(7), tensor(7), tensor(7), tensor(7), tensor(7), tensor(7), tensor(7), tensor(7), tensor(7), tensor(7), tensor(7), tensor(7), tensor(7), tensor(7), tensor(7), tensor(7), tensor(7), tensor(7), tensor(7), tensor(7), tensor(7), tensor(7), tensor(7), tensor(7), tensor(7), tensor(7), tensor(7), tensor(7), tensor(7), tensor(7), tensor(7), tensor(7), tensor(7), tensor(7), tensor(7), tensor(7), tensor(7), tensor(7), tensor(7), tensor(7), tensor(7), tensor(7), tensor(7), tensor(7), tensor(7), tensor(7), tensor(7), tensor(7), tensor(7), tensor(7), tensor(7), tensor(7), tensor(7), tensor(6), tensor(6), tensor(6), tensor(6), tensor(6), tensor(6), tensor(6), tensor(6), tensor(6), tensor(6), tensor(6), tensor(6), tensor(6), tensor(6), tensor(6), tensor(6), tensor(6), tensor(6), tensor(6), tensor(6), tensor(6), tensor(6), tensor(6), tensor(6), tensor(6), tensor(6), tensor(6), tensor(6), tensor(6), tensor(6), tensor(6), tensor(6), tensor(6), tensor(6), tensor(6), tensor(6), tensor(6), tensor(6), tensor(6), tensor(6), tensor(6), tensor(6), tensor(6), tensor(6), tensor(6), tensor(6), tensor(6), tensor(6), tensor(6), tensor(6), tensor(6), tensor(6), tensor(6), tensor(6), tensor(6), tensor(6), tensor(6), tensor(6), tensor(6), tensor(6), tensor(6), tensor(6), tensor(6), tensor(6), tensor(6), tensor(6), tensor(6), tensor(6), tensor(6), tensor(6), tensor(6), tensor(6), tensor(6), tensor(6), tensor(6), tensor(6), tensor(6), tensor(6), tensor(6), tensor(6), tensor(6), tensor(6), tensor(6), tensor(6), tensor(6), tensor(6), tensor(6), tensor(6), tensor(6), tensor(6), tensor(6), tensor(6), tensor(6), tensor(6), tensor(6), tensor(6), tensor(6), tensor(6), tensor(6), tensor(6), tensor(6), tensor(6), tensor(6), tensor(6), tensor(6), tensor(6), tensor(6), tensor(6), tensor(6), tensor(6), tensor(6), tensor(6), tensor(6), tensor(6), tensor(6), tensor(6), tensor(6), tensor(6), tensor(6), tensor(6), tensor(6), tensor(6), tensor(6), tensor(6), tensor(6), tensor(6), tensor(6), tensor(6), tensor(6), tensor(6), tensor(6), tensor(6), tensor(6), tensor(6), tensor(6), tensor(6), tensor(6), tensor(6), tensor(6), tensor(6), tensor(6), tensor(6), tensor(6), tensor(6), tensor(6), tensor(6), tensor(6), tensor(6), tensor(6), tensor(6), tensor(6), tensor(6), tensor(6), tensor(6), tensor(6), tensor(6), tensor(6), tensor(6), tensor(6), tensor(6), tensor(6), tensor(6), tensor(6), tensor(6), tensor(6), tensor(6), tensor(6), tensor(6), tensor(6), tensor(6), tensor(6), tensor(6), tensor(6), tensor(6), tensor(6), tensor(6), tensor(6), tensor(6), tensor(6), tensor(6), tensor(6), tensor(6), tensor(6), tensor(6), tensor(6), tensor(6), tensor(5), tensor(5), tensor(5), tensor(5), tensor(5), tensor(5), tensor(5), tensor(5), tensor(5), tensor(5), tensor(5), tensor(5), tensor(5), tensor(5), tensor(5), tensor(5), tensor(5), tensor(5), tensor(5), tensor(5), tensor(5), tensor(5), tensor(5), tensor(5), tensor(5), tensor(5), tensor(5), tensor(5), tensor(5), tensor(5), tensor(5), tensor(5), tensor(5), tensor(5), tensor(5), tensor(5), tensor(5), tensor(5), tensor(5), tensor(5), tensor(5), tensor(5), tensor(5), tensor(5), tensor(5), tensor(5), tensor(5), tensor(5), tensor(5), tensor(5), tensor(5), tensor(5), tensor(5), tensor(5), tensor(5), tensor(5), tensor(5), tensor(5), tensor(5), tensor(5), tensor(5), tensor(5), tensor(5), tensor(5), tensor(5), tensor(5), tensor(5), tensor(5), tensor(5), tensor(5), tensor(5), tensor(5), tensor(5), tensor(5), tensor(5), tensor(5), tensor(5), tensor(5), tensor(5), tensor(5), tensor(5), tensor(5), tensor(5), tensor(5), tensor(5), tensor(5), tensor(5), tensor(5), tensor(5), tensor(5), tensor(5), tensor(5), tensor(5), tensor(5), tensor(5), tensor(5), tensor(5), tensor(5), tensor(5), tensor(5), tensor(5), tensor(5), tensor(5), tensor(5), tensor(5), tensor(5), tensor(5), tensor(5), tensor(5), tensor(5), tensor(5), tensor(5), tensor(5), tensor(5), tensor(5), tensor(5), tensor(5), tensor(5), tensor(5), tensor(5), tensor(5), tensor(5), tensor(5), tensor(5), tensor(5), tensor(5), tensor(5), tensor(5), tensor(5), tensor(5), tensor(5), tensor(5), tensor(5), tensor(5), tensor(5), tensor(5), tensor(5), tensor(5), tensor(5), tensor(5), tensor(5), tensor(5), tensor(5), tensor(5), tensor(5), tensor(5), tensor(5), tensor(5), tensor(5), tensor(5), tensor(5), tensor(5), tensor(5), tensor(5), tensor(5), tensor(5), tensor(5), tensor(5), tensor(5), tensor(5), tensor(5), tensor(5), tensor(5), tensor(5), tensor(5), tensor(5), tensor(5), tensor(5), tensor(5), tensor(5), tensor(5), tensor(5), tensor(5), tensor(5), tensor(5), tensor(5), tensor(5), tensor(5), tensor(5), tensor(5), tensor(5), tensor(5), tensor(5), tensor(5), tensor(5), tensor(5), tensor(5), tensor(5), tensor(5), tensor(5), tensor(5), tensor(5), tensor(5), tensor(5), tensor(5), tensor(5), tensor(5), tensor(5), tensor(5), tensor(5), tensor(5), tensor(5), tensor(5), tensor(5), tensor(5), tensor(5), tensor(5), tensor(5), tensor(5), tensor(5), tensor(5), tensor(5), tensor(5), tensor(5), tensor(5), tensor(4), tensor(4), tensor(4), tensor(4), tensor(4), tensor(4), tensor(4), tensor(4), tensor(4), tensor(4), tensor(4), tensor(4), tensor(4), tensor(4), tensor(4), tensor(4), tensor(4), tensor(4), tensor(4), tensor(4), tensor(4), tensor(4), tensor(4), tensor(4), tensor(4), tensor(4), tensor(4), tensor(4), tensor(4), tensor(4), tensor(4), tensor(4), tensor(4), tensor(4), tensor(4), tensor(4), tensor(4), tensor(4), tensor(4), tensor(4), tensor(4), tensor(4), tensor(4), tensor(4), tensor(4), tensor(4), tensor(4), tensor(4), tensor(4), tensor(4), tensor(4), tensor(4), tensor(4), tensor(4), tensor(4), tensor(4), tensor(4), tensor(4), tensor(4), tensor(4), tensor(4), tensor(4), tensor(4), tensor(4), tensor(4), tensor(4), tensor(4), tensor(4), tensor(4), tensor(4), tensor(4), tensor(4), tensor(4), tensor(4), tensor(4), tensor(4), tensor(4), tensor(4), tensor(4), tensor(4), tensor(4), tensor(4), tensor(4), tensor(4), tensor(4), tensor(4), tensor(4), tensor(4), tensor(4), tensor(4), tensor(4), tensor(4), tensor(4), tensor(4), tensor(4), tensor(4), tensor(4), tensor(4), tensor(4), tensor(4), tensor(4), tensor(4), tensor(4), tensor(4), tensor(4), tensor(4), tensor(4), tensor(4), tensor(4), tensor(4), tensor(4), tensor(4), tensor(4), tensor(4), tensor(4), tensor(4), tensor(4), tensor(4), tensor(4), tensor(4), tensor(4), tensor(4), tensor(4), tensor(4), tensor(4), tensor(4), tensor(4), tensor(4), tensor(4), tensor(4), tensor(4), tensor(4), tensor(4), tensor(4), tensor(4), tensor(4), tensor(4), tensor(4), tensor(4), tensor(4), tensor(4), tensor(4), tensor(4), tensor(4), tensor(4), tensor(4), tensor(4), tensor(4), tensor(4), tensor(4), tensor(4), tensor(4), tensor(4), tensor(4), tensor(4), tensor(4), tensor(4), tensor(4), tensor(4), tensor(4), tensor(4), tensor(4), tensor(4), tensor(4), tensor(4), tensor(4), tensor(4), tensor(4), tensor(4), tensor(4), tensor(4), tensor(4), tensor(4), tensor(4), tensor(4), tensor(4), tensor(4), tensor(4), tensor(4), tensor(4), tensor(4), tensor(4), tensor(4), tensor(4), tensor(4), tensor(4), tensor(4), tensor(4), tensor(4), tensor(4), tensor(4), tensor(4), tensor(4), tensor(4), tensor(4), tensor(4), tensor(4), tensor(4), tensor(4), tensor(4), tensor(4), tensor(4), tensor(4), tensor(4), tensor(4), tensor(4), tensor(4), tensor(4), tensor(4), tensor(4), tensor(4), tensor(4), tensor(4), tensor(4), tensor(4), tensor(4), tensor(4), tensor(4), tensor(4), tensor(4), tensor(4), tensor(4), tensor(4), tensor(4), tensor(4), tensor(4), tensor(4), tensor(4), tensor(4), tensor(4), tensor(4), tensor(4), tensor(4), tensor(4), tensor(4), tensor(4), tensor(4), tensor(4), tensor(4), tensor(4), tensor(4), tensor(4), tensor(4), tensor(4), tensor(4), tensor(4), tensor(4), tensor(4), tensor(4), tensor(4), tensor(4), tensor(4), tensor(4), tensor(4), tensor(4), tensor(4), tensor(4), tensor(4), tensor(4), tensor(4), tensor(4), tensor(4), tensor(4), tensor(4), tensor(4), tensor(4), tensor(4), tensor(4), tensor(3), tensor(3), tensor(3), tensor(3), tensor(3), tensor(3), tensor(3), tensor(3), tensor(3), tensor(3), tensor(3), tensor(3), tensor(3), tensor(3), tensor(3), tensor(3), tensor(3), tensor(3), tensor(3), tensor(3), tensor(3), tensor(3), tensor(3), tensor(3), tensor(3), tensor(3), tensor(3), tensor(3), tensor(3), tensor(3), tensor(3), tensor(3), tensor(3), tensor(3), tensor(3), tensor(3), tensor(3), tensor(3), tensor(3), tensor(3), tensor(3), tensor(3), tensor(3), tensor(3), tensor(3), tensor(3), tensor(3), tensor(3), tensor(3), tensor(3), tensor(3), tensor(3), tensor(3), tensor(3), tensor(3), tensor(3), tensor(3), tensor(3), tensor(3), tensor(3), tensor(3), tensor(3), tensor(3), tensor(3), tensor(3), tensor(3), tensor(3), tensor(3), tensor(3), tensor(3), tensor(3), tensor(3), tensor(3), tensor(3), tensor(3), tensor(3), tensor(3), tensor(3), tensor(3), tensor(3), tensor(3), tensor(3), tensor(3), tensor(3), tensor(3), tensor(3), tensor(3), tensor(3), tensor(3), tensor(3), tensor(3), tensor(3), tensor(3), tensor(3), tensor(3), tensor(3), tensor(3), tensor(3), tensor(3), tensor(3), tensor(3), tensor(3), tensor(3), tensor(3), tensor(3), tensor(3), tensor(3), tensor(3), tensor(3), tensor(3), tensor(3), tensor(3), tensor(3), tensor(3), tensor(3), tensor(3), tensor(3), tensor(3), tensor(3), tensor(3), tensor(3), tensor(3), tensor(3), tensor(3), tensor(3), tensor(3), tensor(3), tensor(3), tensor(3), tensor(3), tensor(3), tensor(3), tensor(3), tensor(3), tensor(3), tensor(3), tensor(3), tensor(3), tensor(3), tensor(3), tensor(3), tensor(3), tensor(3), tensor(3), tensor(3), tensor(3), tensor(3), tensor(3), tensor(3), tensor(3), tensor(3), tensor(3), tensor(3), tensor(3), tensor(3), tensor(3), tensor(3), tensor(3), tensor(3), tensor(3), tensor(3), tensor(3), tensor(3), tensor(3), tensor(3), tensor(3), tensor(3), tensor(3), tensor(3), tensor(3), tensor(3), tensor(3), tensor(3), tensor(3), tensor(3), tensor(3), tensor(3), tensor(3), tensor(3), tensor(3), tensor(3), tensor(3), tensor(3), tensor(3), tensor(3), tensor(3), tensor(3), tensor(3), tensor(3), tensor(3), tensor(3), tensor(3), tensor(3), tensor(3), tensor(3), tensor(3), tensor(3), tensor(3), tensor(3), tensor(3), tensor(3), tensor(3), tensor(3), tensor(3), tensor(3), tensor(3), tensor(3), tensor(3), tensor(3), tensor(3), tensor(3), tensor(3), tensor(3), tensor(3), tensor(3), tensor(3), tensor(3), tensor(3), tensor(3), tensor(3), tensor(3), tensor(3), tensor(3), tensor(3), tensor(3), tensor(3), tensor(3), tensor(3), tensor(3), tensor(3), tensor(3), tensor(3), tensor(3), tensor(3), tensor(3), tensor(3), tensor(3), tensor(3), tensor(3), tensor(3), tensor(3), tensor(3), tensor(3), tensor(3), tensor(3), tensor(3), tensor(3), tensor(3), tensor(3), tensor(3), tensor(3), tensor(3), tensor(3), tensor(3), tensor(3), tensor(3), tensor(3), tensor(3), tensor(3), tensor(3), tensor(3), tensor(3), tensor(3), tensor(3), tensor(3), tensor(3), tensor(3), tensor(3), tensor(3), tensor(3), tensor(3), tensor(3), tensor(3), tensor(3), tensor(3), tensor(3), tensor(3), tensor(3), tensor(3), tensor(3), tensor(3), tensor(3), tensor(3), tensor(3), tensor(3), tensor(3), tensor(3), tensor(3), tensor(3), tensor(3), tensor(3), tensor(3), tensor(3), tensor(3), tensor(3), tensor(3), tensor(3), tensor(3), tensor(3), tensor(3), tensor(3), tensor(3), tensor(3), tensor(3), tensor(3), tensor(3), tensor(3), tensor(3), tensor(3), tensor(3), tensor(3), tensor(3), tensor(3), tensor(3), tensor(3), tensor(3), tensor(3), tensor(3), tensor(3), tensor(3), tensor(3), tensor(3), tensor(3), tensor(3), tensor(3), tensor(3), tensor(3), tensor(3), tensor(3), tensor(3), tensor(3), tensor(3), tensor(3), tensor(3), tensor(3), tensor(3), tensor(3), tensor(3), tensor(3), tensor(3), tensor(3), tensor(3), tensor(3), tensor(3), tensor(3), tensor(3), tensor(3), tensor(3), tensor(3), tensor(3), tensor(3), tensor(3), tensor(3), tensor(3), tensor(3), tensor(3), tensor(3), tensor(3), tensor(3), tensor(3), tensor(3), tensor(3), tensor(3), tensor(3), tensor(3), tensor(3), tensor(3), tensor(3), tensor(3), tensor(3), tensor(3), tensor(3), tensor(3), tensor(3), tensor(3), tensor(3), tensor(3), tensor(3), tensor(3), tensor(3), tensor(3), tensor(3), tensor(3), tensor(3), tensor(3), tensor(3), tensor(3), tensor(3), tensor(3), tensor(3), tensor(3), tensor(3), tensor(3), tensor(3), tensor(3), tensor(3), tensor(3), tensor(3), tensor(3), tensor(3), tensor(3), tensor(3), tensor(3), tensor(3), tensor(3), tensor(3), tensor(3), tensor(3), tensor(3), tensor(3), tensor(3), tensor(2), tensor(2), tensor(2), tensor(2), tensor(2), tensor(2), tensor(2), tensor(2), tensor(2), tensor(2), tensor(2), tensor(2), tensor(2), tensor(2), tensor(2), tensor(2), tensor(2), tensor(2), tensor(2), tensor(2), tensor(2), tensor(2), tensor(2), tensor(2), tensor(2), tensor(2), tensor(2), tensor(2), tensor(2), tensor(2), tensor(2), tensor(2), tensor(2), tensor(2), tensor(2), tensor(2), tensor(2), tensor(2), tensor(2), tensor(2), tensor(2), tensor(2), tensor(2), tensor(2), tensor(2), tensor(2), tensor(2), tensor(2), tensor(2), tensor(2), tensor(2), tensor(2), tensor(2), tensor(2), tensor(2), tensor(2), tensor(2), tensor(2), tensor(2), tensor(2), tensor(2), tensor(2), tensor(2), tensor(2), tensor(2), tensor(2), tensor(2), tensor(2), tensor(2), tensor(2), tensor(2), tensor(2), tensor(2), tensor(2), tensor(2), tensor(2), tensor(2), tensor(2), tensor(2), tensor(2), tensor(2), tensor(2), tensor(2), tensor(2), tensor(2), tensor(2), tensor(2), tensor(2), tensor(2), tensor(2), tensor(2), tensor(2), tensor(2), tensor(2), tensor(2), tensor(2), tensor(2), tensor(2), tensor(2), tensor(2), tensor(2), tensor(2), tensor(2), tensor(2), tensor(2), tensor(2), tensor(2), tensor(2), tensor(2), tensor(2), tensor(2), tensor(2), tensor(2), tensor(2), tensor(2), tensor(2), tensor(2), tensor(2), tensor(2), tensor(2), tensor(2), tensor(2), tensor(2), tensor(2), tensor(2), tensor(2), tensor(2), tensor(2), tensor(2), tensor(2), tensor(2), tensor(2), tensor(2), tensor(2), tensor(2), tensor(2), tensor(2), tensor(2), tensor(2), tensor(2), tensor(2), tensor(2), tensor(2), tensor(2), tensor(2), tensor(2), tensor(2), tensor(2), tensor(2), tensor(2), tensor(2), tensor(2), tensor(2), tensor(2), tensor(2), tensor(2), tensor(2), tensor(2), tensor(2), tensor(2), tensor(2), tensor(2), tensor(2), tensor(2), tensor(2), tensor(2), tensor(2), tensor(2), tensor(2), tensor(2), tensor(2), tensor(2), tensor(2), tensor(2), tensor(2), tensor(2), tensor(2), tensor(2), tensor(2), tensor(2), tensor(2), tensor(2), tensor(2), tensor(2), tensor(2), tensor(2), tensor(2), tensor(2), tensor(2), tensor(2), tensor(2), tensor(2), tensor(2), tensor(2), tensor(2), tensor(2), tensor(2), tensor(2), tensor(2), tensor(2), tensor(2), tensor(2), tensor(2), tensor(2), tensor(2), tensor(2), tensor(2), tensor(2), tensor(2), tensor(2), tensor(2), tensor(2), tensor(2), tensor(2), tensor(2), tensor(2), tensor(2), tensor(2), tensor(2), tensor(2), tensor(2), tensor(2), tensor(2), tensor(2), tensor(2), tensor(2), tensor(2), tensor(2), tensor(2), tensor(2), tensor(2), tensor(2), tensor(2), tensor(2), tensor(2), tensor(2), tensor(2), tensor(2), tensor(2), tensor(2), tensor(2), tensor(2), tensor(2), tensor(2), tensor(2), tensor(2), tensor(2), tensor(2), tensor(2), tensor(2), tensor(2), tensor(2), tensor(2), tensor(2), tensor(2), tensor(2), tensor(2), tensor(2), tensor(2), tensor(2), tensor(2), tensor(2), tensor(2), tensor(2), tensor(2), tensor(2), tensor(2), tensor(2), tensor(2), tensor(2), tensor(2), tensor(2), tensor(2), tensor(2), tensor(2), tensor(2), tensor(2), tensor(2), tensor(2), tensor(2), tensor(2), tensor(2), tensor(2), tensor(2), tensor(2), tensor(2), tensor(2), tensor(2), tensor(2), tensor(2), tensor(2), tensor(2), tensor(2), tensor(2), tensor(2), tensor(2), tensor(2), tensor(2), tensor(2), tensor(2), tensor(2), tensor(2), tensor(2), tensor(2), tensor(2), tensor(2), tensor(2), tensor(2), tensor(2), tensor(2), tensor(2), tensor(2), tensor(2), tensor(2), tensor(2), tensor(2), tensor(2), tensor(2), tensor(2), tensor(2), tensor(2), tensor(2), tensor(2), tensor(2), tensor(2), tensor(2), tensor(2), tensor(2), tensor(2), tensor(2), tensor(2), tensor(2), tensor(2), tensor(2), tensor(2), tensor(2), tensor(2), tensor(2), tensor(2), tensor(2), tensor(2), tensor(2), tensor(2), tensor(2), tensor(2), tensor(2), tensor(2), tensor(2), tensor(2), tensor(2), tensor(2), tensor(2), tensor(2), tensor(2), tensor(2), tensor(2), tensor(2), tensor(2), tensor(2), tensor(2), tensor(2), tensor(2), tensor(2), tensor(2), tensor(2), tensor(2), tensor(2), tensor(2), tensor(2), tensor(2), tensor(2), tensor(2), tensor(2), tensor(2), tensor(2), tensor(2), tensor(2), tensor(2), tensor(2), tensor(2), tensor(2), tensor(2), tensor(2), tensor(2), tensor(2), tensor(2), tensor(2), tensor(2), tensor(2), tensor(2), tensor(2), tensor(2), tensor(2), tensor(2), tensor(2), tensor(2), tensor(2), tensor(2), tensor(2), tensor(2), tensor(2), tensor(2), tensor(2), tensor(2), tensor(2), tensor(2), tensor(2), tensor(2), tensor(2), tensor(2), tensor(2), tensor(2), tensor(2), tensor(2), tensor(2), tensor(2), tensor(2), tensor(2), tensor(2), tensor(2), tensor(2), tensor(2), tensor(2), tensor(2), tensor(2), tensor(2), tensor(2), tensor(2), tensor(2), tensor(2), tensor(2), tensor(2), tensor(2), tensor(2), tensor(2), tensor(2), tensor(2), tensor(2), tensor(2), tensor(2), tensor(2), tensor(2), tensor(2), tensor(2), tensor(2), tensor(2), tensor(2), tensor(2), tensor(2), tensor(2), tensor(2), tensor(2), tensor(2), tensor(2), tensor(2), tensor(2), tensor(2), tensor(2), tensor(2), tensor(2), tensor(2), tensor(2), tensor(2), tensor(2), tensor(2), tensor(2), tensor(2), tensor(2), tensor(2), tensor(2), tensor(2), tensor(2), tensor(2), tensor(2), tensor(2), tensor(2), tensor(2), tensor(2), tensor(2), tensor(2), tensor(2), tensor(2), tensor(2), tensor(2), tensor(2), tensor(2), tensor(2), tensor(2), tensor(2), tensor(2), tensor(2), tensor(2), tensor(2), tensor(2), tensor(2), tensor(2), tensor(2), tensor(2), tensor(2), tensor(2), tensor(2), tensor(2), tensor(2), tensor(2), tensor(2), tensor(2), tensor(2), tensor(2), tensor(2), tensor(2), tensor(2), tensor(2), tensor(2), tensor(2), tensor(2), tensor(2), tensor(2), tensor(2), tensor(2), tensor(2), tensor(2), tensor(2), tensor(2), tensor(2), tensor(2), tensor(2), tensor(2), tensor(2), tensor(2), tensor(2), tensor(2), tensor(2), tensor(2), tensor(2), tensor(2), tensor(2), tensor(2), tensor(2), tensor(2), tensor(2), tensor(2), tensor(2), tensor(2), tensor(2), tensor(2), tensor(2), tensor(2), tensor(2), tensor(2), tensor(2), tensor(2), tensor(2), tensor(2), tensor(2), tensor(2), tensor(2), tensor(2), tensor(2), tensor(2), tensor(2), tensor(2), tensor(2), tensor(2), tensor(2), tensor(2), tensor(2), tensor(2), tensor(2), tensor(2), tensor(2), tensor(2), tensor(2), tensor(2), tensor(2), tensor(2), tensor(2), tensor(2), tensor(2), tensor(2), tensor(2), tensor(2), tensor(2), tensor(2), tensor(2), tensor(2), tensor(2), tensor(2), tensor(2), tensor(2), tensor(2), tensor(2), tensor(2), tensor(2), tensor(2), tensor(2), tensor(2), tensor(2), tensor(2), tensor(2), tensor(2), tensor(2), tensor(2), tensor(2), tensor(2), tensor(2), tensor(2), tensor(2), tensor(2), tensor(2), tensor(2), tensor(2), tensor(2), tensor(2), tensor(2), tensor(2), tensor(2), tensor(2), tensor(2), tensor(2), tensor(2), tensor(2), tensor(2), tensor(2), tensor(2), tensor(2), tensor(2), tensor(2), tensor(2), tensor(2), tensor(2), tensor(2), tensor(2), tensor(2), tensor(2), tensor(2), tensor(2), tensor(2), tensor(2), tensor(2), tensor(2), tensor(2), tensor(2), tensor(2), tensor(2), tensor(2), tensor(2), tensor(2), tensor(2), tensor(2), tensor(2), tensor(2), tensor(2), tensor(2), tensor(2), tensor(2), tensor(2), tensor(2), tensor(2), tensor(2), tensor(2), tensor(2), tensor(2), tensor(2), tensor(2), tensor(2), tensor(2), tensor(2), tensor(2), tensor(2), tensor(2), tensor(2), tensor(2), tensor(2), tensor(2), tensor(2), tensor(2), tensor(2), tensor(2), tensor(2), tensor(2), tensor(2), tensor(2), tensor(1), tensor(1), tensor(1), tensor(1), tensor(1), tensor(1), tensor(1), tensor(1), tensor(1), tensor(1), tensor(1), tensor(1), tensor(1), tensor(1), tensor(1), tensor(1), tensor(1), tensor(1), tensor(1), tensor(1), tensor(1), tensor(1), tensor(1), tensor(1), tensor(1), tensor(1), tensor(1), tensor(1), tensor(1), tensor(1), tensor(1), tensor(1), tensor(1), tensor(1), tensor(1), tensor(1), tensor(1), tensor(1), tensor(1), tensor(1), tensor(1), tensor(1), tensor(1), tensor(1), tensor(1), tensor(1), tensor(1), tensor(1), tensor(1), tensor(1), tensor(1), tensor(1), tensor(1), tensor(1), tensor(1), tensor(1), tensor(1), tensor(1), tensor(1), tensor(1), tensor(1), tensor(1), tensor(1), tensor(1), tensor(1), tensor(1), tensor(1), tensor(1), tensor(1), tensor(1), tensor(1), tensor(1), tensor(1), tensor(1), tensor(1), tensor(1), tensor(1), tensor(1), tensor(1), tensor(1), tensor(1), tensor(1), tensor(1), tensor(1), tensor(1), tensor(1), tensor(1), tensor(1), tensor(1), tensor(1), tensor(1), tensor(1), tensor(1), tensor(1), tensor(1), tensor(1), tensor(1), tensor(1), tensor(1), tensor(1), tensor(1), tensor(1), tensor(1), tensor(1), tensor(1), tensor(1), tensor(1), tensor(1), tensor(1), tensor(1), tensor(1), tensor(1), tensor(1), tensor(1), tensor(1), tensor(1), tensor(1), tensor(1), tensor(1), tensor(1), tensor(1), tensor(1), tensor(1), tensor(1), tensor(1), tensor(1), tensor(1), tensor(1), tensor(1), tensor(1), tensor(1), tensor(1), tensor(1), tensor(1), tensor(1), tensor(1), tensor(1), tensor(1), tensor(1), tensor(1), tensor(1), tensor(1), tensor(1), tensor(1), tensor(1), tensor(1), tensor(1), tensor(1), tensor(1), tensor(1), tensor(1), tensor(1), tensor(1), tensor(1), tensor(1), tensor(1), tensor(1), tensor(1), tensor(1), tensor(1), tensor(1), tensor(1), tensor(1), tensor(1), tensor(1), tensor(1), tensor(1), tensor(1), tensor(1), tensor(1), tensor(1), tensor(1), tensor(1), tensor(1), tensor(1), tensor(1), tensor(1), tensor(1), tensor(1), tensor(1), tensor(1), tensor(1), tensor(1), tensor(1), tensor(1), tensor(1), tensor(1), tensor(1), tensor(1), tensor(1), tensor(1), tensor(1), tensor(1), tensor(1), tensor(1), tensor(1), tensor(1), tensor(1), tensor(1), tensor(1), tensor(1), tensor(1), tensor(1), tensor(1), tensor(1), tensor(1), tensor(1), tensor(1), tensor(1), tensor(1), tensor(1), tensor(1), tensor(1), tensor(1), tensor(1), tensor(1), tensor(1), tensor(1), tensor(1), tensor(1), tensor(1), tensor(1), tensor(1), tensor(1), tensor(1), tensor(1), tensor(1), tensor(1), tensor(1), tensor(1), tensor(1), tensor(1), tensor(1), tensor(1), tensor(1), tensor(1), tensor(1), tensor(1), tensor(1), tensor(1), tensor(1), tensor(1), tensor(1), tensor(1), tensor(1), tensor(1), tensor(1), tensor(1), tensor(1), tensor(1), tensor(1), tensor(1), tensor(1), tensor(1), tensor(1), tensor(1), tensor(1), tensor(1), tensor(1), tensor(1), tensor(1), tensor(1), tensor(1), tensor(1), tensor(1), tensor(1), tensor(1), tensor(1), tensor(1), tensor(1), tensor(1), tensor(1), tensor(1), tensor(1), tensor(1), tensor(1), tensor(1), tensor(1), tensor(1), tensor(1), tensor(1), tensor(1), tensor(1), tensor(1), tensor(1), tensor(1), tensor(1), tensor(1), tensor(1), tensor(1), tensor(1), tensor(1), tensor(1), tensor(1), tensor(1), tensor(1), tensor(1), tensor(1), tensor(1), tensor(1), tensor(1), tensor(1), tensor(1), tensor(1), tensor(1), tensor(1), tensor(1), tensor(1), tensor(1), tensor(1), tensor(1), tensor(1), tensor(1), tensor(1), tensor(1), tensor(1), tensor(1), tensor(1), tensor(1), tensor(1), tensor(1), tensor(1), tensor(1), tensor(1), tensor(1), tensor(1), tensor(1), tensor(1), tensor(1), tensor(1), tensor(1), tensor(1), tensor(1), tensor(1), tensor(1), tensor(1), tensor(1), tensor(1), tensor(1), tensor(1), tensor(1), tensor(1), tensor(1), tensor(1), tensor(1), tensor(1), tensor(1), tensor(1), tensor(1), tensor(1), tensor(1), tensor(1), tensor(1), tensor(1), tensor(1), tensor(1), tensor(1), tensor(1), tensor(1), tensor(1), tensor(1), tensor(1), tensor(1), tensor(1), tensor(1), tensor(1), tensor(1), tensor(1), tensor(1), tensor(1), tensor(1), tensor(1), tensor(1), tensor(1), tensor(1), tensor(1), tensor(1), tensor(1), tensor(1), tensor(1), tensor(1), tensor(1), tensor(1), tensor(1), tensor(1), tensor(1), tensor(1), tensor(1), tensor(1), tensor(1), tensor(1), tensor(1), tensor(1), tensor(1), tensor(1), tensor(1), tensor(1), tensor(1), tensor(1), tensor(1), tensor(1), tensor(1), tensor(1), tensor(1), tensor(1), tensor(1), tensor(1), tensor(1), tensor(1), tensor(1), tensor(1), tensor(1), tensor(1), tensor(1), tensor(1), tensor(1), tensor(1), tensor(1), tensor(1), tensor(1), tensor(1), tensor(1), tensor(1), tensor(1), tensor(1), tensor(1), tensor(1), tensor(1), tensor(1), tensor(1), tensor(1), tensor(1), tensor(1), tensor(1), tensor(1), tensor(1), tensor(1), tensor(1), tensor(1), tensor(1), tensor(1), tensor(1), tensor(1), tensor(1), tensor(1), tensor(1), tensor(1), tensor(1), tensor(1), tensor(1), tensor(1), tensor(1), tensor(1), tensor(1), tensor(1), tensor(1), tensor(1), tensor(1), tensor(1), tensor(1), tensor(1), tensor(1), tensor(1), tensor(1), tensor(1), tensor(1), tensor(1), tensor(1), tensor(1), tensor(1), tensor(1), tensor(1), tensor(1), tensor(1), tensor(1), tensor(1), tensor(1), tensor(1), tensor(1), tensor(1), tensor(1), tensor(1), tensor(1), tensor(1), tensor(1), tensor(1), tensor(1), tensor(1), tensor(1), tensor(1), tensor(1), tensor(1), tensor(1), tensor(1), tensor(1), tensor(1), tensor(1), tensor(1), tensor(1), tensor(1), tensor(1), tensor(1), tensor(1), tensor(1), tensor(1), tensor(1), tensor(1), tensor(1), tensor(1), tensor(1), tensor(1), tensor(1), tensor(1), tensor(1), tensor(1), tensor(1), tensor(1), tensor(1), tensor(1), tensor(1), tensor(1), tensor(1), tensor(1), tensor(1), tensor(1), tensor(1), tensor(1), tensor(1), tensor(1), tensor(1), tensor(1), tensor(1), tensor(1), tensor(1), tensor(1), tensor(1), tensor(1), tensor(1), tensor(1), tensor(1), tensor(1), tensor(1), tensor(1), tensor(1), tensor(1), tensor(1), tensor(1), tensor(1), tensor(1), tensor(1), tensor(1), tensor(1), tensor(1), tensor(1), tensor(1), tensor(1), tensor(1), tensor(1), tensor(1), tensor(1), tensor(1), tensor(1), tensor(1), tensor(1), tensor(1), tensor(1), tensor(1), tensor(1), tensor(1), tensor(1), tensor(1), tensor(1), tensor(1), tensor(1), tensor(1), tensor(1), tensor(1), tensor(1), tensor(1), tensor(1), tensor(1), tensor(1), tensor(1), tensor(1), tensor(1), tensor(1), tensor(1), tensor(1), tensor(1), tensor(1), tensor(1), tensor(1), tensor(1), tensor(1), tensor(1), tensor(1), tensor(1), tensor(1), tensor(1), tensor(1), tensor(1), tensor(1), tensor(1), tensor(1), tensor(1), tensor(1), tensor(1), tensor(1), tensor(1), tensor(1), tensor(1), tensor(1), tensor(1), tensor(1), tensor(1), tensor(1), tensor(1), tensor(1), tensor(1), tensor(1), tensor(1), tensor(1), tensor(1), tensor(1), tensor(1), tensor(1), tensor(1), tensor(1), tensor(1), tensor(1), tensor(1), tensor(1), tensor(1), tensor(1), tensor(1), tensor(1), tensor(1), tensor(1), tensor(1), tensor(1), tensor(1), tensor(1), tensor(1), tensor(1), tensor(1), tensor(1), tensor(1), tensor(1), tensor(1), tensor(1), tensor(1), tensor(1), tensor(1), tensor(1), tensor(1), tensor(1), tensor(1), tensor(1), tensor(1), tensor(1), tensor(1), tensor(1), tensor(1), tensor(1), tensor(1), tensor(1), tensor(1), tensor(1), tensor(1), tensor(1), tensor(1), tensor(1), tensor(1), tensor(1), tensor(1), tensor(1), tensor(1), tensor(1), tensor(1), tensor(1), tensor(1), tensor(1), tensor(1), tensor(1), tensor(1), tensor(1), tensor(1), tensor(1), tensor(1), tensor(1), tensor(1), tensor(1), tensor(1), tensor(1), tensor(1), tensor(1), tensor(1), tensor(1), tensor(1), tensor(1), tensor(1), tensor(1), tensor(1), tensor(1), tensor(1), tensor(1), tensor(1), tensor(1), tensor(1), tensor(1), tensor(1), tensor(1), tensor(1), tensor(1), tensor(1), tensor(1), tensor(1), tensor(1), tensor(1), tensor(1), tensor(1), tensor(1), tensor(1), tensor(1), tensor(1), tensor(1), tensor(1), tensor(1), tensor(1), tensor(1), tensor(1), tensor(1), tensor(1), tensor(1), tensor(1), tensor(1), tensor(1), tensor(1), tensor(1), tensor(1), tensor(1), tensor(1), tensor(1), tensor(1), tensor(1), tensor(1), tensor(1), tensor(1), tensor(1), tensor(1), tensor(1), tensor(1), tensor(1), tensor(1), tensor(1), tensor(1), tensor(1), tensor(1), tensor(1), tensor(1), tensor(1), tensor(1), tensor(1), tensor(1), tensor(1), tensor(1), tensor(1), tensor(1), tensor(1), tensor(1), tensor(1), tensor(1), tensor(1), tensor(1), tensor(1), tensor(1), tensor(1), tensor(1), tensor(1), tensor(1), tensor(1), tensor(1), tensor(1), tensor(1), tensor(1), tensor(1), tensor(1), tensor(1), tensor(1), tensor(1), tensor(1), tensor(1), tensor(1), tensor(1), tensor(1), tensor(1), tensor(1), tensor(1), tensor(1), tensor(1), tensor(1), tensor(1), tensor(1), tensor(1), tensor(1), tensor(1), tensor(1), tensor(1), tensor(1), tensor(1), tensor(1), tensor(1), tensor(1), tensor(1), tensor(1), tensor(1), tensor(1), tensor(1), tensor(1), tensor(1), tensor(1), tensor(1), tensor(1), tensor(1), tensor(1), tensor(1), tensor(1), tensor(1), tensor(1), tensor(1), tensor(1), tensor(1), tensor(1), tensor(1), tensor(1), tensor(1), tensor(1), tensor(1), tensor(1), tensor(1), tensor(1), tensor(1), tensor(1), tensor(1), tensor(1), tensor(1), tensor(1), tensor(1), tensor(1), tensor(1), tensor(1), tensor(1), tensor(1), tensor(1), tensor(1), tensor(1), tensor(1), tensor(1), tensor(1), tensor(1), tensor(1), tensor(1), tensor(1), tensor(1), tensor(1), tensor(1), tensor(1), tensor(1), tensor(1), tensor(1), tensor(1), tensor(1), tensor(1), tensor(1), tensor(1), tensor(1), tensor(1), tensor(1), tensor(1), tensor(1), tensor(1), tensor(1), tensor(1), tensor(1), tensor(1), tensor(1), tensor(1), tensor(1), tensor(1), tensor(1), tensor(1), tensor(1), tensor(1), tensor(1), tensor(1), tensor(1), tensor(1), tensor(1), tensor(1), tensor(1), tensor(1), tensor(1), tensor(1), tensor(1), tensor(1), tensor(1), tensor(1), tensor(1), tensor(1), tensor(1), tensor(1), tensor(1), tensor(1), tensor(1), tensor(1), tensor(1), tensor(1), tensor(1), tensor(1), tensor(1), tensor(1), tensor(1), tensor(1), tensor(1), tensor(1), tensor(1), tensor(1), tensor(1), tensor(1), tensor(1), tensor(1), tensor(1), tensor(1), tensor(1), tensor(1), tensor(1), tensor(1), tensor(1), tensor(1), tensor(1), tensor(1), tensor(1), tensor(1), tensor(1), tensor(1), tensor(1), tensor(1), tensor(1), tensor(1), tensor(1), tensor(1), tensor(1), tensor(1), tensor(1), tensor(1), tensor(1), tensor(1), tensor(1), tensor(1), tensor(1), tensor(1), tensor(1), tensor(1), tensor(1), tensor(1), tensor(1), tensor(1), tensor(1), tensor(1), tensor(1), tensor(1), tensor(1), tensor(1), tensor(1), tensor(1), tensor(1), tensor(1), tensor(1), tensor(1), tensor(1), tensor(1), tensor(1), tensor(1), tensor(1), tensor(1), tensor(1), tensor(1), tensor(1), tensor(1), tensor(1), tensor(1), tensor(1), tensor(1), tensor(1), tensor(1), tensor(1), tensor(1), tensor(1), tensor(1), tensor(1), tensor(1), tensor(1), tensor(1), tensor(1), tensor(1), tensor(1), tensor(1), tensor(1), tensor(1), tensor(1), tensor(1), tensor(1), tensor(1), tensor(1), tensor(1), tensor(1), tensor(1), tensor(1), tensor(1), tensor(1), tensor(1), tensor(1), tensor(1), tensor(1), tensor(1), tensor(1), tensor(1), tensor(1), tensor(1), tensor(1), tensor(1), tensor(1), tensor(1), tensor(1), tensor(1), tensor(1), tensor(1), tensor(1), tensor(1), tensor(1), tensor(1), tensor(1), tensor(1), tensor(1), tensor(1), tensor(1), tensor(1), tensor(1), tensor(1), tensor(1), tensor(1), tensor(1), tensor(1), tensor(1), tensor(1), tensor(1), tensor(1), tensor(1), tensor(1), tensor(1), tensor(1), tensor(1), tensor(1), tensor(1), tensor(1), tensor(1), tensor(1), tensor(1), tensor(1), tensor(1), tensor(1), tensor(1), tensor(1), tensor(1), tensor(1), tensor(1), tensor(1), tensor(1), tensor(1), tensor(1), tensor(1), tensor(1), tensor(1), tensor(1), tensor(1), tensor(1), tensor(1), tensor(1), tensor(1), tensor(1), tensor(1), tensor(1), tensor(1), tensor(1), tensor(1), tensor(1), tensor(1), tensor(1), tensor(1), tensor(1), tensor(1), tensor(1), tensor(1), tensor(1), tensor(1), tensor(1), tensor(1), tensor(1), tensor(1), tensor(1), tensor(1), tensor(1), tensor(1), tensor(1), tensor(1), tensor(1), tensor(1), tensor(1), tensor(1), tensor(1), tensor(1), tensor(1), tensor(1), tensor(1), tensor(1), tensor(1), tensor(1), tensor(1), tensor(1), tensor(1), tensor(1), tensor(1), tensor(1), tensor(1), tensor(1), tensor(1), tensor(1), tensor(1), tensor(1), tensor(1), tensor(1), tensor(1), tensor(1), tensor(1), tensor(1), tensor(1), tensor(1), tensor(1), tensor(1), tensor(1), tensor(1), tensor(1), tensor(1), tensor(1), tensor(1), tensor(1), tensor(1), tensor(1), tensor(1), tensor(1), tensor(1), tensor(1), tensor(1), tensor(1), tensor(1), tensor(1), tensor(1), tensor(1), tensor(1), tensor(1), tensor(1), tensor(1), tensor(1), tensor(1), tensor(1), tensor(1), tensor(1), tensor(1), tensor(1), tensor(1), tensor(1), tensor(1), tensor(1), tensor(1), tensor(1), tensor(1), tensor(1), tensor(1), tensor(1), tensor(1), tensor(1), tensor(1), tensor(1), tensor(1), tensor(1), tensor(1), tensor(1), tensor(1), tensor(1), tensor(1), tensor(1), tensor(1), tensor(1), tensor(1), tensor(1), tensor(1), tensor(1), tensor(1), tensor(1), tensor(1), tensor(1), tensor(1), tensor(1), tensor(1), tensor(1), tensor(1), tensor(1), tensor(1), tensor(1), tensor(1), tensor(1), tensor(1), tensor(1), tensor(1), tensor(1), tensor(1), tensor(1), tensor(1), tensor(1), tensor(1), tensor(1), tensor(1), tensor(1), tensor(1), tensor(1), tensor(1), tensor(1), tensor(1), tensor(1), tensor(1), tensor(1), tensor(1), tensor(1), tensor(1), tensor(1), tensor(1), tensor(1), tensor(1), tensor(1), tensor(1), tensor(1), tensor(1), tensor(1), tensor(1), tensor(1), tensor(1), tensor(1), tensor(1), tensor(1), tensor(1), tensor(1), tensor(1), tensor(1), tensor(1), tensor(1), tensor(1), tensor(1), tensor(1), tensor(1), tensor(1), tensor(1), tensor(1), tensor(1), tensor(1), tensor(1), tensor(1), tensor(1), tensor(1), tensor(1), tensor(1), tensor(1), tensor(1), tensor(1), tensor(1), tensor(1), tensor(1), tensor(1), tensor(1), tensor(1), tensor(1), tensor(1)]\n",
            "Test batch phrase id: [159837, 159838, 159446, 159445, 159448, 159449, 159450, 156076, 156079, 156078, 159458, 159459, 156083, 156684, 156685, 159461, 159462, 158916, 157755, 156089, 157382, 156431, 159396, 159395, 159463, 156433, 156432, 159464, 156091, 157935, 156940, 157937, 156272, 157936, 156275, 159470, 156274, 159471, 157671, 158924, 157938, 158923, 156092, 157305, 158017, 158016, 159356, 159924, 159355, 156487, 157675, 157941, 157676, 159474, 159357, 156858, 160075, 156446, 160077, 160076, 157765, 157766, 159475, 157677, 159659, 158654, 158653, 157942, 159359, 156640, 158387, 158554, 159839, 159360, 157548, 160078, 159840, 156448, 159570, 159841, 159712, 158843, 158194, 159660, 159573, 159661, 158494, 157806, 159872, 159572, 156362, 158193, 159478, 157974, 159873, 157383, 157681, 159414, 158695, 159479, 156941, 159842, 159715, 156451, 159363, 157470, 159662, 158496, 158495, 157624, 158094, 158498, 156900, 157473, 159874, 156178, 158095, 157165, 156452, 156324, 158753, 156364, 156365, 157384, 158457, 159415, 159664, 157472, 157474, 157978, 158129, 156180, 157979, 157130, 159481, 159324, 156367, 159364, 157097, 157096, 159665, 159416, 157879, 156181, 156454, 156455, 159365, 159718, 158131, 158564, 158563, 157038, 156870, 156778, 159717, 159417, 159209, 159936, 159937, 158888, 156812, 159986, 158130, 156869, 157131, 158308, 159482, 159876, 160045, 157980, 157981, 156183, 157943, 156185, 156906, 156567, 156686, 156687, 157983, 159418, 157944, 159938, 156325, 157945, 158889, 158890, 159719, 158160, 158132, 157039, 157040, 156780, 158220, 156781, 160047, 159294, 159667, 156651, 157557, 156650, 158565, 159293, 160046, 159041, 156456, 156905, 157556, 157558, 159939, 159011, 156908, 157203, 159129, 159130, 157257, 158984, 156782, 156754, 156783, 158891, 156569, 156568, 158504, 157631, 158162, 158566, 158163, 156652, 158222, 158223, 157559, 159420, 159073, 159668, 158166, 159586, 160123, 159585, 158165, 156910, 156328, 159940, 157560, 156571, 159240, 159989, 156909, 158427, 156756, 159421, 158505, 159370, 158810, 156785, 159611, 157778, 159988, 158811, 156537, 156755, 158603, 158602, 158359, 156506, 156505, 156093, 159241, 156219, 159300, 157634, 160079, 158167, 159242, 156723, 158031, 156654, 160154, 159509, 159189, 158507, 156296, 157011, 156508, 156507, 158430, 158429, 157166, 157841, 159510, 156329, 157635, 159990, 156573, 160153, 157780, 156788, 156405, 157265, 158338, 157264, 159131, 156406, 159050, 159049, 159374, 158708, 160080, 156688, 157562, 157356, 156575, 159587, 156757, 159588, 156097, 156984, 157306, 158858, 158857, 157104, 156510, 158508, 156985, 156655, 159727, 160021, 158707, 156298, 159017, 159991, 157636, 157139, 157486, 159016, 159334, 156221, 156222, 158106, 158926, 158925, 157307, 157268, 157140, 158572, 158573, 158710, 159020, 158671, 159132, 160081, 157638, 158388, 159770, 159728, 156300, 156511, 158431, 159993, 156915, 156333, 157357, 157358, 156916, 156576, 157267, 156656, 159632, 159375, 157602, 159336, 158709, 160023, 160022, 159788, 158280, 157695, 157487, 156987, 158340, 159789, 158948, 158339, 159772, 159194, 157639, 156466, 157016, 156301, 159885, 157017, 157075, 157074, 159771, 159304, 159376, 158711, 159634, 156276, 159730, 157359, 156578, 157308, 156988, 158672, 156729, 159635, 159053, 159111, 159947, 158754, 159052, 156871, 159133, 157603, 158949, 157170, 159901, 159426, 157807, 158732, 158076, 159193, 156918, 156693, 157172, 156793, 157042, 157041, 158458, 156545, 156544, 156942, 156277, 158950, 157641, 159749, 159427, 159676, 159615, 159616, 157432, 157385, 159339, 157698, 156730, 158755, 157893, 157894, 157144, 159636, 158038, 159305, 158343, 157360, 158206, 158604, 159054, 159483, 158985, 157954, 159886, 159377, 156384, 157328, 159221, 156467, 156579, 160085, 158968, 158078, 159731, 159134, 159220, 156920, 158391, 157327, 159081, 159082, 159195, 158077, 156607, 156694, 157699, 157509, 157044, 159055, 159697, 157530, 159135, 158951, 159169, 159733, 159168, 156385, 158039, 157217, 158019, 157218, 158018, 159484, 158655, 159539, 158756, 158261, 159887, 158262, 158821, 159249, 158319, 159859, 157312, 156921, 158716, 159340, 158142, 158112, 156304, 156943, 158168, 158169, 158605, 159511, 156251, 158080, 156250, 158675, 158195, 158196, 157810, 157849, 160086, 157850, 158392, 159843, 157386, 158409, 158410, 159844, 158862, 156795, 160135, 160136, 156154, 158345, 157023, 158197, 158577, 156128, 159431, 157076, 157022, 158535, 159790, 158412, 157147, 158234, 159056, 160048, 156696, 158292, 158291, 158346, 159380, 157586, 159397, 160087, 160025, 160024, 159086, 159085, 159486, 159398, 158371, 156955, 156488, 158822, 159269, 157290, 157716, 158863, 157314, 156764, 157852, 157730, 157851, 159136, 159860, 158892, 156813, 159815, 157827, 159596, 157812, 159775, 156797, 158952, 157415, 157416, 156923, 159734, 158060, 158988, 158061, 159310, 157219, 158082, 159540, 159541, 156305, 158717, 157403, 159487, 156946, 156924, 157177, 159514, 157494, 157404, 159433, 157045, 157078, 156815, 159399, 156957, 156765, 157221, 156830, 156831, 157244, 157148, 159543, 159381, 159087, 156876, 159270, 159271, 156307, 158953, 159776, 157732, 158794, 158000, 158001, 157731, 156583, 157984, 158145, 158990, 159999, 158198, 158236, 156201, 158630, 158293, 159846, 158893, 156489, 159818, 159817, 157853, 157829, 157828, 158876, 159680, 158864, 157895, 159861, 159792, 158844, 159791, 157921, 157958, 158606, 158479, 158480, 158518, 158413, 159057, 156111, 157587, 157588, 158395, 158373, 158372, 156130, 158347, 158324, 158323, 156186, 160049, 157277, 159847, 156203, 158396, 156971, 159863, 159555, 157278, 157317, 158237, 158846, 156113, 158211, 158540, 157959, 158541, 158866, 157334, 157880, 158415, 157866, 158631, 158443, 158444, 156187, 158607, 156817, 157046, 156491, 156407, 159910, 158309, 156948, 157105, 158147, 156236, 158117, 158719, 158326, 156309, 159515, 157178, 160063, 158043, 158770, 158771, 160000, 158199, 159909, 156368, 158349, 156132, 157245, 159281, 160011, 156958, 158795, 158210, 159272, 157985, 160103, 156877, 157682, 156584, 157718, 156613, 157574, 157537, 156522, 156612, 158992, 157495, 158954, 157767, 157515, 157768, 157781, 157717, 156666, 159793, 157460, 159088, 156767, 159681, 157830, 157536, 159819, 158894, 157461, 159153, 159030, 157514, 158969, 158772, 158721, 156999, 158118, 156586, 157497, 159341, 159099, 156311, 160064, 158578, 158096, 157720, 159098, 157604, 158087, 158044, 158757, 156334, 158350, 159925, 156188, 156959, 160012, 160013, 156615, 158212, 158224, 159121, 158239, 159739, 159120, 156972, 156973, 157642, 156205, 159643, 156629, 156628, 157516, 159342, 159502, 157517, 157151, 159973, 158134, 157706, 158149, 158133, 158696, 158177, 159383, 159750, 159031, 160001, 156238, 158993, 158927, 157279, 157280, 157868, 158848, 156701, 159250, 159210, 158484, 159061, 159864, 157405, 158906, 159436, 157896, 158416, 159794, 159848, 159602, 157795, 157318, 156844, 160142, 157881, 158867, 156832, 157575, 158445, 157336, 157337, 156833, 157591, 158782, 158005, 158374, 160092, 158783, 157441, 157440, 157246, 156493, 157247, 158543, 157538, 158797, 157867, 159273, 158956, 159698, 157756, 156819, 157769, 157855, 158823, 156667, 156408, 160105, 157539, 159683, 158773, 158485, 158609, 158470, 156062, 157518, 159090, 158360, 158351, 159400, 157605, 158579, 157064, 157540, 157048, 158399, 158525, 158311, 159063, 157106, 158417, 157576, 157897, 159156, 159157, 158958, 159274, 158798, 157947, 157563, 157946, 159170, 158938, 159171, 159252, 158850, 157406, 157898, 157226, 158928, 157320, 157796, 158868, 157882, 159231, 158907, 157813, 157339, 157870, 157869, 158897, 157856, 159203, 157361, 158120, 158269, 158250, 157120, 158643, 158240, 157644, 158225, 157683, 158178, 157684, 158682, 158697, 157707, 157152, 159343, 157499, 158971, 158722, 156061, 158098, 158097, 158733, 158088, 158741, 158742, 158046, 157204, 158023, 157721, 159141, 158774, 156820, 159574, 156880, 156834, 159948, 159645, 156641, 156477, 157000, 156494, 160093, 156555, 156743, 156240, 156556, 156889, 160144, 160014, 159558, 156526, 156286, 156859, 156668, 156960, 160106, 156114, 156190, 156346, 159961, 159684, 156974, 159795, 156845, 156703, 159503, 156335, 156223, 156411, 156410, 156136, 159865, 159437, 159877, 157029, 159740, 156798, 156434, 156435, 159603, 159617, 159752, 159618, 160065, 156422, 156616, 156207, 156588, 156336, 157606, 158594, 156278, 159286, 158062, 157615, 157614, 159254, 156597, 158312, 158063, 159753, 158121, 156657, 157283, 159962, 158331, 159285, 158734, 156890, 159021, 158580, 159004, 158743, 157227, 158744, 157250, 156155, 157645, 159951, 156630, 156631, 156314, 159275, 156166, 156881, 159741, 156168, 158593, 159548, 157269, 158252, 159112, 160004, 157362, 158632, 156745, 159205, 157475, 157373, 159626, 159196, 158665, 158664, 158214, 158253, 157387, 159213, 157443, 157442, 159620, 158644, 157396, 159158, 156225, 156224, 158656, 158242, 157408, 157426, 157425, 160026, 156209, 157321, 159253, 157297, 157298, 159687, 158301, 159686, 160050, 156191, 159560, 159561, 159074, 159003, 159670, 156846, 159669, 159064, 157549, 158610, 157541, 156262, 159232, 159091, 156835, 157520, 159575, 159222, 157341, 158683, 156731, 156252, 158179, 158930, 157098, 157814, 156962, 158908, 158812, 157964, 159493, 158400, 156528, 156468, 157154, 158775, 158526, 158869, 157884, 156370, 156369, 159345, 158546, 156546, 156458, 158024, 159504, 158940, 157835, 156098, 158509, 159888, 160124, 156989, 157857, 157107, 160125, 156386, 156976, 157121, 157928, 158419, 157970, 157986, 156396, 158432, 156512, 156478, 158877, 158799, 158898, 159896, 159402, 156423, 156138, 159879, 159325, 156064, 158825, 156437, 159516, 159319, 160145, 159866, 158047, 157031, 158851, 158459, 159878, 157191, 157192, 157735, 157183, 157749, 157927, 156589, 158378, 160096, 157079, 158555, 157205, 159851, 157049, 156457, 156732, 156768, 159075, 157433, 156412, 157417, 159104, 159612, 156253, 157428, 159867, 156254, 157929, 157859, 159648, 159647, 158870, 159621, 156460, 157462, 156398, 158667, 156758, 159627, 159852, 159880, 158201, 158657, 157444, 157476, 156746, 158852, 160005, 158814, 157899, 158813, 157900, 157488, 157873, 156469, 156243, 158186, 158676, 157948, 157502, 157751, 159920, 157658, 156619, 156560, 159777, 159919, 157742, 159023, 157646, 157750, 159006, 156316, 159782, 158941, 158026, 159036, 158099, 157625, 157772, 158020, 159742, 158054, 157710, 158978, 158979, 159762, 159763, 157685, 158745, 158069, 157617, 156349, 158048, 158962, 158994, 158760, 159637, 157736, 157663, 159005, 157550, 159897, 158138, 156513, 156280, 156590, 156279, 157987, 158150, 159820, 157815, 157836, 156706, 157542, 157842, 159889, 159828, 159994, 159092, 158684, 158123, 157616, 156538, 159952, 157608, 157787, 158777, 156529, 159964, 157596, 157521, 156673, 159799, 158917, 157799, 157577, 159689, 159902, 158788, 158910, 160111, 157342, 159576, 159255, 158528, 159320, 159214, 160051, 158624, 156964, 159517, 159518, 157284, 157132, 158273, 159224, 157207, 156823, 157208, 156100, 157122, 156977, 159311, 157364, 158314, 158633, 159206, 158510, 157108, 158612, 159563, 159564, 158379, 159243, 156847, 156925, 159505, 156931, 157322, 158611, 158548, 159346, 159233, 159589, 159562, 159327, 157299, 158302, 157156, 157185, 159326, 158556, 158613, 157194, 157291, 156949, 156836, 159181, 158263, 159197, 157100, 160034, 158243, 157099, 158434, 159440, 158352, 157236, 156210, 158461, 158460, 159276, 156891, 159530, 157397, 157080, 159403, 156157, 157050, 157409, 159198, 156065, 157270, 156147, 157032, 159288, 158582, 160128, 160027, 158765, 157752, 156561, 156159, 158557, 156893, 159531, 157733, 159321, 159172, 157664, 156926, 157237, 157659, 158736, 159328, 157743, 159289, 158761, 157744, 158567, 159312, 157209, 157711, 158066, 156598, 158746, 156620, 158055, 158975, 157686, 156591, 158056, 159926, 159521, 157700, 156341, 158980, 159754, 158574, 159931, 157196, 159921, 157230, 158995, 158981, 158964, 157197, 156351, 158070, 160070, 159744, 157722, 158365, 159765, 158353, 156148, 156993, 158815, 158499, 159388, 158435, 156470, 157101, 157967, 159384, 158879, 157971, 157861, 156461, 158882, 156482, 158883, 159830, 156389, 159825, 159890, 157844, 156979, 156495, 157949, 158475, 157931, 157922, 157033, 159422, 157025, 157024, 157065, 158854, 158859, 157838, 159441, 158489, 159881, 156400, 158451, 158446, 157004, 157885, 157087, 160137, 156539, 159800, 158779, 158011, 158401, 156115, 159351, 156531, 157157, 157782, 160098, 156950, 159347, 157774, 159911, 156550, 159506, 158027, 157761, 158032, 157757, 159783, 157816, 158422, 159821, 156102, 160119, 156514, 160112, 157822, 158900, 157133, 159898, 158380, 156965, 159811, 159810, 158789, 156953, 159805, 159488, 158006, 159903, 157800, 158139, 158170, 156674, 158256, 159974, 157292, 159093, 158200, 157301, 159146, 159245, 156806, 159244, 157568, 156229, 159076, 156255, 158702, 158255, 158685, 159207, 157522, 156291, 159124, 159699, 158124, 157365, 156661, 157286, 156172, 159965, 159225, 159704, 159200, 159655, 156717, 157479, 157478, 158688, 159591, 158265, 158264, 156708, 157543, 158689, 158202, 159234, 156263, 159628, 157597, 156759, 160039, 158668, 157551, 156194, 157466, 160058, 159980, 157376, 158207, 157329, 158151, 159979, 158294, 159137, 159639, 156634, 157410, 159606, 156317, 157429, 156642, 156244, 160035, 158677, 159544, 158245, 157626, 157434, 156171, 158101, 159105, 156872, 160018, 156734, 159720, 158230, 157503, 159277, 158583, 158089, 159941, 158274, 156735, 156824, 157647, 157648, 158187, 160028, 157446, 160052, 159708, 156864, 158281, 159264, 157610, 157391, 159590, 156799, 159042, 158315, 159215, 156773, 159037, 159122, 157399, 159159, 158727, 159183, 157350, 157618, 157272, 158800, 156246, 158500, 157988, 158944, 158519, 158189, 159892, 158512, 158423, 156391, 158803, 158511, 160008, 156066, 160029, 158452, 158490, 158246, 160149, 158462, 158463, 158645, 158486, 158226, 157955, 156413, 159870, 158471, 158231, 158826, 157932, 158648, 156211, 158476, 158649, 158257, 158203, 157972, 157968, 158208, 158635, 156231, 160131, 158438, 156084, 156116, 157975, 157960, 158215, 158660, 158219, 160138, 160015, 160146, 159882, 158640, 158597, 158748, 158595, 158316, 156143, 156342, 158361, 158107, 158723, 158057, 159953, 158113, 156139, 158568, 159922, 158049, 158125, 156292, 158758, 159966, 156352, 156174, 156287, 158040, 158559, 158576, 158336, 158083, 159932, 158738, 158333, 158332, 156161, 158090, 159942, 156337, 156319, 159927, 158135, 158093, 160066, 158585, 158071, 158328, 158327, 158589, 156149, 158067, 158102, 158728, 156377, 156372, 156264, 160099, 158012, 159995, 158614, 158402, 158284, 158780, 158172, 158531, 158784, 159987, 158283, 158615, 156196, 158791, 158626, 158180, 157995, 158679, 156380, 158183, 157989, 158152, 159976, 158303, 156281, 158762, 160088, 158295, 158703, 158033, 158698, 158766, 156356, 160114, 159981, 158382, 156357, 158383, 159914, 158156, 158549, 158691, 159904, 156371, 156121, 159675, 156719, 159656, 156709, 157544, 156895, 159526, 157553, 159671, 156697, 157222, 159677, 156901, 156689, 157564, 157569, 157210, 159068, 159314, 157232, 156737, 159532, 159116, 159113, 157505, 157238, 159290, 157510, 159100, 157578, 159295, 156724, 157523, 159296, 159094, 159651, 157531, 159301, 156635, 156932, 156646, 156933, 159039, 157627, 159348, 159032, 156643, 159716, 157619, 157158, 159721, 159024, 159499, 159352, 159012, 159735, 159007, 157179, 159065, 156675, 157199, 159322, 159690, 157188, 157592, 156662, 156738, 157599, 159705, 156911, 159710, 157173, 156928, 157611, 159043, 159552, 157294, 156807, 157287, 156804, 159597, 159256, 156800, 159190, 157392, 159592, 159184, 157401, 159604, 159178, 156865, 157412, 159173, 159607, 156851, 157324, 159568, 156837, 159235, 159577, 157345, 159217, 157351, 156850, 156789, 156826, 159246, 157302, 159208, 157367, 156860, 159201, 157377, 156747, 157258, 159139, 159624, 157464, 157255, 156760, 157467, 159278, 158832, 159142, 157480, 157251, 159126, 159123, 157489, 156886, 159640, 159282, 156774, 157418, 159265, 157274, 159614, 159549, 159161, 157430, 159160, 157167, 157435, 156873, 157447, 156769, 159545, 159151, 159148, 156882, 159785, 158920, 156995, 159465, 157788, 156532, 157783, 158931, 157109, 158935, 157775, 157110, 159404, 156540, 157770, 157876, 157102, 158871, 156551, 157070, 156462, 157886, 156980, 157758, 157067, 157753, 159853, 159410, 157746, 159778, 156442, 157818, 159451, 157845, 156496, 158885, 159826, 157839, 159452, 157083, 156501, 157831, 157006, 157012, 157088, 158901, 156483, 157665, 156516, 159832, 157018, 159806, 159390, 157092, 158911, 157862, 159385, 157001, 159802, 157801, 158880, 159833, 156967, 157723, 156580, 156428, 157917, 159489, 159366, 157713, 158972, 157678, 156608, 159745, 157912, 157687, 158976, 157918, 156599, 157134, 156951, 157701, 156593, 159755, 158982, 156424, 157901, 158836, 159000, 157125, 159494, 159767, 156438, 159773, 157051, 157034, 157923, 158860, 157727, 158996, 159367, 159423, 158855, 157911, 157737, 159565, 160107, 160040, 160041, 159546, 158477, 158109, 159237, 159434, 160147, 158591, 160150, 158600, 159411, 158599, 159438, 159553, 159257, 159260, 159408, 159405, 159550, 158596, 159556, 160053, 158487, 160043, 159247, 158481, 159442, 158608, 159424, 159443, 159266, 160155, 158491, 159323, 159512, 158552, 158520, 159332, 160089, 159329, 160083, 160116, 159337, 158560, 160082, 159368, 160120, 159316, 159371, 159307, 160122, 158532, 158536, 160108, 159353, 159496, 159490, 160100, 159349, 158544, 159306, 160097, 159500, 158529, 159361, 159631, 158550, 159480, 158501, 159291, 160129, 160061, 160059, 159283, 159533, 159386, 160132, 159298, 159279, 159391, 159394, 159455, 160139, 159534, 158587, 159302, 159372, 159522, 158515, 159524, 158513, 158569, 159476, 159527, 160056, 159378, 159472, 160073, 159382, 160071, 159467, 160067, 159774, 158750, 158977, 159756, 158973, 159923, 159760, 158967, 158965, 158959, 159768, 158759, 158983, 159779, 158763, 159780, 159915, 158945, 158767, 159428, 158942, 159786, 159906, 158936, 159724, 159044, 158724, 159040, 159713, 158729, 159033, 159943, 159028, 159025, 159723, 159933, 158932, 158735, 159013, 159008, 158739, 159002, 159929, 158998, 159736, 159746, 158986, 158819, 158881, 158878, 159835, 159883, 158874, 158873, 159845, 159849, 158816, 158817, 159854, 158805, 159856, 158856, 159875, 158824, 159871, 159868, 158837, 158827, 158833, 158828, 158792, 159796, 158921, 158918, 158781, 158915, 159900, 158912, 158785, 159899, 159803, 159807, 159045, 158903, 158899, 159812, 158895, 159814, 159893, 159822, 158886, 158801, 159827, 158662, 158646, 159174, 159608, 158650, 159613, 159165, 160019, 159162, 160016, 159154, 158658, 159179, 159149, 159143, 159140, 159622, 160009, 159629, 159127, 160006, 160002, 158669, 159117, 158634, 159226, 159218, 158618, 158621, 158625, 159211, 159578, 158627, 160037, 160036, 159581, 158673, 159202, 160030, 158637, 158638, 159593, 158639, 159599, 159191, 158641, 159186, 158712, 159678, 158704, 159070, 159067, 159977, 159059, 159058, 159969, 159967, 159691, 159694, 158699, 159700, 158713, 159702, 159051, 159706, 159958, 158718, 159957, 159956, 159954, 159652, 159641, 159998, 159114, 159108, 159106, 159101, 158680, 159646, 159649, 159095, 159996, 159228, 159089, 158686, 159657, 159666, 158692, 159083, 159982, 159078, 159672, 159077, 157933, 156414, 157353, 157913, 156403, 156790, 156401, 157915, 157919, 157347, 156393, 157343, 156387, 157925, 156801, 156382, 157908, 157939, 156378, 157950, 157332, 157952, 156374, 156805, 157956, 157961, 157962, 157330, 157965, 156363, 156809, 157374, 157826, 157832, 156449, 156762, 157840, 157388, 157846, 156443, 157379, 157854, 156770, 157863, 156439, 157871, 157325, 157874, 156775, 156429, 157877, 157887, 156425, 157368, 156420, 157891, 156786, 157902, 156417, 157904, 157906, 157260, 157281, 158041, 156841, 158050, 158052, 157275, 158058, 156312, 158064, 156848, 158068, 158072, 156852, 156302, 158035, 157259, 157256, 158084, 157253, 158091, 156293, 158103, 157248, 156288, 156861, 156284, 158115, 156282, 157239, 158003, 157323, 157976, 156358, 157315, 157990, 156821, 157993, 156353, 157309, 157997, 156347, 157303, 156343, 158002, 157393, 158007, 158009, 157295, 156338, 156827, 156331, 158014, 157289, 158021, 156330, 158028, 156326, 156838, 156321, 157653, 157506, 156604, 156603, 157629, 156677, 157632, 157500, 156600, 156679, 156680, 156594, 157649, 157650, 157492, 156609, 157490, 156690, 156581, 157660, 157481, 157662, 157666, 156699, 156565, 157468, 156563, 156562, 157672, 157465, 156663, 156647, 157545, 157555, 157561, 157565, 156644, 156653, 157533, 156658, 156636, 157571, 156632, 157526, 157580, 156558, 157582, 156625, 157584, 157589, 156669, 157593, 156622, 156621, 157600, 156617, 156670, 157511, 157612, 157620, 157792, 157431, 157759, 157762, 157763, 156726, 157771, 156503, 157776, 157422, 156498, 157784, 157419, 157790, 157413, 156518, 156740, 156484, 157797, 157803, 157402, 156748, 156479, 157808, 156473, 156751, 156471, 157819, 156463, 157823, 156541, 157679, 156557, 157463, 157688, 157458, 156552, 157691, 156704, 157693, 157696, 156547, 157703, 156710, 157708, 157027, 157714, 157452, 156533, 157724, 157728, 157448, 156523, 157734, 157739, 156721, 157741, 157747, 157436, 157754, 156934, 158270, 157169, 156996, 156104, 158275, 158277, 158404, 156929, 157160, 156175, 157081, 158268, 156169, 158397, 157085, 156108, 156937, 158286, 158287, 157149, 156990, 158393, 158247, 157189, 156902, 158228, 156213, 158232, 157186, 158420, 156094, 157180, 156912, 157145, 157002, 157068, 156197, 158258, 157174, 158266, 156103, 156192, 157071, 158407, 158368, 158329, 156144, 158334, 158375, 157123, 158337, 158341, 157103, 156140, 157111, 157118, 156952, 158354, 158355, 157114, 156133, 156126, 158357, 158366, 158358, 158362, 156968, 156944, 158297, 158298, 156163, 158389, 158304, 157090, 157142, 157141, 158307, 158310, 158254, 158317, 156118, 158320, 158384, 156981, 157136, 156151, 157094, 156123, 157127, 156241, 157019, 156257, 156256, 156071, 158158, 158453, 157047, 156247, 158424, 158449, 157014, 156883, 158174, 158447, 156887, 157212, 157054, 157211, 158181, 158184, 157056, 156233, 156874, 156866, 158472, 156269, 158127, 156067, 157233, 158136, 158468, 157026, 157036, 158140, 157052, 157228, 158465, 158143, 156266, 156878, 158464, 158456, 156260, 158153, 157223, 158213, 156226, 156897, 158204, 158217, 156086, 158439, 157008, 158191, 156216, 157062, 156080, 158209, 157201, 156676, 156718, 157020, 156716, 159453, 157007, 159688, 156712, 156715, 159658, 156714, 156978, 156682, 156681, 159477, 156713, 156659, 156720, 159693, 156649, 156521, 156969, 156678, 159707, 159650, 159439, 156970, 159454, 159682, 157005, 159653, 159654, 156975, 159456, 159685, 159457, 157021, 157003, 159468, 156665, 156692, 159674, 156700, 159673, 159447, 159696, 159469, 157009, 156671, 156702, 157010, 156991, 159692, 159695, 159466, 157013, 156695, 156992, 156994, 156698, 159701, 159703, 159679, 156660, 159663, 156672, 159460, 156982, 156683, 159444, 159473, 156711, 156707, 159709, 156705, 156998, 157015, 156983, 156664, 156691, 156986, 156997, 159580, 159523, 156898, 159584, 159583, 159525, 159582, 156822, 156896, 156818, 159528, 159579, 156825, 159529, 156894, 156892, 156888, 156808, 156914, 159595, 159513, 156913, 159594, 156907, 156904, 156903, 156828, 159519, 159520, 156810, 156811, 156814, 156816, 156899, 156868, 156853, 159542, 156854, 156875, 159559, 156855, 159557, 156856, 156879, 156857, 159554, 156862, 159551, 156863, 159547, 156867, 159569, 156829, 156839, 156885, 156840, 159535, 159536, 159571, 159537, 156803, 159538, 156842, 156884, 159567, 159566, 156843, 156849, 156752, 156954, 159633, 156947, 156749, 156750, 159630, 156945, 159491, 156744, 156753, 159492, 156761, 159625, 156939, 159623, 159495, 159485, 156725, 156966, 156727, 156963, 156728, 159644, 156733, 156961, 156763, 159642, 156736, 156739, 156956, 159638, 156741, 156742, 156794, 156927, 159507, 156787, 159508, 156922, 156791, 159605, 156792, 159609, 156919, 156796, 159601, 156917, 159600, 159598, 156802, 156777, 156766, 156938, 159619, 156771, 159497, 159498, 156772, 156776, 156722, 156936, 159501, 156779, 156935, 156784, 156930, 159610, 156232, 156212, 156214, 156215, 156217, 160020, 156218, 156220, 160017, 156227, 156228, 156230, 156208, 160010, 156234, 156235, 160007, 156237, 156239, 160003, 156242, 156245, 156248, 156195, 156173, 156176, 156177, 156179, 156182, 156184, 160044, 156189, 160042, 156193, 156249, 160038, 156198, 156199, 156200, 160033, 160032, 160031, 156202, 156204, 156206, 159955, 156289, 156290, 156294, 159963, 156295, 156297, 159960, 159959, 156299, 156303, 159968, 156306, 156308, 156310, 159950, 159949, 156313, 156315, 159946, 159945, 159944, 159983, 159997, 156258, 156259, 159992, 156261, 156265, 156267, 156268, 159985, 159984, 156170, 156270, 156271, 156273, 159978, 156283, 159975, 156285, 159972, 159971, 159970, 160118, 160130, 156088, 156090, 160127, 160126, 156095, 156096, 156099, 160121, 156101, 156087, 160117, 160115, 156105, 160113, 156106, 156107, 160110, 160109, 156109, 156110, 156074, 158474, 156063, 156068, 160152, 160151, 156069, 156070, 160148, 156072, 156073, 156112, 160143, 156075, 160141, 160140, 156077, 156081, 156082, 156085, 160134, 160133, 156158, 156145, 156146, 160074, 156150, 160072, 156152, 160069, 160068, 156153, 156156, 156142, 156160, 156162, 160062, 160060, 156164, 156165, 160057, 156167, 160055, 160054, 156125, 160104, 156117, 160102, 160101, 156119, 156120, 156122, 160095, 160094, 156124, 156318, 160091, 160090, 156127, 156129, 156131, 160084, 156134, 156135, 156137, 156141, 156549, 159798, 159797, 156530, 156534, 156535, 156536, 156542, 156543, 159787, 156548, 156527, 159784, 156553, 159781, 156554, 156559, 156564, 156566, 156570, 156572, 159769, 156515, 159824, 159823, 156497, 156499, 156500, 156502, 159816, 156504, 156509, 159813, 156574, 156517, 159809, 159808, 156519, 156520, 160156, 159804, 156524, 159801, 156525, 159725, 156611, 159738, 159737, 156614, 156618, 159732, 156623, 159729, 156624, 159726, 156610, 156626, 156627, 159722, 156633, 156637, 156638, 156639, 159714, 156645, 159711, 156592, 156577, 159766, 159764, 156582, 156585, 159761, 156587, 159759, 159758, 159757, 156492, 156595, 156596, 159751, 156601, 156602, 159748, 159747, 156605, 159743, 156606, 156379, 156359, 156360, 156361, 159908, 159907, 159905, 156366, 156373, 156375, 156376, 159912, 156381, 159895, 159894, 156383, 159891, 156388, 156390, 156392, 156394, 156395, 156340, 156320, 156322, 156323, 156327, 159935, 159934, 156332, 159930, 156339, 159928, 159884, 156344, 156345, 156348, 156350, 156354, 159918, 159917, 159916, 156355, 159913, 156475, 156445, 156447, 159850, 156450, 156453, 156459, 156464, 156465, 156472, 156474, 156444, 156476, 159836, 159834, 156480, 156481, 159831, 159829, 156485, 156486, 156490, 156421, 156397, 156399, 156402, 156404, 156409, 156415, 156416, 156418, 156419, 159869, 156648, 156426, 156427, 156430, 159862, 156436, 156440, 159858, 159857, 156441, 159855, 158793, 158807, 158806, 157973, 158804, 158802, 157977, 157982, 157991, 157992, 158796, 157994, 158808, 157996, 158790, 157998, 157999, 158787, 158786, 158004, 158008, 158010, 158778, 157934, 158838, 157920, 157924, 158835, 158834, 157926, 158831, 158830, 158829, 157930, 158013, 157940, 157951, 158820, 157953, 158818, 157957, 157963, 157966, 157969, 158809, 158730, 158073, 158074, 158075, 158740, 158079, 158081, 158737, 158085, 158086, 158092, 158731, 158065, 158100, 158104, 158726, 158725, 158105, 158108, 158110, 158111, 158720, 158114, 158036, 158776, 158015, 158022, 158025, 158769, 158768, 158029, 158030, 158034, 158764, 158839, 158037, 158042, 158045, 158051, 158053, 158752, 158751, 158059, 158749, 158747, 157798, 157777, 157779, 158929, 157785, 157786, 157789, 157791, 158922, 157793, 157794, 158919, 158933, 157802, 158914, 158913, 157804, 157805, 158909, 157809, 157811, 157817, 158905, 157745, 157725, 157726, 158963, 158961, 158960, 157729, 158957, 157738, 158955, 157740, 158904, 157748, 158947, 158946, 157760, 158943, 157764, 158939, 158937, 157773, 158934, 158853, 157878, 157883, 157888, 157889, 158865, 157890, 157892, 158861, 157903, 157905, 157907, 158872, 157909, 157910, 158849, 157914, 158847, 158845, 157916, 158842, 158841, 158840, 158887, 158902, 157820, 157821, 157824, 157825, 158896, 157833, 157834, 157837, 157843, 158116, 157847, 157848, 158884, 157858, 157860, 157864, 157865, 157872, 158875, 157875, 158547, 158561, 158367, 158558, 158369, 158370, 158376, 158553, 158377, 158551, 158381, 158385, 158562, 158386, 158545, 158390, 158542, 158394, 158539, 158538, 158537, 158398, 158534, 158581, 158318, 158592, 158321, 158590, 158322, 158588, 158325, 158586, 158584, 158330, 158533, 158335, 158342, 158344, 158575, 158348, 158571, 158570, 158356, 158363, 158364, 158492, 158506, 158437, 158503, 158502, 158440, 158441, 158442, 158497, 158448, 158450, 158493, 158436, 158454, 158455, 158488, 158466, 158483, 158482, 158467, 158469, 158478, 158473, 158411, 158403, 158530, 158405, 158406, 158527, 158408, 158524, 158523, 158522, 158521, 158313, 158414, 158418, 158517, 158516, 158514, 158421, 158425, 158426, 158428, 158433, 158674, 158161, 158687, 158164, 158171, 158173, 158175, 158681, 158176, 158678, 158182, 158185, 158159, 158188, 158190, 158670, 158192, 158205, 158666, 158663, 158216, 158661, 158659, 158144, 158119, 158715, 158714, 158122, 158126, 158128, 158137, 158706, 158705, 158141, 158218, 158701, 158700, 158146, 158148, 158154, 158155, 158694, 158693, 158157, 158690, 158285, 158272, 158276, 158623, 158622, 158278, 158620, 158619, 158279, 158617, 158616, 158282, 158628, 158288, 158289, 158290, 158296, 158299, 158300, 158305, 158601, 158306, 158598, 158244, 158221, 158227, 158229, 158652, 158651, 158233, 158235, 158238, 158647, 158241, 158966, 158248, 158642, 158249, 158251, 158259, 158636, 158260, 158267, 158271, 158629, 157262, 157240, 159287, 157241, 157242, 159284, 157243, 157249, 159280, 157252, 157254, 157261, 157235, 157263, 157266, 157271, 159268, 159267, 157273, 157276, 159263, 159262, 159261, 157216, 159317, 159315, 157202, 159313, 157206, 159309, 159308, 157213, 157214, 157215, 159259, 159303, 157220, 157224, 159299, 157225, 159297, 157229, 157231, 159292, 157234, 157349, 159227, 157333, 157335, 157338, 159223, 157340, 157344, 159219, 157346, 159216, 157348, 159229, 157352, 159212, 157354, 157355, 157363, 157366, 157369, 159204, 157370, 157371, 157310, 159258, 157282, 157285, 157288, 157293, 159251, 157296, 157300, 159248, 157304, 159318, 157311, 157313, 157316, 159239, 159238, 157319, 159236, 157326, 157331, 159230, 159393, 159407, 159406, 157069, 157072, 157073, 159401, 157077, 157082, 157084, 157086, 157089, 159409, 159392, 157091, 159389, 157093, 159387, 157095, 157112, 157113, 159379, 157115, 157055, 157030, 159435, 157035, 159432, 157037, 159430, 159429, 157043, 159425, 157053, 157116, 157057, 159419, 157058, 157059, 157060, 157061, 159413, 159412, 157063, 157066, 159331, 157162, 159344, 157163, 157164, 157168, 157171, 159338, 157175, 159335, 157176, 159333, 157161, 159330, 157181, 157182, 157184, 157187, 157190, 157193, 157195, 157198, 157200, 159362, 157117, 157119, 159373, 157124, 157126, 159369, 157128, 157129, 157135, 157137, 157372, 157138, 159358, 157143, 157146, 159354, 157150, 157153, 159350, 157155, 157159, 157621, 157590, 157594, 157595, 157598, 157601, 159048, 159047, 159046, 157607, 157609, 157613, 157585, 157622, 159038, 157623, 157628, 159035, 159034, 157630, 157633, 159029, 157637, 159072, 157546, 159084, 157547, 157552, 157554, 159080, 159079, 157566, 157567, 157570, 159027, 159071, 159069, 157572, 157573, 159066, 157579, 157581, 159062, 159060, 157583, 157694, 157670, 158997, 157673, 157674, 157680, 158991, 158989, 157689, 158987, 157690, 157692, 158999, 157697, 157702, 157704, 157705, 158974, 157709, 157712, 158970, 157715, 157719, 157654, 159026, 157640, 157643, 159022, 157651, 159019, 159018, 157652, 159015, 159014, 157535, 157655, 157656, 159010, 159009, 157657, 157661, 157667, 157668, 159001, 157669, 157438, 157414, 157420, 157421, 159167, 159166, 157423, 159164, 159163, 157424, 157427, 157437, 157411, 157439, 159155, 157445, 159152, 157449, 159150, 157450, 157451, 159147, 159145, 157394, 159199, 157375, 157378, 157380, 157381, 159192, 157389, 157390, 159188, 159187, 159144, 159185, 157395, 157398, 159182, 157400, 159180, 157407, 159177, 159176, 159175, 157513, 157498, 157501, 157504, 159110, 159109, 159107, 157507, 157508, 159103, 159102, 157512, 159115, 157519, 157524, 159097, 159096, 157525, 157527, 157528, 157529, 157532, 157534, 159128, 157453, 157454, 157455, 157456, 157457, 159138, 157459, 157469, 157471, 157477, 157028, 157482, 157483, 159125, 157484, 157485, 157491, 159119, 159118, 157493, 157496]\n",
            "==========================\n"
          ]
        }
      ]
    },
    {
      "cell_type": "markdown",
      "source": [
        "# Model class"
      ],
      "metadata": {
        "id": "oMU64rw3TJ1f"
      }
    },
    {
      "cell_type": "code",
      "source": [
        "def load_glove_embeddings(glove_path, vocab, embedding_dim):\n",
        "    \"\"\"\n",
        "    Loads GloVe embeddings from a file and creates an embedding matrix\n",
        "    for the given vocabulary.\n",
        "\n",
        "    Args:\n",
        "        glove_path (str): Path to GloVe .txt file (e.g., \"glove.6B.300d.txt\").\n",
        "        vocab (Dict[str, int]): A mapping of token -> index.\n",
        "        embedding_dim (int): Dimension of the pretrained embeddings.\n",
        "\n",
        "    Returns:\n",
        "        np.ndarray: Embedding matrix of shape (len(vocab), embedding_dim).\n",
        "    \"\"\"\n",
        "    # Initialize random embedding matrix\n",
        "    embedding_matrix = np.random.uniform(\n",
        "        low=-0.05, high=0.05, size=(len(vocab), embedding_dim)\n",
        "    ).astype(np.float32)\n",
        "\n",
        "    # Read the GloVe file\n",
        "    with open(glove_path, \"r\", encoding=\"utf-8\") as f:\n",
        "        for line in f:\n",
        "            values = line.split()\n",
        "            word = values[0]\n",
        "            vector = values[1:]\n",
        "            if word in vocab:  # if the word is in our vocabulary\n",
        "                idx = vocab[word]\n",
        "                embedding_matrix[idx] = np.array(vector, dtype=np.float32)\n",
        "\n",
        "    return embedding_matrix"
      ],
      "metadata": {
        "id": "S3q7DwdX-eVk"
      },
      "execution_count": null,
      "outputs": []
    },
    {
      "cell_type": "code",
      "source": [
        "class SentimentModel(nn.Module):\n",
        "  def __init__(self, vocab_size, embedding_dim, hidden_size, num_layers, num_classes,\n",
        "               drop_prob, pad_idx, bidirectional=True, pretrained_embeddings=None,\n",
        "               freeze_embeddings=False):\n",
        "    \"\"\"\n",
        "    Initializes the SentimentModel model.\n",
        "\n",
        "    Args:\n",
        "        vocab_size (int): Number of words in the vocabulary.\n",
        "        embedding_dim (int): Dimensionality of the word embeddings.\n",
        "        hidden_size (int): Number of features in the hidden state of the LSTM.\n",
        "        num_layers (int): Number of recurrent layers.\n",
        "        num_classes (int): Number of sentiment classes.\n",
        "        drop_prob (float): Dropout probability.\n",
        "        pad_idx (int): Index used for padding.\n",
        "        bidirectional (bool): Whether to use a bidirectional LSTM.\n",
        "    \"\"\"\n",
        "    super(SentimentModel, self).__init__()\n",
        "\n",
        "    self.pad_idx = pad_idx\n",
        "    self.bidirectional = bidirectional\n",
        "\n",
        "    if pretrained_embeddings is not None:\n",
        "        self.embedding = nn.Embedding.from_pretrained(\n",
        "            embeddings=torch.tensor(pretrained_embeddings),\n",
        "            freeze=freeze_embeddings,\n",
        "            padding_idx=pad_idx\n",
        "        )\n",
        "    else:\n",
        "        self.embedding = nn.Embedding(\n",
        "            num_embeddings=vocab_size,\n",
        "            embedding_dim=embedding_dim,\n",
        "            padding_idx=pad_idx\n",
        "        )\n",
        "\n",
        "    self.lstm = nn.LSTM(\n",
        "        input_size=embedding_dim,\n",
        "        hidden_size=hidden_size,\n",
        "        num_layers=num_layers,\n",
        "        batch_first=True,\n",
        "        dropout=drop_prob,\n",
        "        bidirectional=self.bidirectional\n",
        "    )\n",
        "\n",
        "    fc_in_features = hidden_size * 2 if bidirectional else hidden_size\n",
        "\n",
        "    self.batch_norm = nn.BatchNorm1d(fc_in_features)\n",
        "    self.dropout = nn.Dropout(p=drop_prob)\n",
        "    self.fc = nn.Linear(fc_in_features, out_features=num_classes)\n",
        "\n",
        "  def forward(self, x, lengths):\n",
        "    \"\"\"\n",
        "    Forward pass for the model.\n",
        "\n",
        "    Args:\n",
        "        x (torch.Tensor): Tensor of token indices of shape (batch, seq_length).\n",
        "\n",
        "    Returns:\n",
        "        torch.Tensor: Logits of shape (batch, num_classes).\n",
        "    \"\"\"\n",
        "    lengths = lengths.cpu()\n",
        "\n",
        "    embedded = self.embedding(x)\n",
        "\n",
        "    packed_embedded = pack_padded_sequence(embedded, lengths, batch_first=True,\n",
        "                                           enforce_sorted=False)\n",
        "\n",
        "    packed_output, (h_n, c_n) = self.lstm(packed_embedded)\n",
        "\n",
        "    if self.bidirectional:\n",
        "      h_last = torch.cat((h_n[-2], h_n[-1]), dim=1)\n",
        "    else:\n",
        "      h_last = h_n[-1]\n",
        "\n",
        "    out = self.batch_norm(h_last)\n",
        "    out = self.dropout(out)\n",
        "    out = self.fc(out)\n",
        "\n",
        "    return out"
      ],
      "metadata": {
        "id": "ukOPx6QtTQx-"
      },
      "execution_count": null,
      "outputs": []
    },
    {
      "cell_type": "code",
      "source": [
        "# with zipfile.ZipFile(\"glove.6B.zip\", 'r') as zip_ref:\n",
        "#     zip_ref.extractall('./')"
      ],
      "metadata": {
        "id": "EemlIVEbBRBc"
      },
      "execution_count": null,
      "outputs": []
    },
    {
      "cell_type": "code",
      "source": [
        "# vocab_size = 10000   # size of your vocabulary\n",
        "# embedding_dim = 300\n",
        "# hidden_size = 256\n",
        "# num_layers = 2\n",
        "# num_classes = 5      # sentiment classes: 0-4\n",
        "# drop_prob = 0.5\n",
        "# pad_idx = 0\n",
        "# bidirectional = True\n",
        "\n",
        "# glove_path = \"glove.6B.300d.txt\"\n",
        "# pretrained_matrix = load_glove_embeddings(glove_path, vocab, embedding_dim)\n",
        "\n",
        "# # Create the model instance\n",
        "# model = SentimentModel(vocab_size, embedding_dim, hidden_size, num_layers,\n",
        "#                        num_classes, drop_prob, pad_idx, bidirectional,\n",
        "#                        pretrained_embeddings=pretrained_matrix)\n",
        "\n",
        "# # Dummy input: a batch of 3 sequences of token indices (padded)\n",
        "# test_input = torch.tensor([\n",
        "#     [1, 5, 234, 6543, 2, 0, 0],\n",
        "#     [1, 6, 234, 2, 0, 0, 0],\n",
        "#     [1, 7, 2, 0, 0, 0, 0]\n",
        "# ], dtype=torch.long)\n",
        "\n",
        "# test_lengths = torch.tensor(\n",
        "#     [5, 4, 3]\n",
        "#     )\n",
        "\n",
        "# # Forward pass\n",
        "# logits = model(test_input, test_lengths)\n",
        "# print(\"Logits shape:\", logits.shape)"
      ],
      "metadata": {
        "id": "os6q8OYcW7at"
      },
      "execution_count": null,
      "outputs": []
    },
    {
      "cell_type": "markdown",
      "source": [
        "# Train and Eval loop"
      ],
      "metadata": {
        "id": "MAw7zPrfceK9"
      }
    },
    {
      "cell_type": "code",
      "source": [
        "def train_loop(model, optimizer, criterion, train_loader, clip_value, device):\n",
        "    running_loss = 0\n",
        "    model.train()\n",
        "\n",
        "    pbar = tqdm(train_loader, desc='Train')\n",
        "\n",
        "    for seq, lengths, targets in pbar:\n",
        "        # pass to device\n",
        "        seq = seq.to(device)\n",
        "        lengths = torch.from_numpy(np.array(lengths))\n",
        "        lengths = lengths.to(device)\n",
        "        targets = targets.to(device)\n",
        "        # forward\n",
        "        out = model(seq, lengths)\n",
        "        loss = criterion(out, targets)\n",
        "        running_loss += loss.item()*seq.shape[0]\n",
        "        # optimize & clip\n",
        "        optimizer.zero_grad()\n",
        "        loss.backward()\n",
        "\n",
        "        if clip_value:\n",
        "          nn.utils.clip_grad_norm_(model.parameters(), clip_value)\n",
        "\n",
        "        optimizer.step()\n",
        "\n",
        "    running_loss /= len(train_loader.sampler)\n",
        "    return running_loss"
      ],
      "metadata": {
        "id": "NWeSG1wBcgZ_"
      },
      "execution_count": null,
      "outputs": []
    },
    {
      "cell_type": "code",
      "source": [
        "def eval_loop(model, criterion, eval_loader, device, ignore_index=None):\n",
        "    running_loss = 0\n",
        "    model.eval()\n",
        "\n",
        "    pbar = tqdm(eval_loader, desc='Eval')\n",
        "\n",
        "    with torch.no_grad():\n",
        "        accuracy, f1_scores = [], []\n",
        "        for seq, lengths, targets in pbar:\n",
        "            # pass to device\n",
        "            seq = seq.to(device)\n",
        "            lengths = torch.from_numpy(np.array(lengths))\n",
        "            lengths = lengths.to(device)\n",
        "            targets = targets.to(device)\n",
        "            # forward\n",
        "            out = model(seq, lengths)\n",
        "            loss = criterion(out, targets)\n",
        "            running_loss += loss.item()*seq.shape[0]\n",
        "            # calculate prediction\n",
        "            predicted = torch.argmax(out, dim=1)\n",
        "            predicted = predicted.cpu().numpy()\n",
        "            labels = targets.cpu().numpy()\n",
        "\n",
        "            accuracy.append(accuracy_score(labels, predicted))\n",
        "            f1_scores.append(f1_score(labels, predicted, average='macro'))\n",
        "    acc = sum(accuracy)/len(accuracy)\n",
        "    f1 = sum(f1_scores)/len(f1_scores)\n",
        "    running_loss /= len(eval_loader.sampler)\n",
        "    return {'accuracy':acc,\n",
        "            'f1_macro':f1,\n",
        "            'loss':running_loss}"
      ],
      "metadata": {
        "id": "4Sq8mhRdc1ew"
      },
      "execution_count": null,
      "outputs": []
    },
    {
      "cell_type": "code",
      "source": [
        "def train_model(model, optimizer, criterion, train_loader, valid_loader,\n",
        "          num_epochs, clip_value, device=Config.device, valid_loss_min=np.inf,\n",
        "          log_file=\"training_log.txt\"):\n",
        "  \"\"\"\n",
        "  Trains the model and evaluates it on the validation set every 'eval_every' epochs.\n",
        "  Logs metrics to a text file.\n",
        "\n",
        "  Args:\n",
        "      model (nn.Module): The model to train.\n",
        "      optimizer (torch.optim.Optimizer): The optimizer.\n",
        "      criterion (nn.Module): The loss function.\n",
        "      train_loader (DataLoader): DataLoader for training data.\n",
        "      valid_loader (DataLoader): DataLoader for validation data.\n",
        "      eval_every (int): How often to evaluate (in epochs).\n",
        "      num_epochs (int): Total number of epochs to train.\n",
        "      clip_value (float): Gradient clipping value.\n",
        "      device (torch.device): Device on which to train.\n",
        "      valid_loss_min (float): Best validation loss so far.\n",
        "      log_file (str): File path to save training logs.\n",
        "\n",
        "  Returns:\n",
        "      float: The best validation loss achieved.\n",
        "  \"\"\"\n",
        "\n",
        "  scheduler = ReduceLROnPlateau(optimizer, mode='min', factor=0.5, patience=4, verbose=True)\n",
        "\n",
        "  with open(log_file, \"w\") as log_f:\n",
        "    log_f.write(\"Training started\\n\")\n",
        "\n",
        "  epochs_without_improvement = 0\n",
        "\n",
        "  for epoch in range(num_epochs):\n",
        "    train_loss = train_loop(model, optimizer, criterion, train_loader, clip_value, device)\n",
        "\n",
        "    metrics = eval_loop(model, criterion, valid_loader, device)\n",
        "    log_string = (f\"Epoch: {epoch+1} | \"\n",
        "                  f\"Train Loss: {train_loss:.5f} | \"\n",
        "                  f\"Valid Loss: {metrics['loss']:.5f} | \"\n",
        "                  f\"Accuracy: {metrics['accuracy']:.5f} | \"\n",
        "                  f\"F1 Macro: {metrics['f1_macro']:.3f}\")\n",
        "    print(log_string)\n",
        "    with open(log_file, \"a\") as log_f:\n",
        "        log_f.write(log_string + \"\\n\")\n",
        "\n",
        "    # Save model if validation loss decreases\n",
        "    if metrics[\"loss\"] < valid_loss_min:\n",
        "        torch.save(model.state_dict(), \"best_model.pt\")\n",
        "        valid_loss_min = metrics[\"loss\"]\n",
        "        epochs_without_improvement = 0  # Reset counter\n",
        "    else:\n",
        "        epochs_without_improvement += 1\n",
        "\n",
        "  return valid_loss_min"
      ],
      "metadata": {
        "id": "0ObCkC27fJkc"
      },
      "execution_count": null,
      "outputs": []
    },
    {
      "cell_type": "markdown",
      "source": [
        "# Train"
      ],
      "metadata": {
        "id": "0tb7gVNAW3Um"
      }
    },
    {
      "cell_type": "code",
      "source": [
        "set_seed(Config.seed)\n",
        "\n",
        "glove_path = \"glove.6B.300d.txt\"\n",
        "pretrained_matrix = load_glove_embeddings(glove_path, vocab, Config.embedding_dim)\n",
        "\n",
        "model = SentimentModel(\n",
        "    vocab_size=len(vocab),\n",
        "    embedding_dim=Config.embedding_dim,\n",
        "    hidden_size=Config.hidden_size,\n",
        "    num_layers=Config.num_layers,\n",
        "    num_classes=Config.num_classes,\n",
        "    drop_prob=Config.drop_prob,\n",
        "    pad_idx=Config.pad_idx,\n",
        "    bidirectional=Config.bidirectional,\n",
        "    pretrained_embeddings=pretrained_matrix\n",
        ")\n",
        "\n",
        "model = model.to(Config.device)\n",
        "optimizer = optim.AdamW(model.parameters(), lr=Config.learning_rate,\n",
        "                        weight_decay=Config.weight_decay)\n",
        "criterion = nn.CrossEntropyLoss()\n",
        "\n",
        "valid_loss_min = train_model(model, optimizer, criterion, train_loader, val_loader,\n",
        "                       num_epochs=Config.num_epochs, clip_value=Config.clip_value,\n",
        "                       device=Config.device)"
      ],
      "metadata": {
        "colab": {
          "base_uri": "https://localhost:8080/"
        },
        "id": "cLBXz8ZUWyC-",
        "outputId": "1b6338c1-3482-4c4c-b72d-f38d37df378e"
      },
      "execution_count": null,
      "outputs": [
        {
          "output_type": "stream",
          "name": "stderr",
          "text": [
            "/usr/local/lib/python3.11/dist-packages/torch/optim/lr_scheduler.py:62: UserWarning: The verbose parameter is deprecated. Please use get_last_lr() to access the learning rate.\n",
            "  warnings.warn(\n",
            "Train: 100%|██████████| 27/27 [00:21<00:00,  1.26it/s]\n",
            "Eval: 100%|██████████| 12/12 [00:03<00:00,  3.03it/s]\n"
          ]
        },
        {
          "output_type": "stream",
          "name": "stdout",
          "text": [
            "Epoch: 1 | Train Loss: 1.62915 | Valid Loss: 1.54406 | Accuracy: 0.57861 | F1 Macro: 0.330\n"
          ]
        },
        {
          "output_type": "stream",
          "name": "stderr",
          "text": [
            "Train: 100%|██████████| 27/27 [00:21<00:00,  1.28it/s]\n",
            "Eval: 100%|██████████| 12/12 [00:04<00:00,  2.67it/s]\n"
          ]
        },
        {
          "output_type": "stream",
          "name": "stdout",
          "text": [
            "Epoch: 2 | Train Loss: 1.42515 | Valid Loss: 1.42074 | Accuracy: 0.58791 | F1 Macro: 0.368\n"
          ]
        },
        {
          "output_type": "stream",
          "name": "stderr",
          "text": [
            "Train: 100%|██████████| 27/27 [00:22<00:00,  1.20it/s]\n",
            "Eval: 100%|██████████| 12/12 [00:04<00:00,  2.87it/s]\n"
          ]
        },
        {
          "output_type": "stream",
          "name": "stdout",
          "text": [
            "Epoch: 3 | Train Loss: 1.33396 | Valid Loss: 1.22437 | Accuracy: 0.59547 | F1 Macro: 0.433\n"
          ]
        },
        {
          "output_type": "stream",
          "name": "stderr",
          "text": [
            "Train: 100%|██████████| 27/27 [00:22<00:00,  1.18it/s]\n",
            "Eval: 100%|██████████| 12/12 [00:04<00:00,  2.93it/s]\n"
          ]
        },
        {
          "output_type": "stream",
          "name": "stdout",
          "text": [
            "Epoch: 4 | Train Loss: 1.23879 | Valid Loss: 1.18498 | Accuracy: 0.60561 | F1 Macro: 0.419\n"
          ]
        },
        {
          "output_type": "stream",
          "name": "stderr",
          "text": [
            "Train: 100%|██████████| 27/27 [00:21<00:00,  1.24it/s]\n",
            "Eval: 100%|██████████| 12/12 [00:04<00:00,  2.64it/s]\n"
          ]
        },
        {
          "output_type": "stream",
          "name": "stdout",
          "text": [
            "Epoch: 5 | Train Loss: 1.11877 | Valid Loss: 1.06514 | Accuracy: 0.61282 | F1 Macro: 0.414\n"
          ]
        },
        {
          "output_type": "stream",
          "name": "stderr",
          "text": [
            "Train: 100%|██████████| 27/27 [00:21<00:00,  1.24it/s]\n",
            "Eval: 100%|██████████| 12/12 [00:04<00:00,  2.77it/s]\n"
          ]
        },
        {
          "output_type": "stream",
          "name": "stdout",
          "text": [
            "Epoch: 6 | Train Loss: 1.05359 | Valid Loss: 1.04979 | Accuracy: 0.61748 | F1 Macro: 0.433\n"
          ]
        },
        {
          "output_type": "stream",
          "name": "stderr",
          "text": [
            "Train: 100%|██████████| 27/27 [00:22<00:00,  1.22it/s]\n",
            "Eval: 100%|██████████| 12/12 [00:04<00:00,  2.89it/s]\n"
          ]
        },
        {
          "output_type": "stream",
          "name": "stdout",
          "text": [
            "Epoch: 7 | Train Loss: 1.01666 | Valid Loss: 1.04190 | Accuracy: 0.62135 | F1 Macro: 0.453\n"
          ]
        },
        {
          "output_type": "stream",
          "name": "stderr",
          "text": [
            "Train: 100%|██████████| 27/27 [00:22<00:00,  1.23it/s]\n",
            "Eval: 100%|██████████| 12/12 [00:04<00:00,  2.78it/s]\n"
          ]
        },
        {
          "output_type": "stream",
          "name": "stdout",
          "text": [
            "Epoch: 8 | Train Loss: 0.99385 | Valid Loss: 0.99039 | Accuracy: 0.62339 | F1 Macro: 0.443\n"
          ]
        },
        {
          "output_type": "stream",
          "name": "stderr",
          "text": [
            "Train: 100%|██████████| 27/27 [00:22<00:00,  1.21it/s]\n",
            "Eval: 100%|██████████| 12/12 [00:04<00:00,  2.60it/s]\n"
          ]
        },
        {
          "output_type": "stream",
          "name": "stdout",
          "text": [
            "Epoch: 9 | Train Loss: 0.96801 | Valid Loss: 1.00166 | Accuracy: 0.62687 | F1 Macro: 0.441\n"
          ]
        },
        {
          "output_type": "stream",
          "name": "stderr",
          "text": [
            "Train: 100%|██████████| 27/27 [00:22<00:00,  1.20it/s]\n",
            "Eval: 100%|██████████| 12/12 [00:04<00:00,  2.90it/s]\n"
          ]
        },
        {
          "output_type": "stream",
          "name": "stdout",
          "text": [
            "Epoch: 10 | Train Loss: 0.95039 | Valid Loss: 1.05101 | Accuracy: 0.62576 | F1 Macro: 0.489\n"
          ]
        },
        {
          "output_type": "stream",
          "name": "stderr",
          "text": [
            "Train: 100%|██████████| 27/27 [00:22<00:00,  1.22it/s]\n",
            "Eval: 100%|██████████| 12/12 [00:04<00:00,  2.62it/s]\n"
          ]
        },
        {
          "output_type": "stream",
          "name": "stdout",
          "text": [
            "Epoch: 11 | Train Loss: 0.92280 | Valid Loss: 0.96220 | Accuracy: 0.63991 | F1 Macro: 0.482\n"
          ]
        },
        {
          "output_type": "stream",
          "name": "stderr",
          "text": [
            "Train: 100%|██████████| 27/27 [00:22<00:00,  1.21it/s]\n",
            "Eval: 100%|██████████| 12/12 [00:04<00:00,  2.90it/s]\n"
          ]
        },
        {
          "output_type": "stream",
          "name": "stdout",
          "text": [
            "Epoch: 12 | Train Loss: 0.89659 | Valid Loss: 0.96739 | Accuracy: 0.64308 | F1 Macro: 0.494\n"
          ]
        },
        {
          "output_type": "stream",
          "name": "stderr",
          "text": [
            "Train: 100%|██████████| 27/27 [00:22<00:00,  1.20it/s]\n",
            "Eval: 100%|██████████| 12/12 [00:04<00:00,  2.59it/s]\n"
          ]
        },
        {
          "output_type": "stream",
          "name": "stdout",
          "text": [
            "Epoch: 13 | Train Loss: 0.87220 | Valid Loss: 0.95987 | Accuracy: 0.64772 | F1 Macro: 0.502\n"
          ]
        },
        {
          "output_type": "stream",
          "name": "stderr",
          "text": [
            "Train: 100%|██████████| 27/27 [00:22<00:00,  1.22it/s]\n",
            "Eval: 100%|██████████| 12/12 [00:04<00:00,  2.86it/s]\n"
          ]
        },
        {
          "output_type": "stream",
          "name": "stdout",
          "text": [
            "Epoch: 14 | Train Loss: 0.86192 | Valid Loss: 0.94687 | Accuracy: 0.64805 | F1 Macro: 0.480\n"
          ]
        },
        {
          "output_type": "stream",
          "name": "stderr",
          "text": [
            "Train: 100%|██████████| 27/27 [00:22<00:00,  1.21it/s]\n",
            "Eval: 100%|██████████| 12/12 [00:04<00:00,  2.62it/s]\n"
          ]
        },
        {
          "output_type": "stream",
          "name": "stdout",
          "text": [
            "Epoch: 15 | Train Loss: 0.83841 | Valid Loss: 0.92321 | Accuracy: 0.65452 | F1 Macro: 0.514\n"
          ]
        },
        {
          "output_type": "stream",
          "name": "stderr",
          "text": [
            "Train: 100%|██████████| 27/27 [00:22<00:00,  1.20it/s]\n",
            "Eval: 100%|██████████| 12/12 [00:04<00:00,  2.86it/s]\n"
          ]
        },
        {
          "output_type": "stream",
          "name": "stdout",
          "text": [
            "Epoch: 16 | Train Loss: 0.81724 | Valid Loss: 0.90961 | Accuracy: 0.65681 | F1 Macro: 0.513\n"
          ]
        },
        {
          "output_type": "stream",
          "name": "stderr",
          "text": [
            "Train: 100%|██████████| 27/27 [00:22<00:00,  1.22it/s]\n",
            "Eval: 100%|██████████| 12/12 [00:04<00:00,  2.63it/s]\n"
          ]
        },
        {
          "output_type": "stream",
          "name": "stdout",
          "text": [
            "Epoch: 17 | Train Loss: 0.80187 | Valid Loss: 0.91020 | Accuracy: 0.65497 | F1 Macro: 0.496\n"
          ]
        },
        {
          "output_type": "stream",
          "name": "stderr",
          "text": [
            "Train: 100%|██████████| 27/27 [00:22<00:00,  1.22it/s]\n",
            "Eval: 100%|██████████| 12/12 [00:04<00:00,  2.82it/s]\n"
          ]
        },
        {
          "output_type": "stream",
          "name": "stdout",
          "text": [
            "Epoch: 18 | Train Loss: 0.78930 | Valid Loss: 0.92903 | Accuracy: 0.65829 | F1 Macro: 0.536\n"
          ]
        },
        {
          "output_type": "stream",
          "name": "stderr",
          "text": [
            "Train: 100%|██████████| 27/27 [00:22<00:00,  1.19it/s]\n",
            "Eval: 100%|██████████| 12/12 [00:04<00:00,  2.61it/s]\n"
          ]
        },
        {
          "output_type": "stream",
          "name": "stdout",
          "text": [
            "Epoch: 19 | Train Loss: 0.77209 | Valid Loss: 0.92049 | Accuracy: 0.66285 | F1 Macro: 0.538\n"
          ]
        },
        {
          "output_type": "stream",
          "name": "stderr",
          "text": [
            "Train: 100%|██████████| 27/27 [00:22<00:00,  1.22it/s]\n",
            "Eval: 100%|██████████| 12/12 [00:04<00:00,  2.88it/s]\n"
          ]
        },
        {
          "output_type": "stream",
          "name": "stdout",
          "text": [
            "Epoch: 20 | Train Loss: 0.75613 | Valid Loss: 0.90845 | Accuracy: 0.66712 | F1 Macro: 0.535\n"
          ]
        },
        {
          "output_type": "stream",
          "name": "stderr",
          "text": [
            "Train: 100%|██████████| 27/27 [00:22<00:00,  1.19it/s]\n",
            "Eval: 100%|██████████| 12/12 [00:04<00:00,  2.60it/s]\n"
          ]
        },
        {
          "output_type": "stream",
          "name": "stdout",
          "text": [
            "Epoch: 21 | Train Loss: 0.74406 | Valid Loss: 0.90878 | Accuracy: 0.66558 | F1 Macro: 0.532\n"
          ]
        },
        {
          "output_type": "stream",
          "name": "stderr",
          "text": [
            "Train: 100%|██████████| 27/27 [00:22<00:00,  1.22it/s]\n",
            "Eval: 100%|██████████| 12/12 [00:04<00:00,  2.90it/s]\n"
          ]
        },
        {
          "output_type": "stream",
          "name": "stdout",
          "text": [
            "Epoch: 22 | Train Loss: 0.73940 | Valid Loss: 0.90385 | Accuracy: 0.66521 | F1 Macro: 0.543\n"
          ]
        },
        {
          "output_type": "stream",
          "name": "stderr",
          "text": [
            "Train: 100%|██████████| 27/27 [00:22<00:00,  1.22it/s]\n",
            "Eval: 100%|██████████| 12/12 [00:04<00:00,  2.64it/s]\n"
          ]
        },
        {
          "output_type": "stream",
          "name": "stdout",
          "text": [
            "Epoch: 23 | Train Loss: 0.71977 | Valid Loss: 0.92924 | Accuracy: 0.66729 | F1 Macro: 0.547\n"
          ]
        },
        {
          "output_type": "stream",
          "name": "stderr",
          "text": [
            "Train: 100%|██████████| 27/27 [00:21<00:00,  1.23it/s]\n",
            "Eval: 100%|██████████| 12/12 [00:04<00:00,  2.89it/s]\n"
          ]
        },
        {
          "output_type": "stream",
          "name": "stdout",
          "text": [
            "Epoch: 24 | Train Loss: 0.71040 | Valid Loss: 0.91038 | Accuracy: 0.66842 | F1 Macro: 0.536\n"
          ]
        },
        {
          "output_type": "stream",
          "name": "stderr",
          "text": [
            "Train: 100%|██████████| 27/27 [00:22<00:00,  1.22it/s]\n",
            "Eval: 100%|██████████| 12/12 [00:04<00:00,  2.61it/s]\n"
          ]
        },
        {
          "output_type": "stream",
          "name": "stdout",
          "text": [
            "Epoch: 25 | Train Loss: 0.70437 | Valid Loss: 0.91216 | Accuracy: 0.66869 | F1 Macro: 0.559\n"
          ]
        },
        {
          "output_type": "stream",
          "name": "stderr",
          "text": [
            "Train: 100%|██████████| 27/27 [00:22<00:00,  1.22it/s]\n",
            "Eval: 100%|██████████| 12/12 [00:04<00:00,  2.88it/s]\n"
          ]
        },
        {
          "output_type": "stream",
          "name": "stdout",
          "text": [
            "Epoch: 26 | Train Loss: 0.69626 | Valid Loss: 0.91233 | Accuracy: 0.66993 | F1 Macro: 0.554\n"
          ]
        },
        {
          "output_type": "stream",
          "name": "stderr",
          "text": [
            "Train: 100%|██████████| 27/27 [00:22<00:00,  1.23it/s]\n",
            "Eval: 100%|██████████| 12/12 [00:04<00:00,  2.62it/s]\n"
          ]
        },
        {
          "output_type": "stream",
          "name": "stdout",
          "text": [
            "Epoch: 27 | Train Loss: 0.68744 | Valid Loss: 0.92517 | Accuracy: 0.66785 | F1 Macro: 0.549\n"
          ]
        },
        {
          "output_type": "stream",
          "name": "stderr",
          "text": [
            "Train: 100%|██████████| 27/27 [00:22<00:00,  1.23it/s]\n",
            "Eval: 100%|██████████| 12/12 [00:04<00:00,  2.88it/s]\n"
          ]
        },
        {
          "output_type": "stream",
          "name": "stdout",
          "text": [
            "Epoch: 28 | Train Loss: 0.67755 | Valid Loss: 0.94100 | Accuracy: 0.67013 | F1 Macro: 0.567\n"
          ]
        },
        {
          "output_type": "stream",
          "name": "stderr",
          "text": [
            "Train: 100%|██████████| 27/27 [00:22<00:00,  1.22it/s]\n",
            "Eval: 100%|██████████| 12/12 [00:04<00:00,  2.57it/s]\n"
          ]
        },
        {
          "output_type": "stream",
          "name": "stdout",
          "text": [
            "Epoch: 29 | Train Loss: 0.67018 | Valid Loss: 0.95374 | Accuracy: 0.66220 | F1 Macro: 0.518\n"
          ]
        },
        {
          "output_type": "stream",
          "name": "stderr",
          "text": [
            "Train: 100%|██████████| 27/27 [00:22<00:00,  1.22it/s]\n",
            "Eval: 100%|██████████| 12/12 [00:04<00:00,  2.84it/s]\n"
          ]
        },
        {
          "output_type": "stream",
          "name": "stdout",
          "text": [
            "Epoch: 30 | Train Loss: 0.66703 | Valid Loss: 0.94542 | Accuracy: 0.66615 | F1 Macro: 0.554\n"
          ]
        },
        {
          "output_type": "stream",
          "name": "stderr",
          "text": [
            "Train: 100%|██████████| 27/27 [00:22<00:00,  1.22it/s]\n",
            "Eval: 100%|██████████| 12/12 [00:04<00:00,  2.57it/s]\n"
          ]
        },
        {
          "output_type": "stream",
          "name": "stdout",
          "text": [
            "Epoch: 31 | Train Loss: 0.65837 | Valid Loss: 0.94303 | Accuracy: 0.66828 | F1 Macro: 0.558\n"
          ]
        },
        {
          "output_type": "stream",
          "name": "stderr",
          "text": [
            "Train: 100%|██████████| 27/27 [00:22<00:00,  1.23it/s]\n",
            "Eval: 100%|██████████| 12/12 [00:04<00:00,  2.88it/s]\n"
          ]
        },
        {
          "output_type": "stream",
          "name": "stdout",
          "text": [
            "Epoch: 32 | Train Loss: 0.64846 | Valid Loss: 0.94332 | Accuracy: 0.66859 | F1 Macro: 0.558\n"
          ]
        },
        {
          "output_type": "stream",
          "name": "stderr",
          "text": [
            "Train:  59%|█████▉    | 16/27 [00:12<00:09,  1.20it/s]"
          ]
        }
      ]
    },
    {
      "cell_type": "code",
      "source": [
        "print(valid_loss_min)"
      ],
      "metadata": {
        "colab": {
          "base_uri": "https://localhost:8080/"
        },
        "id": "7fJ9aibPqSmM",
        "outputId": "48522da3-87d3-419d-eb6e-6c1751dfd044"
      },
      "execution_count": null,
      "outputs": [
        {
          "output_type": "stream",
          "name": "stdout",
          "text": [
            "0.8716698095276924\n"
          ]
        }
      ]
    },
    {
      "cell_type": "markdown",
      "source": [
        "# Plot metrics"
      ],
      "metadata": {
        "id": "t0CthwO97T03"
      }
    },
    {
      "cell_type": "code",
      "source": [
        "def plot_training_metrics(log_file):\n",
        "    \"\"\"\n",
        "    Reads training logs from a file and plots Train Loss, Validation Loss, Accuracy, and F1 Macro Score.\n",
        "\n",
        "    Args:\n",
        "        log_file (str): Path to the training log file.\n",
        "    \"\"\"\n",
        "    # Read log file and extract metrics\n",
        "    epochs = []\n",
        "    train_losses = []\n",
        "    valid_losses = []\n",
        "    accuracies = []\n",
        "    f1_scores = []\n",
        "\n",
        "    with open(log_file, \"r\") as file:\n",
        "        for line in file:\n",
        "            match = re.match(r\"Epoch: (\\d+) \\| Train Loss: ([\\d.]+) \\| Valid Loss: ([\\d.]+) \\| Accuracy: ([\\d.]+) \\| F1 Macro: ([\\d.]+)\", line)\n",
        "            if match:\n",
        "                epochs.append(int(match.group(1)))\n",
        "                train_losses.append(float(match.group(2)))\n",
        "                valid_losses.append(float(match.group(3)))\n",
        "                accuracies.append(float(match.group(4)))\n",
        "                f1_scores.append(float(match.group(5)))\n",
        "\n",
        "    # Convert to DataFrame for better visualization\n",
        "    df = pd.DataFrame({\n",
        "        \"Epoch\": epochs,\n",
        "        \"Train Loss\": train_losses,\n",
        "        \"Valid Loss\": valid_losses,\n",
        "        \"Accuracy\": accuracies,\n",
        "        \"F1 Macro\": f1_scores\n",
        "    })\n",
        "\n",
        "    # Plot Metrics\n",
        "    plt.figure(figsize=(12, 6))\n",
        "\n",
        "    # Train Loss vs Validation Loss\n",
        "    plt.subplot(1, 2, 1)\n",
        "    plt.plot(df[\"Epoch\"], df[\"Train Loss\"], label=\"Train Loss\", marker=\"o\")\n",
        "    plt.plot(df[\"Epoch\"], df[\"Valid Loss\"], label=\"Valid Loss\", marker=\"s\")\n",
        "    plt.xlabel(\"Epochs\")\n",
        "    plt.ylabel(\"Loss\")\n",
        "    plt.title(\"Train & Validation Loss\")\n",
        "    plt.legend()\n",
        "    plt.grid()\n",
        "\n",
        "    # Accuracy & F1 Score\n",
        "    plt.subplot(1, 2, 2)\n",
        "    plt.plot(df[\"Epoch\"], df[\"Accuracy\"], label=\"Accuracy\", marker=\"o\")\n",
        "    plt.plot(df[\"Epoch\"], df[\"F1 Macro\"], label=\"F1 Macro\", marker=\"s\")\n",
        "    plt.xlabel(\"Epochs\")\n",
        "    plt.ylabel(\"Score\")\n",
        "    plt.title(\"Accuracy & F1 Score\")\n",
        "    plt.legend()\n",
        "    plt.grid()\n",
        "\n",
        "    plt.tight_layout()\n",
        "    plt.show()"
      ],
      "metadata": {
        "id": "Z-h4gVjnpgNY"
      },
      "execution_count": null,
      "outputs": []
    },
    {
      "cell_type": "code",
      "source": [
        "log_file = \"training_log.txt\"  # Update this path if necessary\n",
        "plot_training_metrics(log_file)"
      ],
      "metadata": {
        "colab": {
          "base_uri": "https://localhost:8080/",
          "height": 449
        },
        "id": "CJEIQJLm7YW2",
        "outputId": "5fbc4e43-af33-42cd-f97f-72d925feca30"
      },
      "execution_count": null,
      "outputs": [
        {
          "output_type": "display_data",
          "data": {
            "text/plain": [
              "<Figure size 1200x600 with 2 Axes>"
            ],
            "image/png": "[encoded data removed]"
          },
          "metadata": {}
        }
      ]
    },
    {
      "cell_type": "markdown",
      "source": [
        "# Predict test set"
      ],
      "metadata": {
        "id": "SQdVZ02nXzgB"
      }
    },
    {
      "cell_type": "code",
      "source": [
        "def predict_test_set(model, test_loader, device, output_file=\"submission.csv\"):\n",
        "    \"\"\"\n",
        "    Predicts sentiment labels for the test set and creates a submission CSV file.\n",
        "\n",
        "    Args:\n",
        "        model (nn.Module): Trained model for sentiment analysis.\n",
        "        test_loader (DataLoader): DataLoader for the test set. Each batch should return:\n",
        "                                  (padded_sequences, lengths, phrase_ids)\n",
        "        device (torch.device): Device on which the model is loaded.\n",
        "        output_file (str): File name for the submission CSV.\n",
        "\n",
        "    The submission CSV will have two columns: 'PhraseId' and 'Sentiment', sorted by PhraseId.\n",
        "    \"\"\"\n",
        "    model.eval()\n",
        "    all_phrase_ids = []\n",
        "    all_predictions = []\n",
        "\n",
        "    with torch.no_grad():\n",
        "        for batch in test_loader:\n",
        "            # Unpack the batch; your test collate_fn should return phrase_ids along with the data.\n",
        "            padded_sequences, lengths, phrase_ids = batch\n",
        "\n",
        "            padded_sequences = padded_sequences.to(device)\n",
        "            lengths = torch.from_numpy(np.array(lengths))\n",
        "            lengths = lengths.to(device)\n",
        "\n",
        "            # Forward pass: get model logits\n",
        "            outputs = model(padded_sequences, lengths)\n",
        "            # Choose the class with highest probability\n",
        "            preds = torch.argmax(outputs, dim=1)\n",
        "            # Convert predictions to list\n",
        "            preds = preds.cpu().numpy().tolist()\n",
        "\n",
        "            # Collect results\n",
        "            all_predictions.extend(preds)\n",
        "            all_phrase_ids.extend(phrase_ids)\n",
        "\n",
        "    # Create a DataFrame for submission\n",
        "    submission_df = pd.DataFrame({\n",
        "        \"PhraseId\": all_phrase_ids,\n",
        "        \"Sentiment\": all_predictions\n",
        "    })\n",
        "\n",
        "    # Sort the submission by PhraseId (if necessary)\n",
        "    submission_df = submission_df.sort_values(\"PhraseId\")\n",
        "\n",
        "    # Write to CSV (without index)\n",
        "    submission_df.to_csv(output_file, index=False)\n",
        "    print(f\"Submission file saved to: {output_file}\")"
      ],
      "metadata": {
        "id": "5jzkJQWEX2Me"
      },
      "execution_count": null,
      "outputs": []
    },
    {
      "cell_type": "code",
      "source": [
        "set_seed(Config.seed)\n",
        "\n",
        "glove_path = \"glove.6B.300d.txt\"\n",
        "pretrained_matrix = load_glove_embeddings(glove_path, vocab, Config.embedding_dim)\n",
        "\n",
        "model = SentimentModel(\n",
        "    vocab_size=len(vocab),\n",
        "    embedding_dim=Config.embedding_dim,\n",
        "    hidden_size=Config.hidden_size,\n",
        "    num_layers=Config.num_layers,\n",
        "    num_classes=Config.num_classes,\n",
        "    drop_prob=Config.drop_prob,\n",
        "    pad_idx=Config.pad_idx,\n",
        "    bidirectional=Config.bidirectional,\n",
        "    pretrained_embeddings=pretrained_matrix\n",
        ")\n",
        "\n",
        "model = model.to(Config.device)\n",
        "\n",
        "model.load_state_dict(torch.load('best_model2.pt', map_location=Config.device))"
      ],
      "metadata": {
        "colab": {
          "base_uri": "https://localhost:8080/"
        },
        "id": "w3BtkPrD7fPv",
        "outputId": "b8fbc7c4-d70b-46f5-b2c3-aaf3c4d24764"
      },
      "execution_count": null,
      "outputs": [
        {
          "output_type": "stream",
          "name": "stderr",
          "text": [
            "<ipython-input-73-40892a70fe90>:20: FutureWarning: You are using `torch.load` with `weights_only=False` (the current default value), which uses the default pickle module implicitly. It is possible to construct malicious pickle data which will execute arbitrary code during unpickling (See https://github.com/pytorch/pytorch/blob/main/SECURITY.md#untrusted-models for more details). In a future release, the default value for `weights_only` will be flipped to `True`. This limits the functions that could be executed during unpickling. Arbitrary objects will no longer be allowed to be loaded via this mode unless they are explicitly allowlisted by the user via `torch.serialization.add_safe_globals`. We recommend you start setting `weights_only=True` for any use case where you don't have full control of the loaded file. Please open an issue on GitHub for any issues related to this experimental feature.\n",
            "  model.load_state_dict(torch.load('best_model2.pt', map_location=Config.device))\n"
          ]
        },
        {
          "output_type": "execute_result",
          "data": {
            "text/plain": [
              "<All keys matched successfully>"
            ]
          },
          "metadata": {},
          "execution_count": 73
        }
      ]
    },
    {
      "cell_type": "code",
      "source": [
        "predict_test_set(model, test_loader, device=Config.device, output_file=\"submission.csv\")"
      ],
      "metadata": {
        "colab": {
          "base_uri": "https://localhost:8080/"
        },
        "id": "yIxg1nWxxLZl",
        "outputId": "01bfa78b-a606-4fd2-d020-09e512a43562"
      },
      "execution_count": null,
      "outputs": [
        {
          "output_type": "stream",
          "name": "stdout",
          "text": [
            "Submission file saved to: submission.csv\n"
          ]
        }
      ]
    },
    {
      "cell_type": "code",
      "source": [],
      "metadata": {
        "id": "xgyERf8LbkFg"
      },
      "execution_count": null,
      "outputs": []
    }
  ]
}